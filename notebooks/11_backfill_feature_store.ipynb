{
 "cells": [
  {
   "cell_type": "code",
   "execution_count": 2,
   "metadata": {},
   "outputs": [],
   "source": [
    "from dotenv import load_dotenv\n",
    "import os\n",
    "from src.paths import PARENT_DIR\n",
    "\n",
    "load_dotenv(PARENT_DIR / \".env\")\n",
    "\n",
    "HOPSWORKS_API_KEY = os.environ[\"HOPSWORKS_API_KEY\"]\n",
    "HOPSWORKS_PROJECT_NAME = \"NYC_taxi_demand_project\""
   ]
  },
  {
   "cell_type": "code",
   "execution_count": 3,
   "metadata": {},
   "outputs": [
    {
     "name": "stdout",
     "output_type": "stream",
     "text": [
      "Downloading raw data from 2022 to 2024\n",
      "File 2022-01 was already in local storage\n",
      "File 2022-02 was already in local storage\n",
      "File 2022-03 was already in local storage\n",
      "File 2022-04 was already in local storage\n",
      "File 2022-05 was already in local storage\n",
      "File 2022-06 was already in local storage\n",
      "File 2022-07 was already in local storage\n",
      "File 2022-08 was already in local storage\n",
      "File 2022-09 was already in local storage\n",
      "File 2022-10 was already in local storage\n",
      "File 2022-11 was already in local storage\n",
      "File 2022-12 was already in local storage\n",
      "File 2023-01 was already in local storage\n",
      "File 2023-02 was already in local storage\n",
      "File 2023-03 was already in local storage\n",
      "File 2023-04 was already in local storage\n",
      "File 2023-05 was already in local storage\n",
      "File 2023-06 was already in local storage\n",
      "File 2023-07 was already in local storage\n",
      "File 2023-08 was already in local storage\n",
      "File 2023-09 was already in local storage\n",
      "File 2023-10 was already in local storage\n",
      "File 2023-11 was already in local storage\n",
      "File 2023-12 was already in local storage\n",
      "File 2024-01 was already in local storage\n",
      "File 2024-02 was already in local storage\n",
      "File 2024-03 was already in local storage\n",
      "File 2024-04 was already in local storage\n",
      "File 2024-05 was already in local storage\n",
      "File 2024-06 was already in local storage\n",
      "File 2024-07 was already in local storage\n",
      "File 2024-08 was already in local storage\n",
      "File 2024-09 was already in local storage\n",
      "File 2024-10 was already in local storage\n",
      "Downloading file 2024-11\n",
      "2024-11 file is not available\n",
      "Downloading file 2024-12\n",
      "2024-12 file is not available\n"
     ]
    }
   ],
   "source": [
    "from datetime import datetime\n",
    "import pandas as pd\n",
    "from src.data import load_raw_data\n",
    "\n",
    "from_year = 2022\n",
    "to_year = datetime.now().year\n",
    "print(f'Downloading raw data from {from_year} to {to_year}')\n",
    "\n",
    "rides = pd.DataFrame()\n",
    "for year in range(from_year, to_year+1):\n",
    "    \n",
    "    # download data for the whole year\n",
    "    rides_one_year = load_raw_data(year)\n",
    "    \n",
    "    # append rows\n",
    "    rides = pd.concat([rides, rides_one_year])"
   ]
  },
  {
   "cell_type": "code",
   "execution_count": 4,
   "metadata": {},
   "outputs": [
    {
     "name": "stdout",
     "output_type": "stream",
     "text": [
      "len(rides)=111,818,774\n"
     ]
    }
   ],
   "source": [
    "print(f'{len(rides)=:,}')"
   ]
  },
  {
   "cell_type": "markdown",
   "metadata": {},
   "source": [
    "## Data is from 2022 - 2024 - I've reduced the data 'rides' to just include from 2023 - 2024 due to using free HopsWorks & I don't want to push it too much on free account just now "
   ]
  },
  {
   "cell_type": "code",
   "execution_count": 5,
   "metadata": {},
   "outputs": [
    {
     "data": {
      "text/html": [
       "<div>\n",
       "<style scoped>\n",
       "    .dataframe tbody tr th:only-of-type {\n",
       "        vertical-align: middle;\n",
       "    }\n",
       "\n",
       "    .dataframe tbody tr th {\n",
       "        vertical-align: top;\n",
       "    }\n",
       "\n",
       "    .dataframe thead th {\n",
       "        text-align: right;\n",
       "    }\n",
       "</style>\n",
       "<table border=\"1\" class=\"dataframe\">\n",
       "  <thead>\n",
       "    <tr style=\"text-align: right;\">\n",
       "      <th></th>\n",
       "      <th>pickup_datetime</th>\n",
       "      <th>pickup_location_id</th>\n",
       "    </tr>\n",
       "  </thead>\n",
       "  <tbody>\n",
       "    <tr>\n",
       "      <th>3833766</th>\n",
       "      <td>2024-10-31 23:49:01</td>\n",
       "      <td>107</td>\n",
       "    </tr>\n",
       "    <tr>\n",
       "      <th>3833767</th>\n",
       "      <td>2024-10-31 23:35:15</td>\n",
       "      <td>137</td>\n",
       "    </tr>\n",
       "    <tr>\n",
       "      <th>3833768</th>\n",
       "      <td>2024-10-31 23:30:43</td>\n",
       "      <td>188</td>\n",
       "    </tr>\n",
       "    <tr>\n",
       "      <th>3833769</th>\n",
       "      <td>2024-10-31 23:00:00</td>\n",
       "      <td>230</td>\n",
       "    </tr>\n",
       "    <tr>\n",
       "      <th>3833770</th>\n",
       "      <td>2024-10-31 23:18:00</td>\n",
       "      <td>246</td>\n",
       "    </tr>\n",
       "  </tbody>\n",
       "</table>\n",
       "</div>"
      ],
      "text/plain": [
       "            pickup_datetime  pickup_location_id\n",
       "3833766 2024-10-31 23:49:01                 107\n",
       "3833767 2024-10-31 23:35:15                 137\n",
       "3833768 2024-10-31 23:30:43                 188\n",
       "3833769 2024-10-31 23:00:00                 230\n",
       "3833770 2024-10-31 23:18:00                 246"
      ]
     },
     "execution_count": 5,
     "metadata": {},
     "output_type": "execute_result"
    }
   ],
   "source": [
    "rides.tail(5)"
   ]
  },
  {
   "cell_type": "code",
   "execution_count": 6,
   "metadata": {},
   "outputs": [
    {
     "name": "stdout",
     "output_type": "stream",
     "text": [
      "datetime64[us]\n"
     ]
    }
   ],
   "source": [
    "print(rides['pickup_datetime'].dtype)"
   ]
  },
  {
   "cell_type": "code",
   "execution_count": null,
   "metadata": {},
   "outputs": [
    {
     "data": {
      "text/html": [
       "<div>\n",
       "<style scoped>\n",
       "    .dataframe tbody tr th:only-of-type {\n",
       "        vertical-align: middle;\n",
       "    }\n",
       "\n",
       "    .dataframe tbody tr th {\n",
       "        vertical-align: top;\n",
       "    }\n",
       "\n",
       "    .dataframe thead th {\n",
       "        text-align: right;\n",
       "    }\n",
       "</style>\n",
       "<table border=\"1\" class=\"dataframe\">\n",
       "  <thead>\n",
       "    <tr style=\"text-align: right;\">\n",
       "      <th></th>\n",
       "      <th>pickup_datetime</th>\n",
       "      <th>pickup_location_id</th>\n",
       "      <th>pickup_hour</th>\n",
       "    </tr>\n",
       "  </thead>\n",
       "  <tbody>\n",
       "    <tr>\n",
       "      <th>3267829</th>\n",
       "      <td>2023-10-31 01:17:52</td>\n",
       "      <td>138</td>\n",
       "      <td>2023-10-31 01:00:00</td>\n",
       "    </tr>\n",
       "    <tr>\n",
       "      <th>3268587</th>\n",
       "      <td>2023-10-31 00:01:27</td>\n",
       "      <td>132</td>\n",
       "      <td>2023-10-31 00:00:00</td>\n",
       "    </tr>\n",
       "    <tr>\n",
       "      <th>3268732</th>\n",
       "      <td>2023-10-31 00:01:57</td>\n",
       "      <td>140</td>\n",
       "      <td>2023-10-31 00:00:00</td>\n",
       "    </tr>\n",
       "    <tr>\n",
       "      <th>3268733</th>\n",
       "      <td>2023-10-31 00:00:40</td>\n",
       "      <td>238</td>\n",
       "      <td>2023-10-31 00:00:00</td>\n",
       "    </tr>\n",
       "    <tr>\n",
       "      <th>3268734</th>\n",
       "      <td>2023-10-31 00:44:27</td>\n",
       "      <td>50</td>\n",
       "      <td>2023-10-31 00:00:00</td>\n",
       "    </tr>\n",
       "    <tr>\n",
       "      <th>...</th>\n",
       "      <td>...</td>\n",
       "      <td>...</td>\n",
       "      <td>...</td>\n",
       "    </tr>\n",
       "    <tr>\n",
       "      <th>3815373</th>\n",
       "      <td>2024-10-30 23:56:36</td>\n",
       "      <td>164</td>\n",
       "      <td>2024-10-30 23:00:00</td>\n",
       "    </tr>\n",
       "    <tr>\n",
       "      <th>3815374</th>\n",
       "      <td>2024-10-30 23:35:45</td>\n",
       "      <td>230</td>\n",
       "      <td>2024-10-30 23:00:00</td>\n",
       "    </tr>\n",
       "    <tr>\n",
       "      <th>3815375</th>\n",
       "      <td>2024-10-30 23:08:59</td>\n",
       "      <td>142</td>\n",
       "      <td>2024-10-30 23:00:00</td>\n",
       "    </tr>\n",
       "    <tr>\n",
       "      <th>3815538</th>\n",
       "      <td>2024-10-31 00:00:00</td>\n",
       "      <td>158</td>\n",
       "      <td>2024-10-31 00:00:00</td>\n",
       "    </tr>\n",
       "    <tr>\n",
       "      <th>3815833</th>\n",
       "      <td>2024-10-31 00:00:00</td>\n",
       "      <td>152</td>\n",
       "      <td>2024-10-31 00:00:00</td>\n",
       "    </tr>\n",
       "  </tbody>\n",
       "</table>\n",
       "<p>40543261 rows × 3 columns</p>\n",
       "</div>"
      ],
      "text/plain": [
       "            pickup_datetime  pickup_location_id         pickup_hour\n",
       "3267829 2023-10-31 01:17:52                 138 2023-10-31 01:00:00\n",
       "3268587 2023-10-31 00:01:27                 132 2023-10-31 00:00:00\n",
       "3268732 2023-10-31 00:01:57                 140 2023-10-31 00:00:00\n",
       "3268733 2023-10-31 00:00:40                 238 2023-10-31 00:00:00\n",
       "3268734 2023-10-31 00:44:27                  50 2023-10-31 00:00:00\n",
       "...                     ...                 ...                 ...\n",
       "3815373 2024-10-30 23:56:36                 164 2024-10-30 23:00:00\n",
       "3815374 2024-10-30 23:35:45                 230 2024-10-30 23:00:00\n",
       "3815375 2024-10-30 23:08:59                 142 2024-10-30 23:00:00\n",
       "3815538 2024-10-31 00:00:00                 158 2024-10-31 00:00:00\n",
       "3815833 2024-10-31 00:00:00                 152 2024-10-31 00:00:00\n",
       "\n",
       "[40543261 rows x 3 columns]"
      ]
     },
     "execution_count": 97,
     "metadata": {},
     "output_type": "execute_result"
    },
    {
     "name": "stderr",
     "output_type": "stream",
     "text": [
      "%6|1734802075.968|FAIL|rdkafka#producer-17| [thrd:ssl://51.161.80.189:9093/bootstrap]: ssl://51.161.80.189:9093/0: Disconnected (after 49974ms in state UP, 1 identical error(s) suppressed)\n"
     ]
    }
   ],
   "source": [
    "# # After kernel restart, load it back:\n",
    "# import pandas as pd\n",
    "# rides_2023_to_2024 = pd.read_pickle('rides_2023_to_2024.pkl')\n",
    "# rides_2023_to_2024"
   ]
  },
  {
   "cell_type": "code",
   "execution_count": 7,
   "metadata": {},
   "outputs": [
    {
     "data": {
      "text/html": [
       "<div>\n",
       "<style scoped>\n",
       "    .dataframe tbody tr th:only-of-type {\n",
       "        vertical-align: middle;\n",
       "    }\n",
       "\n",
       "    .dataframe tbody tr th {\n",
       "        vertical-align: top;\n",
       "    }\n",
       "\n",
       "    .dataframe thead th {\n",
       "        text-align: right;\n",
       "    }\n",
       "</style>\n",
       "<table border=\"1\" class=\"dataframe\">\n",
       "  <thead>\n",
       "    <tr style=\"text-align: right;\">\n",
       "      <th></th>\n",
       "      <th>pickup_datetime</th>\n",
       "      <th>pickup_location_id</th>\n",
       "    </tr>\n",
       "  </thead>\n",
       "  <tbody>\n",
       "    <tr>\n",
       "      <th>3267829</th>\n",
       "      <td>2023-10-31 01:17:52</td>\n",
       "      <td>138</td>\n",
       "    </tr>\n",
       "    <tr>\n",
       "      <th>3268587</th>\n",
       "      <td>2023-10-31 00:01:27</td>\n",
       "      <td>132</td>\n",
       "    </tr>\n",
       "    <tr>\n",
       "      <th>3268732</th>\n",
       "      <td>2023-10-31 00:01:57</td>\n",
       "      <td>140</td>\n",
       "    </tr>\n",
       "    <tr>\n",
       "      <th>3268733</th>\n",
       "      <td>2023-10-31 00:00:40</td>\n",
       "      <td>238</td>\n",
       "    </tr>\n",
       "    <tr>\n",
       "      <th>3268734</th>\n",
       "      <td>2023-10-31 00:44:27</td>\n",
       "      <td>50</td>\n",
       "    </tr>\n",
       "    <tr>\n",
       "      <th>...</th>\n",
       "      <td>...</td>\n",
       "      <td>...</td>\n",
       "    </tr>\n",
       "    <tr>\n",
       "      <th>3815373</th>\n",
       "      <td>2024-10-30 23:56:36</td>\n",
       "      <td>164</td>\n",
       "    </tr>\n",
       "    <tr>\n",
       "      <th>3815374</th>\n",
       "      <td>2024-10-30 23:35:45</td>\n",
       "      <td>230</td>\n",
       "    </tr>\n",
       "    <tr>\n",
       "      <th>3815375</th>\n",
       "      <td>2024-10-30 23:08:59</td>\n",
       "      <td>142</td>\n",
       "    </tr>\n",
       "    <tr>\n",
       "      <th>3815538</th>\n",
       "      <td>2024-10-31 00:00:00</td>\n",
       "      <td>158</td>\n",
       "    </tr>\n",
       "    <tr>\n",
       "      <th>3815833</th>\n",
       "      <td>2024-10-31 00:00:00</td>\n",
       "      <td>152</td>\n",
       "    </tr>\n",
       "  </tbody>\n",
       "</table>\n",
       "<p>40543261 rows × 2 columns</p>\n",
       "</div>"
      ],
      "text/plain": [
       "            pickup_datetime  pickup_location_id\n",
       "3267829 2023-10-31 01:17:52                 138\n",
       "3268587 2023-10-31 00:01:27                 132\n",
       "3268732 2023-10-31 00:01:57                 140\n",
       "3268733 2023-10-31 00:00:40                 238\n",
       "3268734 2023-10-31 00:44:27                  50\n",
       "...                     ...                 ...\n",
       "3815373 2024-10-30 23:56:36                 164\n",
       "3815374 2024-10-30 23:35:45                 230\n",
       "3815375 2024-10-30 23:08:59                 142\n",
       "3815538 2024-10-31 00:00:00                 158\n",
       "3815833 2024-10-31 00:00:00                 152\n",
       "\n",
       "[40543261 rows x 2 columns]"
      ]
     },
     "execution_count": 7,
     "metadata": {},
     "output_type": "execute_result"
    }
   ],
   "source": [
    "rides_2023_to_2024 = rides[(rides['pickup_datetime'] >= '2023-10-31') & (rides['pickup_datetime'] <= '2024-10-31')]\n",
    "rides_2023_to_2024"
   ]
  },
  {
   "cell_type": "code",
   "execution_count": 8,
   "metadata": {},
   "outputs": [
    {
     "name": "stdout",
     "output_type": "stream",
     "text": [
      "len(rides_2023_to_2024)=40,543,261\n"
     ]
    }
   ],
   "source": [
    "print(f'{len(rides_2023_to_2024)=:,}')"
   ]
  },
  {
   "cell_type": "code",
   "execution_count": 9,
   "metadata": {},
   "outputs": [
    {
     "name": "stdout",
     "output_type": "stream",
     "text": [
      "Earliest date: 2023-10-31 00:00:03\n",
      "Latest date: 2024-10-31 00:00:00\n",
      "Number of rows: 40543261\n",
      "\n",
      "First few rows:\n",
      "            pickup_datetime  pickup_location_id\n",
      "3267829 2023-10-31 01:17:52                 138\n",
      "3268587 2023-10-31 00:01:27                 132\n",
      "3268732 2023-10-31 00:01:57                 140\n",
      "3268733 2023-10-31 00:00:40                 238\n",
      "3268734 2023-10-31 00:44:27                  50\n",
      "\n",
      "Last few rows:\n",
      "            pickup_datetime  pickup_location_id\n",
      "3815373 2024-10-30 23:56:36                 164\n",
      "3815374 2024-10-30 23:35:45                 230\n",
      "3815375 2024-10-30 23:08:59                 142\n",
      "3815538 2024-10-31 00:00:00                 158\n",
      "3815833 2024-10-31 00:00:00                 152\n",
      "\n",
      "Date range summary:\n",
      "count                      40543261\n",
      "mean     2024-05-03 14:27:30.541458\n",
      "min             2023-10-31 00:00:03\n",
      "25%             2024-02-04 10:15:31\n",
      "50%             2024-05-04 00:12:18\n",
      "75%             2024-08-02 17:23:39\n",
      "max             2024-10-31 00:00:00\n",
      "Name: pickup_datetime, dtype: object\n"
     ]
    }
   ],
   "source": [
    "# 1. Check the earliest and latest dates\n",
    "print(\"Earliest date:\", rides_2023_to_2024['pickup_datetime'].min())\n",
    "print(\"Latest date:\", rides_2023_to_2024['pickup_datetime'].max())\n",
    "\n",
    "# 2. Check how many rows you have\n",
    "print(\"Number of rows:\", len(rides_2023_to_2024))\n",
    "\n",
    "# 3. Look at the first few and last few rows\n",
    "print(\"\\nFirst few rows:\")\n",
    "print(rides_2023_to_2024.head())\n",
    "print(\"\\nLast few rows:\")\n",
    "print(rides_2023_to_2024.tail())\n",
    "\n",
    "# 4. Get a quick summary of the date range\n",
    "print(\"\\nDate range summary:\")\n",
    "print(rides_2023_to_2024['pickup_datetime'].describe())"
   ]
  },
  {
   "cell_type": "code",
   "execution_count": 11,
   "metadata": {},
   "outputs": [
    {
     "name": "stderr",
     "output_type": "stream",
     "text": [
      "/Users/keshansharp/poetry_taxi_demand_predictor/src/data.py:141: SettingWithCopyWarning: \n",
      "A value is trying to be set on a copy of a slice from a DataFrame.\n",
      "Try using .loc[row_indexer,col_indexer] = value instead\n",
      "\n",
      "See the caveats in the documentation: https://pandas.pydata.org/pandas-docs/stable/user_guide/indexing.html#returning-a-view-versus-a-copy\n",
      "  rides['pickup_hour'] = rides['pickup_datetime'].dt.floor('h')\n",
      "100%|██████████| 263/263 [00:01<00:00, 171.90it/s]\n"
     ]
    }
   ],
   "source": [
    "from src.data import transform_raw_data_into_ts_data\n",
    "\n",
    "ts_data = transform_raw_data_into_ts_data(rides_2023_to_2024)"
   ]
  },
  {
   "cell_type": "code",
   "execution_count": 12,
   "metadata": {},
   "outputs": [],
   "source": [
    "# string to datetime\n",
    "ts_data['pickup_hour'] = pd.to_datetime(ts_data['pickup_hour'], utc=True)\n",
    "\n",
    "# add column with Unix epoch milliseconds\n",
    "ts_data['pickup_ts'] = ts_data['pickup_hour'].astype(int) // 10**6"
   ]
  },
  {
   "cell_type": "code",
   "execution_count": 13,
   "metadata": {},
   "outputs": [],
   "source": [
    "import hopsworks"
   ]
  },
  {
   "cell_type": "code",
   "execution_count": 14,
   "metadata": {},
   "outputs": [],
   "source": [
    "# hopsworks.logout()\n",
    "\n",
    "# # Clear any existing connection\n",
    "# project = None\n",
    "# feature_store = None\n",
    "# feature_group = None"
   ]
  },
  {
   "cell_type": "code",
   "execution_count": 15,
   "metadata": {},
   "outputs": [
    {
     "name": "stdout",
     "output_type": "stream",
     "text": [
      "2024-12-21 17:30:11,392 INFO: Initializing external client\n",
      "2024-12-21 17:30:11,393 INFO: Base URL: https://c.app.hopsworks.ai:443\n",
      "2024-12-21 17:30:12,554 INFO: Python Engine initialized.\n",
      "\n",
      "Logged in to project, explore it here https://c.app.hopsworks.ai:443/p/1192104\n"
     ]
    }
   ],
   "source": [
    "project = hopsworks.login(\n",
    "    project=HOPSWORKS_PROJECT_NAME,\n",
    "    api_key_value=HOPSWORKS_API_KEY\n",
    ")"
   ]
  },
  {
   "cell_type": "code",
   "execution_count": 16,
   "metadata": {},
   "outputs": [],
   "source": [
    "feature_store = project.get_feature_store()"
   ]
  },
  {
   "cell_type": "code",
   "execution_count": 17,
   "metadata": {},
   "outputs": [],
   "source": [
    "FEATURE_GROUP_NAME = 'time_series_hourly_feature_group'\n",
    "FEATURE_GROUP_VERSION = 1"
   ]
  },
  {
   "cell_type": "code",
   "execution_count": 18,
   "metadata": {},
   "outputs": [],
   "source": [
    "feature_group = feature_store.get_or_create_feature_group(\n",
    "    name=FEATURE_GROUP_NAME,\n",
    "    version=FEATURE_GROUP_VERSION,\n",
    "    description=\"Time-series data at hourly frequency\",\n",
    "    primary_key = ['pickup_location_id', 'pickup_ts'],\n",
    "    event_time='pickup_ts',\n",
    ")#"
   ]
  },
  {
   "cell_type": "code",
   "execution_count": 19,
   "metadata": {},
   "outputs": [
    {
     "name": "stdout",
     "output_type": "stream",
     "text": [
      "Total rows in ts_data: 2310455\n"
     ]
    }
   ],
   "source": [
    "print(f\"Total rows in ts_data: {len(ts_data)}\")"
   ]
  },
  {
   "cell_type": "code",
   "execution_count": 20,
   "metadata": {},
   "outputs": [
    {
     "name": "stderr",
     "output_type": "stream",
     "text": [
      "Uploading Dataframe: 100.00% |██████████| Rows 2310455/2310455 | Elapsed Time: 06:35 | Remaining Time: 00:00\n"
     ]
    },
    {
     "name": "stdout",
     "output_type": "stream",
     "text": [
      "Launching job: time_series_hourly_feature_group_1_offline_fg_materialization\n",
      "Job started successfully, you can follow the progress at \n",
      "https://c.app.hopsworks.ai:443/p/1192104/jobs/named/time_series_hourly_feature_group_1_offline_fg_materialization/executions\n"
     ]
    },
    {
     "data": {
      "text/plain": [
       "(Job('time_series_hourly_feature_group_1_offline_fg_materialization', 'SPARK'),\n",
       " None)"
      ]
     },
     "execution_count": 20,
     "metadata": {},
     "output_type": "execute_result"
    }
   ],
   "source": [
    "feature_group.insert(ts_data, write_options={\"wait_for_job\": False})"
   ]
  }
 ],
 "metadata": {
  "kernelspec": {
   "display_name": ".venv",
   "language": "python",
   "name": "python3"
  },
  "language_info": {
   "codemirror_mode": {
    "name": "ipython",
    "version": 3
   },
   "file_extension": ".py",
   "mimetype": "text/x-python",
   "name": "python",
   "nbconvert_exporter": "python",
   "pygments_lexer": "ipython3",
   "version": "3.10.16"
  }
 },
 "nbformat": 4,
 "nbformat_minor": 2
}
