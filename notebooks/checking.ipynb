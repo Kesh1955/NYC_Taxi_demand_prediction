{
 "cells": [
  {
   "cell_type": "markdown",
   "metadata": {},
   "source": [
    "# See notes below for blockage on implementing monitoring and frontend monintoring"
   ]
  },
  {
   "cell_type": "code",
   "execution_count": 67,
   "metadata": {},
   "outputs": [
    {
     "name": "stdout",
     "output_type": "stream",
     "text": [
      "2025-01-25 18:20:19,599 INFO: Closing external client and cleaning up certificates.\n",
      "Connection closed.\n",
      "2025-01-25 18:20:19,607 INFO: Initializing external client\n",
      "2025-01-25 18:20:19,607 INFO: Base URL: https://c.app.hopsworks.ai:443\n",
      "2025-01-25 18:20:20,622 INFO: Python Engine initialized.\n",
      "\n",
      "Logged in to project, explore it here https://c.app.hopsworks.ai:443/p/1192104\n"
     ]
    }
   ],
   "source": [
    "import hopsworks\n",
    "import src.config as config\n",
    "# connect to the project\n",
    "project = hopsworks.login(\n",
    "    project=config.HOPSWORKS_PROJECT_NAME,\n",
    "    api_key_value=config.HOPSWORKS_API_KEY\n",
    ")\n",
    "\n",
    "# connect to the feature store\n",
    "feature_store = project.get_feature_store()\n"
   ]
  },
  {
   "cell_type": "markdown",
   "metadata": {},
   "source": [
    "# Checking what is created in 12-feature-pipeline for \"Time-series data at hourly frequency\""
   ]
  },
  {
   "cell_type": "code",
   "execution_count": 68,
   "metadata": {},
   "outputs": [],
   "source": [
    "# connect to the feature group\n",
    "feature_group = feature_store.get_or_create_feature_group(\n",
    "    name=config.FEATURE_GROUP_NAME,# \"time_series_hourly_feature_group\"\n",
    "    version=3,# config.FEATURE_GROUP_VERSION needs updated in config\n",
    "    description=\"Time-series data at hourly frequency\",\n",
    "    primary_key = ['pickup_location_id', 'pickup_ts'],\n",
    "    event_time='pickup_ts',\n",
    ")"
   ]
  },
  {
   "cell_type": "code",
   "execution_count": 69,
   "metadata": {},
   "outputs": [
    {
     "name": "stdout",
     "output_type": "stream",
     "text": [
      "Finished: Reading data from Hopsworks, using Hopsworks Feature Query Service (3.63s) \n"
     ]
    },
    {
     "data": {
      "text/plain": [
       "Index(['pickup_hour', 'rides', 'pickup_location_id', 'pickup_ts'], dtype='object')"
      ]
     },
     "execution_count": 69,
     "metadata": {},
     "output_type": "execute_result"
    }
   ],
   "source": [
    "a = feature_group.read()\n",
    "a.columns\n"
   ]
  },
  {
   "cell_type": "markdown",
   "metadata": {},
   "source": [
    "## Produces output as expected "
   ]
  },
  {
   "cell_type": "code",
   "execution_count": 70,
   "metadata": {},
   "outputs": [
    {
     "data": {
      "text/html": [
       "<div>\n",
       "<style scoped>\n",
       "    .dataframe tbody tr th:only-of-type {\n",
       "        vertical-align: middle;\n",
       "    }\n",
       "\n",
       "    .dataframe tbody tr th {\n",
       "        vertical-align: top;\n",
       "    }\n",
       "\n",
       "    .dataframe thead th {\n",
       "        text-align: right;\n",
       "    }\n",
       "</style>\n",
       "<table border=\"1\" class=\"dataframe\">\n",
       "  <thead>\n",
       "    <tr style=\"text-align: right;\">\n",
       "      <th></th>\n",
       "      <th>pickup_hour</th>\n",
       "      <th>rides</th>\n",
       "      <th>pickup_location_id</th>\n",
       "      <th>pickup_ts</th>\n",
       "    </tr>\n",
       "  </thead>\n",
       "  <tbody>\n",
       "    <tr>\n",
       "      <th>0</th>\n",
       "      <td>2024-10-03 21:00:00+00:00</td>\n",
       "      <td>0</td>\n",
       "      <td>60</td>\n",
       "      <td>1727989200000</td>\n",
       "    </tr>\n",
       "    <tr>\n",
       "      <th>1</th>\n",
       "      <td>2024-10-25 13:00:00+00:00</td>\n",
       "      <td>0</td>\n",
       "      <td>174</td>\n",
       "      <td>1729861200000</td>\n",
       "    </tr>\n",
       "    <tr>\n",
       "      <th>2</th>\n",
       "      <td>2024-10-03 13:00:00+00:00</td>\n",
       "      <td>0</td>\n",
       "      <td>51</td>\n",
       "      <td>1727960400000</td>\n",
       "    </tr>\n",
       "    <tr>\n",
       "      <th>3</th>\n",
       "      <td>2024-10-19 13:00:00+00:00</td>\n",
       "      <td>131</td>\n",
       "      <td>90</td>\n",
       "      <td>1729342800000</td>\n",
       "    </tr>\n",
       "    <tr>\n",
       "      <th>4</th>\n",
       "      <td>2024-10-17 17:00:00+00:00</td>\n",
       "      <td>0</td>\n",
       "      <td>117</td>\n",
       "      <td>1729184400000</td>\n",
       "    </tr>\n",
       "    <tr>\n",
       "      <th>...</th>\n",
       "      <td>...</td>\n",
       "      <td>...</td>\n",
       "      <td>...</td>\n",
       "      <td>...</td>\n",
       "    </tr>\n",
       "    <tr>\n",
       "      <th>171610</th>\n",
       "      <td>2024-10-15 04:00:00+00:00</td>\n",
       "      <td>0</td>\n",
       "      <td>81</td>\n",
       "      <td>1728964800000</td>\n",
       "    </tr>\n",
       "    <tr>\n",
       "      <th>171611</th>\n",
       "      <td>2024-10-08 23:00:00+00:00</td>\n",
       "      <td>94</td>\n",
       "      <td>68</td>\n",
       "      <td>1728428400000</td>\n",
       "    </tr>\n",
       "    <tr>\n",
       "      <th>171612</th>\n",
       "      <td>2024-10-06 00:00:00+00:00</td>\n",
       "      <td>0</td>\n",
       "      <td>251</td>\n",
       "      <td>1728172800000</td>\n",
       "    </tr>\n",
       "    <tr>\n",
       "      <th>171613</th>\n",
       "      <td>2024-10-29 16:00:00+00:00</td>\n",
       "      <td>0</td>\n",
       "      <td>202</td>\n",
       "      <td>1730217600000</td>\n",
       "    </tr>\n",
       "    <tr>\n",
       "      <th>171614</th>\n",
       "      <td>2024-10-15 13:00:00+00:00</td>\n",
       "      <td>0</td>\n",
       "      <td>3</td>\n",
       "      <td>1728997200000</td>\n",
       "    </tr>\n",
       "  </tbody>\n",
       "</table>\n",
       "<p>171615 rows × 4 columns</p>\n",
       "</div>"
      ],
      "text/plain": [
       "                     pickup_hour  rides  pickup_location_id      pickup_ts\n",
       "0      2024-10-03 21:00:00+00:00      0                  60  1727989200000\n",
       "1      2024-10-25 13:00:00+00:00      0                 174  1729861200000\n",
       "2      2024-10-03 13:00:00+00:00      0                  51  1727960400000\n",
       "3      2024-10-19 13:00:00+00:00    131                  90  1729342800000\n",
       "4      2024-10-17 17:00:00+00:00      0                 117  1729184400000\n",
       "...                          ...    ...                 ...            ...\n",
       "171610 2024-10-15 04:00:00+00:00      0                  81  1728964800000\n",
       "171611 2024-10-08 23:00:00+00:00     94                  68  1728428400000\n",
       "171612 2024-10-06 00:00:00+00:00      0                 251  1728172800000\n",
       "171613 2024-10-29 16:00:00+00:00      0                 202  1730217600000\n",
       "171614 2024-10-15 13:00:00+00:00      0                   3  1728997200000\n",
       "\n",
       "[171615 rows x 4 columns]"
      ]
     },
     "execution_count": 70,
     "metadata": {},
     "output_type": "execute_result"
    }
   ],
   "source": [
    "a"
   ]
  },
  {
   "cell_type": "markdown",
   "metadata": {},
   "source": [
    "## Running the full 28 days as we expect :)"
   ]
  },
  {
   "cell_type": "code",
   "execution_count": 71,
   "metadata": {},
   "outputs": [
    {
     "name": "stdout",
     "output_type": "stream",
     "text": [
      "2024-10-02 23:00:00+00:00\n",
      "2024-10-30 23:00:00+00:00\n"
     ]
    }
   ],
   "source": [
    "print(a.pickup_hour.min())\n",
    "print(a.pickup_hour.max())"
   ]
  },
  {
   "cell_type": "markdown",
   "metadata": {},
   "source": [
    "# Checking 14-inference-pipeline"
   ]
  },
  {
   "cell_type": "code",
   "execution_count": 72,
   "metadata": {},
   "outputs": [
    {
     "name": "stdout",
     "output_type": "stream",
     "text": [
      "2025-01-25 18:20:32,734 INFO: Closing external client and cleaning up certificates.\n",
      "Connection closed.\n",
      "2025-01-25 18:20:32,738 INFO: Initializing external client\n",
      "2025-01-25 18:20:32,738 INFO: Base URL: https://c.app.hopsworks.ai:443\n",
      "2025-01-25 18:20:33,786 INFO: Python Engine initialized.\n",
      "\n",
      "Logged in to project, explore it here https://c.app.hopsworks.ai:443/p/1192104\n"
     ]
    }
   ],
   "source": [
    "from src.feature_store_api import get_feature_store\n",
    "# connect to the feature group\n",
    "feature_group_b = get_feature_store().get_or_create_feature_group(\n",
    "    name=config.FEATURE_GROUP_MODEL_PREDICTIONS,\n",
    "    version=4,\n",
    "    description=\"Predictions generate by our production model\",\n",
    "    primary_key = ['pickup_location_id', 'pickup_hour'],\n",
    "    event_time='pickup_hour',\n",
    ")"
   ]
  },
  {
   "cell_type": "code",
   "execution_count": 73,
   "metadata": {},
   "outputs": [
    {
     "name": "stdout",
     "output_type": "stream",
     "text": [
      "Finished: Reading data from Hopsworks, using Hopsworks Feature Query Service (0.63s) \n"
     ]
    },
    {
     "data": {
      "text/plain": [
       "Index(['pickup_location_id', 'predicted_demand', 'pickup_hour'], dtype='object')"
      ]
     },
     "execution_count": 73,
     "metadata": {},
     "output_type": "execute_result"
    }
   ],
   "source": [
    "b = feature_group_b.read()\n",
    "b.columns"
   ]
  },
  {
   "cell_type": "code",
   "execution_count": 74,
   "metadata": {},
   "outputs": [
    {
     "data": {
      "text/html": [
       "<div>\n",
       "<style scoped>\n",
       "    .dataframe tbody tr th:only-of-type {\n",
       "        vertical-align: middle;\n",
       "    }\n",
       "\n",
       "    .dataframe tbody tr th {\n",
       "        vertical-align: top;\n",
       "    }\n",
       "\n",
       "    .dataframe thead th {\n",
       "        text-align: right;\n",
       "    }\n",
       "</style>\n",
       "<table border=\"1\" class=\"dataframe\">\n",
       "  <thead>\n",
       "    <tr style=\"text-align: right;\">\n",
       "      <th></th>\n",
       "      <th>pickup_location_id</th>\n",
       "      <th>predicted_demand</th>\n",
       "      <th>pickup_hour</th>\n",
       "    </tr>\n",
       "  </thead>\n",
       "  <tbody>\n",
       "    <tr>\n",
       "      <th>0</th>\n",
       "      <td>239</td>\n",
       "      <td>9.0</td>\n",
       "      <td>2024-10-31 08:00:00+00:00</td>\n",
       "    </tr>\n",
       "    <tr>\n",
       "      <th>1</th>\n",
       "      <td>95</td>\n",
       "      <td>9.0</td>\n",
       "      <td>2024-10-31 08:00:00+00:00</td>\n",
       "    </tr>\n",
       "    <tr>\n",
       "      <th>2</th>\n",
       "      <td>46</td>\n",
       "      <td>9.0</td>\n",
       "      <td>2024-10-31 08:00:00+00:00</td>\n",
       "    </tr>\n",
       "    <tr>\n",
       "      <th>3</th>\n",
       "      <td>241</td>\n",
       "      <td>9.0</td>\n",
       "      <td>2024-10-31 08:00:00+00:00</td>\n",
       "    </tr>\n",
       "    <tr>\n",
       "      <th>4</th>\n",
       "      <td>143</td>\n",
       "      <td>10.0</td>\n",
       "      <td>2024-10-31 08:00:00+00:00</td>\n",
       "    </tr>\n",
       "    <tr>\n",
       "      <th>...</th>\n",
       "      <td>...</td>\n",
       "      <td>...</td>\n",
       "      <td>...</td>\n",
       "    </tr>\n",
       "    <tr>\n",
       "      <th>250</th>\n",
       "      <td>112</td>\n",
       "      <td>9.0</td>\n",
       "      <td>2024-10-31 08:00:00+00:00</td>\n",
       "    </tr>\n",
       "    <tr>\n",
       "      <th>251</th>\n",
       "      <td>208</td>\n",
       "      <td>10.0</td>\n",
       "      <td>2024-10-31 08:00:00+00:00</td>\n",
       "    </tr>\n",
       "    <tr>\n",
       "      <th>252</th>\n",
       "      <td>197</td>\n",
       "      <td>10.0</td>\n",
       "      <td>2024-10-31 08:00:00+00:00</td>\n",
       "    </tr>\n",
       "    <tr>\n",
       "      <th>253</th>\n",
       "      <td>40</td>\n",
       "      <td>11.0</td>\n",
       "      <td>2024-10-31 08:00:00+00:00</td>\n",
       "    </tr>\n",
       "    <tr>\n",
       "      <th>254</th>\n",
       "      <td>192</td>\n",
       "      <td>9.0</td>\n",
       "      <td>2024-10-31 08:00:00+00:00</td>\n",
       "    </tr>\n",
       "  </tbody>\n",
       "</table>\n",
       "<p>255 rows × 3 columns</p>\n",
       "</div>"
      ],
      "text/plain": [
       "     pickup_location_id  predicted_demand               pickup_hour\n",
       "0                   239               9.0 2024-10-31 08:00:00+00:00\n",
       "1                    95               9.0 2024-10-31 08:00:00+00:00\n",
       "2                    46               9.0 2024-10-31 08:00:00+00:00\n",
       "3                   241               9.0 2024-10-31 08:00:00+00:00\n",
       "4                   143              10.0 2024-10-31 08:00:00+00:00\n",
       "..                  ...               ...                       ...\n",
       "250                 112               9.0 2024-10-31 08:00:00+00:00\n",
       "251                 208              10.0 2024-10-31 08:00:00+00:00\n",
       "252                 197              10.0 2024-10-31 08:00:00+00:00\n",
       "253                  40              11.0 2024-10-31 08:00:00+00:00\n",
       "254                 192               9.0 2024-10-31 08:00:00+00:00\n",
       "\n",
       "[255 rows x 3 columns]"
      ]
     },
     "execution_count": 74,
     "metadata": {},
     "output_type": "execute_result"
    }
   ],
   "source": [
    "b"
   ]
  },
  {
   "cell_type": "code",
   "execution_count": 75,
   "metadata": {},
   "outputs": [
    {
     "data": {
      "text/html": [
       "<div>\n",
       "<style scoped>\n",
       "    .dataframe tbody tr th:only-of-type {\n",
       "        vertical-align: middle;\n",
       "    }\n",
       "\n",
       "    .dataframe tbody tr th {\n",
       "        vertical-align: top;\n",
       "    }\n",
       "\n",
       "    .dataframe thead th {\n",
       "        text-align: right;\n",
       "    }\n",
       "</style>\n",
       "<table border=\"1\" class=\"dataframe\">\n",
       "  <thead>\n",
       "    <tr style=\"text-align: right;\">\n",
       "      <th></th>\n",
       "      <th>pickup_location_id</th>\n",
       "      <th>predicted_demand</th>\n",
       "      <th>pickup_hour</th>\n",
       "    </tr>\n",
       "  </thead>\n",
       "  <tbody>\n",
       "    <tr>\n",
       "      <th>0</th>\n",
       "      <td>239</td>\n",
       "      <td>9.0</td>\n",
       "      <td>2024-10-31 08:00:00+00:00</td>\n",
       "    </tr>\n",
       "    <tr>\n",
       "      <th>1</th>\n",
       "      <td>95</td>\n",
       "      <td>9.0</td>\n",
       "      <td>2024-10-31 08:00:00+00:00</td>\n",
       "    </tr>\n",
       "    <tr>\n",
       "      <th>2</th>\n",
       "      <td>46</td>\n",
       "      <td>9.0</td>\n",
       "      <td>2024-10-31 08:00:00+00:00</td>\n",
       "    </tr>\n",
       "    <tr>\n",
       "      <th>3</th>\n",
       "      <td>241</td>\n",
       "      <td>9.0</td>\n",
       "      <td>2024-10-31 08:00:00+00:00</td>\n",
       "    </tr>\n",
       "    <tr>\n",
       "      <th>4</th>\n",
       "      <td>143</td>\n",
       "      <td>10.0</td>\n",
       "      <td>2024-10-31 08:00:00+00:00</td>\n",
       "    </tr>\n",
       "    <tr>\n",
       "      <th>...</th>\n",
       "      <td>...</td>\n",
       "      <td>...</td>\n",
       "      <td>...</td>\n",
       "    </tr>\n",
       "    <tr>\n",
       "      <th>250</th>\n",
       "      <td>112</td>\n",
       "      <td>9.0</td>\n",
       "      <td>2024-10-31 08:00:00+00:00</td>\n",
       "    </tr>\n",
       "    <tr>\n",
       "      <th>251</th>\n",
       "      <td>208</td>\n",
       "      <td>10.0</td>\n",
       "      <td>2024-10-31 08:00:00+00:00</td>\n",
       "    </tr>\n",
       "    <tr>\n",
       "      <th>252</th>\n",
       "      <td>197</td>\n",
       "      <td>10.0</td>\n",
       "      <td>2024-10-31 08:00:00+00:00</td>\n",
       "    </tr>\n",
       "    <tr>\n",
       "      <th>253</th>\n",
       "      <td>40</td>\n",
       "      <td>11.0</td>\n",
       "      <td>2024-10-31 08:00:00+00:00</td>\n",
       "    </tr>\n",
       "    <tr>\n",
       "      <th>254</th>\n",
       "      <td>192</td>\n",
       "      <td>9.0</td>\n",
       "      <td>2024-10-31 08:00:00+00:00</td>\n",
       "    </tr>\n",
       "  </tbody>\n",
       "</table>\n",
       "<p>255 rows × 3 columns</p>\n",
       "</div>"
      ],
      "text/plain": [
       "     pickup_location_id  predicted_demand               pickup_hour\n",
       "0                   239               9.0 2024-10-31 08:00:00+00:00\n",
       "1                    95               9.0 2024-10-31 08:00:00+00:00\n",
       "2                    46               9.0 2024-10-31 08:00:00+00:00\n",
       "3                   241               9.0 2024-10-31 08:00:00+00:00\n",
       "4                   143              10.0 2024-10-31 08:00:00+00:00\n",
       "..                  ...               ...                       ...\n",
       "250                 112               9.0 2024-10-31 08:00:00+00:00\n",
       "251                 208              10.0 2024-10-31 08:00:00+00:00\n",
       "252                 197              10.0 2024-10-31 08:00:00+00:00\n",
       "253                  40              11.0 2024-10-31 08:00:00+00:00\n",
       "254                 192               9.0 2024-10-31 08:00:00+00:00\n",
       "\n",
       "[255 rows x 3 columns]"
      ]
     },
     "execution_count": 75,
     "metadata": {},
     "output_type": "execute_result"
    }
   ],
   "source": [
    "b"
   ]
  },
  {
   "cell_type": "code",
   "execution_count": 76,
   "metadata": {},
   "outputs": [
    {
     "name": "stdout",
     "output_type": "stream",
     "text": [
      "2024-10-31 08:00:00+00:00\n",
      "2024-10-31 08:00:00+00:00\n"
     ]
    }
   ],
   "source": [
    "print(b.pickup_hour.min())\n",
    "print(b.pickup_hour.max())"
   ]
  },
  {
   "cell_type": "code",
   "execution_count": 62,
   "metadata": {},
   "outputs": [],
   "source": [
    "# So setting the current_date to a fixed date means there are 2 things that need to happen:\n",
    "\n",
    "# 1: Every hour this runs we need to simulate +1 hour in time. Meaning current time + 1 hour \n",
    "# 2: Surely we want to start from here '2024-10-02 23:00:00+00:00' as we have known data points from here to '2024-10-30 23:00:00+00:00'"
   ]
  },
  {
   "cell_type": "code",
   "execution_count": 63,
   "metadata": {},
   "outputs": [],
   "source": [
    "# To check\n",
    "\n",
    "# model_predictions_feature_group vs time_series_hourly_feature_group"
   ]
  },
  {
   "cell_type": "markdown",
   "metadata": {},
   "source": [
    "## model_predictions_feature_group from 14-inference pipeline "
   ]
  },
  {
   "cell_type": "code",
   "execution_count": 77,
   "metadata": {},
   "outputs": [
    {
     "name": "stdout",
     "output_type": "stream",
     "text": [
      "2025-01-25 18:21:02,956 INFO: Closing external client and cleaning up certificates.\n",
      "Connection closed.\n",
      "2025-01-25 18:21:02,959 INFO: Initializing external client\n",
      "2025-01-25 18:21:02,959 INFO: Base URL: https://c.app.hopsworks.ai:443\n",
      "2025-01-25 18:21:03,984 INFO: Python Engine initialized.\n",
      "\n",
      "Logged in to project, explore it here https://c.app.hopsworks.ai:443/p/1192104\n"
     ]
    }
   ],
   "source": [
    "from src.feature_store_api import get_feature_store\n",
    "import src.config as config\n",
    "\n",
    "# connect to the feature group\n",
    "model_predictions_feature_group = get_feature_store().get_or_create_feature_group(\n",
    "    name=config.FEATURE_GROUP_MODEL_PREDICTIONS,\n",
    "    version=3,\n",
    "    description=\"Predictions generate by our production model\",\n",
    "    primary_key = ['pickup_location_id', 'pickup_hour'],\n",
    "    event_time='pickup_hour',\n",
    ")"
   ]
  },
  {
   "cell_type": "code",
   "execution_count": 78,
   "metadata": {},
   "outputs": [
    {
     "name": "stdout",
     "output_type": "stream",
     "text": [
      "Finished: Reading data from Hopsworks, using Hopsworks Feature Query Service (0.54s) \n",
      "2024-10-31 03:00:00+00:00\n",
      "2024-10-31 03:00:00+00:00\n"
     ]
    },
    {
     "data": {
      "text/html": [
       "<div>\n",
       "<style scoped>\n",
       "    .dataframe tbody tr th:only-of-type {\n",
       "        vertical-align: middle;\n",
       "    }\n",
       "\n",
       "    .dataframe tbody tr th {\n",
       "        vertical-align: top;\n",
       "    }\n",
       "\n",
       "    .dataframe thead th {\n",
       "        text-align: right;\n",
       "    }\n",
       "</style>\n",
       "<table border=\"1\" class=\"dataframe\">\n",
       "  <thead>\n",
       "    <tr style=\"text-align: right;\">\n",
       "      <th></th>\n",
       "      <th>pickup_location_id</th>\n",
       "      <th>predicted_demand</th>\n",
       "      <th>pickup_hour</th>\n",
       "      <th>pickup_ts</th>\n",
       "    </tr>\n",
       "  </thead>\n",
       "  <tbody>\n",
       "    <tr>\n",
       "      <th>0</th>\n",
       "      <td>48</td>\n",
       "      <td>6.0</td>\n",
       "      <td>2024-10-31 03:00:00+00:00</td>\n",
       "      <td>1730329</td>\n",
       "    </tr>\n",
       "    <tr>\n",
       "      <th>1</th>\n",
       "      <td>215</td>\n",
       "      <td>10.0</td>\n",
       "      <td>2024-10-31 03:00:00+00:00</td>\n",
       "      <td>1730329</td>\n",
       "    </tr>\n",
       "    <tr>\n",
       "      <th>2</th>\n",
       "      <td>150</td>\n",
       "      <td>9.0</td>\n",
       "      <td>2024-10-31 03:00:00+00:00</td>\n",
       "      <td>1730329</td>\n",
       "    </tr>\n",
       "    <tr>\n",
       "      <th>3</th>\n",
       "      <td>143</td>\n",
       "      <td>10.0</td>\n",
       "      <td>2024-10-31 03:00:00+00:00</td>\n",
       "      <td>1730329</td>\n",
       "    </tr>\n",
       "    <tr>\n",
       "      <th>4</th>\n",
       "      <td>15</td>\n",
       "      <td>9.0</td>\n",
       "      <td>2024-10-31 03:00:00+00:00</td>\n",
       "      <td>1730329</td>\n",
       "    </tr>\n",
       "    <tr>\n",
       "      <th>...</th>\n",
       "      <td>...</td>\n",
       "      <td>...</td>\n",
       "      <td>...</td>\n",
       "      <td>...</td>\n",
       "    </tr>\n",
       "    <tr>\n",
       "      <th>250</th>\n",
       "      <td>229</td>\n",
       "      <td>8.0</td>\n",
       "      <td>2024-10-31 03:00:00+00:00</td>\n",
       "      <td>1730329</td>\n",
       "    </tr>\n",
       "    <tr>\n",
       "      <th>251</th>\n",
       "      <td>169</td>\n",
       "      <td>9.0</td>\n",
       "      <td>2024-10-31 03:00:00+00:00</td>\n",
       "      <td>1730329</td>\n",
       "    </tr>\n",
       "    <tr>\n",
       "      <th>252</th>\n",
       "      <td>12</td>\n",
       "      <td>9.0</td>\n",
       "      <td>2024-10-31 03:00:00+00:00</td>\n",
       "      <td>1730329</td>\n",
       "    </tr>\n",
       "    <tr>\n",
       "      <th>253</th>\n",
       "      <td>264</td>\n",
       "      <td>9.0</td>\n",
       "      <td>2024-10-31 03:00:00+00:00</td>\n",
       "      <td>1730329</td>\n",
       "    </tr>\n",
       "    <tr>\n",
       "      <th>254</th>\n",
       "      <td>231</td>\n",
       "      <td>8.0</td>\n",
       "      <td>2024-10-31 03:00:00+00:00</td>\n",
       "      <td>1730329</td>\n",
       "    </tr>\n",
       "  </tbody>\n",
       "</table>\n",
       "<p>255 rows × 4 columns</p>\n",
       "</div>"
      ],
      "text/plain": [
       "     pickup_location_id  predicted_demand               pickup_hour  pickup_ts\n",
       "0                    48               6.0 2024-10-31 03:00:00+00:00    1730329\n",
       "1                   215              10.0 2024-10-31 03:00:00+00:00    1730329\n",
       "2                   150               9.0 2024-10-31 03:00:00+00:00    1730329\n",
       "3                   143              10.0 2024-10-31 03:00:00+00:00    1730329\n",
       "4                    15               9.0 2024-10-31 03:00:00+00:00    1730329\n",
       "..                  ...               ...                       ...        ...\n",
       "250                 229               8.0 2024-10-31 03:00:00+00:00    1730329\n",
       "251                 169               9.0 2024-10-31 03:00:00+00:00    1730329\n",
       "252                  12               9.0 2024-10-31 03:00:00+00:00    1730329\n",
       "253                 264               9.0 2024-10-31 03:00:00+00:00    1730329\n",
       "254                 231               8.0 2024-10-31 03:00:00+00:00    1730329\n",
       "\n",
       "[255 rows x 4 columns]"
      ]
     },
     "execution_count": 78,
     "metadata": {},
     "output_type": "execute_result"
    }
   ],
   "source": [
    "b = model_predictions_feature_group.read()\n",
    "b.columns\n",
    "print(b.pickup_hour.min())\n",
    "print(b.pickup_hour.max())\n",
    "b"
   ]
  },
  {
   "cell_type": "code",
   "execution_count": 79,
   "metadata": {},
   "outputs": [
    {
     "name": "stdout",
     "output_type": "stream",
     "text": [
      "Unique pickup hours in dataset:\n",
      "[Timestamp('2024-10-31 03:00:00+0000', tz='Etc/UTC')]\n",
      "\n",
      "Counts per hour:\n",
      "pickup_hour\n",
      "2024-10-31 03:00:00+00:00    255\n",
      "Name: count, dtype: int64\n"
     ]
    }
   ],
   "source": [
    "# Show unique hours\n",
    "unique_hours = b['pickup_hour'].unique()\n",
    "print(\"Unique pickup hours in dataset:\")\n",
    "print(sorted(unique_hours))\n",
    "\n",
    "# Optional: Show count per hour\n",
    "hour_counts = b['pickup_hour'].value_counts().sort_index()\n",
    "print(\"\\nCounts per hour:\")\n",
    "print(hour_counts)"
   ]
  },
  {
   "cell_type": "markdown",
   "metadata": {},
   "source": [
    "## time_series_hourly_feature_group"
   ]
  },
  {
   "cell_type": "code",
   "execution_count": 82,
   "metadata": {},
   "outputs": [],
   "source": [
    "# connect to the feature group\n",
    "time_series_feature_group = feature_store.get_or_create_feature_group(\n",
    "    name=config.FEATURE_GROUP_NAME,# \"time_series_hourly_feature_group\"\n",
    "    version=3,\n",
    "    description=\"Time-series data at hourly frequency\",\n",
    "    primary_key = ['pickup_location_id', 'pickup_ts'],\n",
    "    event_time='pickup_ts',\n",
    ")"
   ]
  },
  {
   "cell_type": "code",
   "execution_count": 83,
   "metadata": {},
   "outputs": [
    {
     "name": "stdout",
     "output_type": "stream",
     "text": [
      "Finished: Reading data from Hopsworks, using Hopsworks Feature Query Service (3.27s) \n"
     ]
    },
    {
     "data": {
      "text/html": [
       "<div>\n",
       "<style scoped>\n",
       "    .dataframe tbody tr th:only-of-type {\n",
       "        vertical-align: middle;\n",
       "    }\n",
       "\n",
       "    .dataframe tbody tr th {\n",
       "        vertical-align: top;\n",
       "    }\n",
       "\n",
       "    .dataframe thead th {\n",
       "        text-align: right;\n",
       "    }\n",
       "</style>\n",
       "<table border=\"1\" class=\"dataframe\">\n",
       "  <thead>\n",
       "    <tr style=\"text-align: right;\">\n",
       "      <th></th>\n",
       "      <th>pickup_hour</th>\n",
       "      <th>rides</th>\n",
       "      <th>pickup_location_id</th>\n",
       "      <th>pickup_ts</th>\n",
       "    </tr>\n",
       "  </thead>\n",
       "  <tbody>\n",
       "    <tr>\n",
       "      <th>48937</th>\n",
       "      <td>2024-10-02 23:00:00+00:00</td>\n",
       "      <td>10</td>\n",
       "      <td>88</td>\n",
       "      <td>1727910000000</td>\n",
       "    </tr>\n",
       "    <tr>\n",
       "      <th>48921</th>\n",
       "      <td>2024-10-02 23:00:00+00:00</td>\n",
       "      <td>7</td>\n",
       "      <td>145</td>\n",
       "      <td>1727910000000</td>\n",
       "    </tr>\n",
       "    <tr>\n",
       "      <th>48922</th>\n",
       "      <td>2024-10-02 23:00:00+00:00</td>\n",
       "      <td>0</td>\n",
       "      <td>228</td>\n",
       "      <td>1727910000000</td>\n",
       "    </tr>\n",
       "    <tr>\n",
       "      <th>48923</th>\n",
       "      <td>2024-10-02 23:00:00+00:00</td>\n",
       "      <td>0</td>\n",
       "      <td>241</td>\n",
       "      <td>1727910000000</td>\n",
       "    </tr>\n",
       "    <tr>\n",
       "      <th>48827</th>\n",
       "      <td>2024-10-02 23:00:00+00:00</td>\n",
       "      <td>16</td>\n",
       "      <td>261</td>\n",
       "      <td>1727910000000</td>\n",
       "    </tr>\n",
       "    <tr>\n",
       "      <th>...</th>\n",
       "      <td>...</td>\n",
       "      <td>...</td>\n",
       "      <td>...</td>\n",
       "      <td>...</td>\n",
       "    </tr>\n",
       "    <tr>\n",
       "      <th>33789</th>\n",
       "      <td>2024-10-30 23:00:00+00:00</td>\n",
       "      <td>171</td>\n",
       "      <td>163</td>\n",
       "      <td>1730329200000</td>\n",
       "    </tr>\n",
       "    <tr>\n",
       "      <th>108861</th>\n",
       "      <td>2024-10-30 23:00:00+00:00</td>\n",
       "      <td>0</td>\n",
       "      <td>174</td>\n",
       "      <td>1730329200000</td>\n",
       "    </tr>\n",
       "    <tr>\n",
       "      <th>154122</th>\n",
       "      <td>2024-10-30 23:00:00+00:00</td>\n",
       "      <td>120</td>\n",
       "      <td>164</td>\n",
       "      <td>1730329200000</td>\n",
       "    </tr>\n",
       "    <tr>\n",
       "      <th>114855</th>\n",
       "      <td>2024-10-30 23:00:00+00:00</td>\n",
       "      <td>0</td>\n",
       "      <td>227</td>\n",
       "      <td>1730329200000</td>\n",
       "    </tr>\n",
       "    <tr>\n",
       "      <th>63804</th>\n",
       "      <td>2024-10-30 23:00:00+00:00</td>\n",
       "      <td>0</td>\n",
       "      <td>241</td>\n",
       "      <td>1730329200000</td>\n",
       "    </tr>\n",
       "  </tbody>\n",
       "</table>\n",
       "<p>171615 rows × 4 columns</p>\n",
       "</div>"
      ],
      "text/plain": [
       "                     pickup_hour  rides  pickup_location_id      pickup_ts\n",
       "48937  2024-10-02 23:00:00+00:00     10                  88  1727910000000\n",
       "48921  2024-10-02 23:00:00+00:00      7                 145  1727910000000\n",
       "48922  2024-10-02 23:00:00+00:00      0                 228  1727910000000\n",
       "48923  2024-10-02 23:00:00+00:00      0                 241  1727910000000\n",
       "48827  2024-10-02 23:00:00+00:00     16                 261  1727910000000\n",
       "...                          ...    ...                 ...            ...\n",
       "33789  2024-10-30 23:00:00+00:00    171                 163  1730329200000\n",
       "108861 2024-10-30 23:00:00+00:00      0                 174  1730329200000\n",
       "154122 2024-10-30 23:00:00+00:00    120                 164  1730329200000\n",
       "114855 2024-10-30 23:00:00+00:00      0                 227  1730329200000\n",
       "63804  2024-10-30 23:00:00+00:00      0                 241  1730329200000\n",
       "\n",
       "[171615 rows x 4 columns]"
      ]
     },
     "execution_count": 83,
     "metadata": {},
     "output_type": "execute_result"
    }
   ],
   "source": [
    "c = time_series_feature_group.read()\n",
    "c.sort_values('pickup_hour')"
   ]
  },
  {
   "cell_type": "code",
   "execution_count": 84,
   "metadata": {},
   "outputs": [
    {
     "ename": "AttributeError",
     "evalue": "'DataFrame' object has no attribute 'close'",
     "output_type": "error",
     "traceback": [
      "\u001b[0;31m---------------------------------------------------------------------------\u001b[0m",
      "\u001b[0;31mAttributeError\u001b[0m                            Traceback (most recent call last)",
      "\u001b[0;32m/var/folders/rz/v2_v6xwd24v6fdtmrs313wmr0000gn/T/ipykernel_76460/2073808779.py\u001b[0m in \u001b[0;36m?\u001b[0;34m()\u001b[0m\n\u001b[0;32m----> 1\u001b[0;31m \u001b[0mc\u001b[0m\u001b[0;34m.\u001b[0m\u001b[0mclose\u001b[0m\u001b[0;34m\u001b[0m\u001b[0;34m\u001b[0m\u001b[0m\n\u001b[0m",
      "\u001b[0;32m~/poetry_taxi_demand_predictor/.venv/lib/python3.10/site-packages/pandas/core/generic.py\u001b[0m in \u001b[0;36m?\u001b[0;34m(self, name)\u001b[0m\n\u001b[1;32m   6200\u001b[0m             \u001b[0;32mand\u001b[0m \u001b[0mname\u001b[0m \u001b[0;32mnot\u001b[0m \u001b[0;32min\u001b[0m \u001b[0mself\u001b[0m\u001b[0;34m.\u001b[0m\u001b[0m_accessors\u001b[0m\u001b[0;34m\u001b[0m\u001b[0;34m\u001b[0m\u001b[0m\n\u001b[1;32m   6201\u001b[0m             \u001b[0;32mand\u001b[0m \u001b[0mself\u001b[0m\u001b[0;34m.\u001b[0m\u001b[0m_info_axis\u001b[0m\u001b[0;34m.\u001b[0m\u001b[0m_can_hold_identifiers_and_holds_name\u001b[0m\u001b[0;34m(\u001b[0m\u001b[0mname\u001b[0m\u001b[0;34m)\u001b[0m\u001b[0;34m\u001b[0m\u001b[0;34m\u001b[0m\u001b[0m\n\u001b[1;32m   6202\u001b[0m         ):\n\u001b[1;32m   6203\u001b[0m             \u001b[0;32mreturn\u001b[0m \u001b[0mself\u001b[0m\u001b[0;34m[\u001b[0m\u001b[0mname\u001b[0m\u001b[0;34m]\u001b[0m\u001b[0;34m\u001b[0m\u001b[0;34m\u001b[0m\u001b[0m\n\u001b[0;32m-> 6204\u001b[0;31m         \u001b[0;32mreturn\u001b[0m \u001b[0mobject\u001b[0m\u001b[0;34m.\u001b[0m\u001b[0m__getattribute__\u001b[0m\u001b[0;34m(\u001b[0m\u001b[0mself\u001b[0m\u001b[0;34m,\u001b[0m \u001b[0mname\u001b[0m\u001b[0;34m)\u001b[0m\u001b[0;34m\u001b[0m\u001b[0;34m\u001b[0m\u001b[0m\n\u001b[0m",
      "\u001b[0;31mAttributeError\u001b[0m: 'DataFrame' object has no attribute 'close'"
     ]
    }
   ],
   "source": [
    "c.close"
   ]
  },
  {
   "cell_type": "code",
   "execution_count": 85,
   "metadata": {},
   "outputs": [
    {
     "name": "stdout",
     "output_type": "stream",
     "text": [
      "Unique pickup hours in dataset:\n",
      "[Timestamp('2024-10-02 23:00:00+0000', tz='Etc/UTC'), Timestamp('2024-10-03 00:00:00+0000', tz='Etc/UTC'), Timestamp('2024-10-03 01:00:00+0000', tz='Etc/UTC'), Timestamp('2024-10-03 02:00:00+0000', tz='Etc/UTC'), Timestamp('2024-10-03 03:00:00+0000', tz='Etc/UTC'), Timestamp('2024-10-03 04:00:00+0000', tz='Etc/UTC'), Timestamp('2024-10-03 05:00:00+0000', tz='Etc/UTC'), Timestamp('2024-10-03 06:00:00+0000', tz='Etc/UTC'), Timestamp('2024-10-03 07:00:00+0000', tz='Etc/UTC'), Timestamp('2024-10-03 08:00:00+0000', tz='Etc/UTC'), Timestamp('2024-10-03 09:00:00+0000', tz='Etc/UTC'), Timestamp('2024-10-03 10:00:00+0000', tz='Etc/UTC'), Timestamp('2024-10-03 11:00:00+0000', tz='Etc/UTC'), Timestamp('2024-10-03 12:00:00+0000', tz='Etc/UTC'), Timestamp('2024-10-03 13:00:00+0000', tz='Etc/UTC'), Timestamp('2024-10-03 14:00:00+0000', tz='Etc/UTC'), Timestamp('2024-10-03 15:00:00+0000', tz='Etc/UTC'), Timestamp('2024-10-03 16:00:00+0000', tz='Etc/UTC'), Timestamp('2024-10-03 17:00:00+0000', tz='Etc/UTC'), Timestamp('2024-10-03 18:00:00+0000', tz='Etc/UTC'), Timestamp('2024-10-03 19:00:00+0000', tz='Etc/UTC'), Timestamp('2024-10-03 20:00:00+0000', tz='Etc/UTC'), Timestamp('2024-10-03 21:00:00+0000', tz='Etc/UTC'), Timestamp('2024-10-03 22:00:00+0000', tz='Etc/UTC'), Timestamp('2024-10-03 23:00:00+0000', tz='Etc/UTC'), Timestamp('2024-10-04 00:00:00+0000', tz='Etc/UTC'), Timestamp('2024-10-04 01:00:00+0000', tz='Etc/UTC'), Timestamp('2024-10-04 02:00:00+0000', tz='Etc/UTC'), Timestamp('2024-10-04 03:00:00+0000', tz='Etc/UTC'), Timestamp('2024-10-04 04:00:00+0000', tz='Etc/UTC'), Timestamp('2024-10-04 05:00:00+0000', tz='Etc/UTC'), Timestamp('2024-10-04 06:00:00+0000', tz='Etc/UTC'), Timestamp('2024-10-04 07:00:00+0000', tz='Etc/UTC'), Timestamp('2024-10-04 08:00:00+0000', tz='Etc/UTC'), Timestamp('2024-10-04 09:00:00+0000', tz='Etc/UTC'), Timestamp('2024-10-04 10:00:00+0000', tz='Etc/UTC'), Timestamp('2024-10-04 11:00:00+0000', tz='Etc/UTC'), Timestamp('2024-10-04 12:00:00+0000', tz='Etc/UTC'), Timestamp('2024-10-04 13:00:00+0000', tz='Etc/UTC'), Timestamp('2024-10-04 14:00:00+0000', tz='Etc/UTC'), Timestamp('2024-10-04 15:00:00+0000', tz='Etc/UTC'), Timestamp('2024-10-04 16:00:00+0000', tz='Etc/UTC'), Timestamp('2024-10-04 17:00:00+0000', tz='Etc/UTC'), Timestamp('2024-10-04 18:00:00+0000', tz='Etc/UTC'), Timestamp('2024-10-04 19:00:00+0000', tz='Etc/UTC'), Timestamp('2024-10-04 20:00:00+0000', tz='Etc/UTC'), Timestamp('2024-10-04 21:00:00+0000', tz='Etc/UTC'), Timestamp('2024-10-04 22:00:00+0000', tz='Etc/UTC'), Timestamp('2024-10-04 23:00:00+0000', tz='Etc/UTC'), Timestamp('2024-10-05 00:00:00+0000', tz='Etc/UTC'), Timestamp('2024-10-05 01:00:00+0000', tz='Etc/UTC'), Timestamp('2024-10-05 02:00:00+0000', tz='Etc/UTC'), Timestamp('2024-10-05 03:00:00+0000', tz='Etc/UTC'), Timestamp('2024-10-05 04:00:00+0000', tz='Etc/UTC'), Timestamp('2024-10-05 05:00:00+0000', tz='Etc/UTC'), Timestamp('2024-10-05 06:00:00+0000', tz='Etc/UTC'), Timestamp('2024-10-05 07:00:00+0000', tz='Etc/UTC'), Timestamp('2024-10-05 08:00:00+0000', tz='Etc/UTC'), Timestamp('2024-10-05 09:00:00+0000', tz='Etc/UTC'), Timestamp('2024-10-05 10:00:00+0000', tz='Etc/UTC'), Timestamp('2024-10-05 11:00:00+0000', tz='Etc/UTC'), Timestamp('2024-10-05 12:00:00+0000', tz='Etc/UTC'), Timestamp('2024-10-05 13:00:00+0000', tz='Etc/UTC'), Timestamp('2024-10-05 14:00:00+0000', tz='Etc/UTC'), Timestamp('2024-10-05 15:00:00+0000', tz='Etc/UTC'), Timestamp('2024-10-05 16:00:00+0000', tz='Etc/UTC'), Timestamp('2024-10-05 17:00:00+0000', tz='Etc/UTC'), Timestamp('2024-10-05 18:00:00+0000', tz='Etc/UTC'), Timestamp('2024-10-05 19:00:00+0000', tz='Etc/UTC'), Timestamp('2024-10-05 20:00:00+0000', tz='Etc/UTC'), Timestamp('2024-10-05 21:00:00+0000', tz='Etc/UTC'), Timestamp('2024-10-05 22:00:00+0000', tz='Etc/UTC'), Timestamp('2024-10-05 23:00:00+0000', tz='Etc/UTC'), Timestamp('2024-10-06 00:00:00+0000', tz='Etc/UTC'), Timestamp('2024-10-06 01:00:00+0000', tz='Etc/UTC'), Timestamp('2024-10-06 02:00:00+0000', tz='Etc/UTC'), Timestamp('2024-10-06 03:00:00+0000', tz='Etc/UTC'), Timestamp('2024-10-06 04:00:00+0000', tz='Etc/UTC'), Timestamp('2024-10-06 05:00:00+0000', tz='Etc/UTC'), Timestamp('2024-10-06 06:00:00+0000', tz='Etc/UTC'), Timestamp('2024-10-06 07:00:00+0000', tz='Etc/UTC'), Timestamp('2024-10-06 08:00:00+0000', tz='Etc/UTC'), Timestamp('2024-10-06 09:00:00+0000', tz='Etc/UTC'), Timestamp('2024-10-06 10:00:00+0000', tz='Etc/UTC'), Timestamp('2024-10-06 11:00:00+0000', tz='Etc/UTC'), Timestamp('2024-10-06 12:00:00+0000', tz='Etc/UTC'), Timestamp('2024-10-06 13:00:00+0000', tz='Etc/UTC'), Timestamp('2024-10-06 14:00:00+0000', tz='Etc/UTC'), Timestamp('2024-10-06 15:00:00+0000', tz='Etc/UTC'), Timestamp('2024-10-06 16:00:00+0000', tz='Etc/UTC'), Timestamp('2024-10-06 17:00:00+0000', tz='Etc/UTC'), Timestamp('2024-10-06 18:00:00+0000', tz='Etc/UTC'), Timestamp('2024-10-06 19:00:00+0000', tz='Etc/UTC'), Timestamp('2024-10-06 20:00:00+0000', tz='Etc/UTC'), Timestamp('2024-10-06 21:00:00+0000', tz='Etc/UTC'), Timestamp('2024-10-06 22:00:00+0000', tz='Etc/UTC'), Timestamp('2024-10-06 23:00:00+0000', tz='Etc/UTC'), Timestamp('2024-10-07 00:00:00+0000', tz='Etc/UTC'), Timestamp('2024-10-07 01:00:00+0000', tz='Etc/UTC'), Timestamp('2024-10-07 02:00:00+0000', tz='Etc/UTC'), Timestamp('2024-10-07 03:00:00+0000', tz='Etc/UTC'), Timestamp('2024-10-07 04:00:00+0000', tz='Etc/UTC'), Timestamp('2024-10-07 05:00:00+0000', tz='Etc/UTC'), Timestamp('2024-10-07 06:00:00+0000', tz='Etc/UTC'), Timestamp('2024-10-07 07:00:00+0000', tz='Etc/UTC'), Timestamp('2024-10-07 08:00:00+0000', tz='Etc/UTC'), Timestamp('2024-10-07 09:00:00+0000', tz='Etc/UTC'), Timestamp('2024-10-07 10:00:00+0000', tz='Etc/UTC'), Timestamp('2024-10-07 11:00:00+0000', tz='Etc/UTC'), Timestamp('2024-10-07 12:00:00+0000', tz='Etc/UTC'), Timestamp('2024-10-07 13:00:00+0000', tz='Etc/UTC'), Timestamp('2024-10-07 14:00:00+0000', tz='Etc/UTC'), Timestamp('2024-10-07 15:00:00+0000', tz='Etc/UTC'), Timestamp('2024-10-07 16:00:00+0000', tz='Etc/UTC'), Timestamp('2024-10-07 17:00:00+0000', tz='Etc/UTC'), Timestamp('2024-10-07 18:00:00+0000', tz='Etc/UTC'), Timestamp('2024-10-07 19:00:00+0000', tz='Etc/UTC'), Timestamp('2024-10-07 20:00:00+0000', tz='Etc/UTC'), Timestamp('2024-10-07 21:00:00+0000', tz='Etc/UTC'), Timestamp('2024-10-07 22:00:00+0000', tz='Etc/UTC'), Timestamp('2024-10-07 23:00:00+0000', tz='Etc/UTC'), Timestamp('2024-10-08 00:00:00+0000', tz='Etc/UTC'), Timestamp('2024-10-08 01:00:00+0000', tz='Etc/UTC'), Timestamp('2024-10-08 02:00:00+0000', tz='Etc/UTC'), Timestamp('2024-10-08 03:00:00+0000', tz='Etc/UTC'), Timestamp('2024-10-08 04:00:00+0000', tz='Etc/UTC'), Timestamp('2024-10-08 05:00:00+0000', tz='Etc/UTC'), Timestamp('2024-10-08 06:00:00+0000', tz='Etc/UTC'), Timestamp('2024-10-08 07:00:00+0000', tz='Etc/UTC'), Timestamp('2024-10-08 08:00:00+0000', tz='Etc/UTC'), Timestamp('2024-10-08 09:00:00+0000', tz='Etc/UTC'), Timestamp('2024-10-08 10:00:00+0000', tz='Etc/UTC'), Timestamp('2024-10-08 11:00:00+0000', tz='Etc/UTC'), Timestamp('2024-10-08 12:00:00+0000', tz='Etc/UTC'), Timestamp('2024-10-08 13:00:00+0000', tz='Etc/UTC'), Timestamp('2024-10-08 14:00:00+0000', tz='Etc/UTC'), Timestamp('2024-10-08 15:00:00+0000', tz='Etc/UTC'), Timestamp('2024-10-08 16:00:00+0000', tz='Etc/UTC'), Timestamp('2024-10-08 17:00:00+0000', tz='Etc/UTC'), Timestamp('2024-10-08 18:00:00+0000', tz='Etc/UTC'), Timestamp('2024-10-08 19:00:00+0000', tz='Etc/UTC'), Timestamp('2024-10-08 20:00:00+0000', tz='Etc/UTC'), Timestamp('2024-10-08 21:00:00+0000', tz='Etc/UTC'), Timestamp('2024-10-08 22:00:00+0000', tz='Etc/UTC'), Timestamp('2024-10-08 23:00:00+0000', tz='Etc/UTC'), Timestamp('2024-10-09 00:00:00+0000', tz='Etc/UTC'), Timestamp('2024-10-09 01:00:00+0000', tz='Etc/UTC'), Timestamp('2024-10-09 02:00:00+0000', tz='Etc/UTC'), Timestamp('2024-10-09 03:00:00+0000', tz='Etc/UTC'), Timestamp('2024-10-09 04:00:00+0000', tz='Etc/UTC'), Timestamp('2024-10-09 05:00:00+0000', tz='Etc/UTC'), Timestamp('2024-10-09 06:00:00+0000', tz='Etc/UTC'), Timestamp('2024-10-09 07:00:00+0000', tz='Etc/UTC'), Timestamp('2024-10-09 08:00:00+0000', tz='Etc/UTC'), Timestamp('2024-10-09 09:00:00+0000', tz='Etc/UTC'), Timestamp('2024-10-09 10:00:00+0000', tz='Etc/UTC'), Timestamp('2024-10-09 11:00:00+0000', tz='Etc/UTC'), Timestamp('2024-10-09 12:00:00+0000', tz='Etc/UTC'), Timestamp('2024-10-09 13:00:00+0000', tz='Etc/UTC'), Timestamp('2024-10-09 14:00:00+0000', tz='Etc/UTC'), Timestamp('2024-10-09 15:00:00+0000', tz='Etc/UTC'), Timestamp('2024-10-09 16:00:00+0000', tz='Etc/UTC'), Timestamp('2024-10-09 17:00:00+0000', tz='Etc/UTC'), Timestamp('2024-10-09 18:00:00+0000', tz='Etc/UTC'), Timestamp('2024-10-09 19:00:00+0000', tz='Etc/UTC'), Timestamp('2024-10-09 20:00:00+0000', tz='Etc/UTC'), Timestamp('2024-10-09 21:00:00+0000', tz='Etc/UTC'), Timestamp('2024-10-09 22:00:00+0000', tz='Etc/UTC'), Timestamp('2024-10-09 23:00:00+0000', tz='Etc/UTC'), Timestamp('2024-10-10 00:00:00+0000', tz='Etc/UTC'), Timestamp('2024-10-10 01:00:00+0000', tz='Etc/UTC'), Timestamp('2024-10-10 02:00:00+0000', tz='Etc/UTC'), Timestamp('2024-10-10 03:00:00+0000', tz='Etc/UTC'), Timestamp('2024-10-10 04:00:00+0000', tz='Etc/UTC'), Timestamp('2024-10-10 05:00:00+0000', tz='Etc/UTC'), Timestamp('2024-10-10 06:00:00+0000', tz='Etc/UTC'), Timestamp('2024-10-10 07:00:00+0000', tz='Etc/UTC'), Timestamp('2024-10-10 08:00:00+0000', tz='Etc/UTC'), Timestamp('2024-10-10 09:00:00+0000', tz='Etc/UTC'), Timestamp('2024-10-10 10:00:00+0000', tz='Etc/UTC'), Timestamp('2024-10-10 11:00:00+0000', tz='Etc/UTC'), Timestamp('2024-10-10 12:00:00+0000', tz='Etc/UTC'), Timestamp('2024-10-10 13:00:00+0000', tz='Etc/UTC'), Timestamp('2024-10-10 14:00:00+0000', tz='Etc/UTC'), Timestamp('2024-10-10 15:00:00+0000', tz='Etc/UTC'), Timestamp('2024-10-10 16:00:00+0000', tz='Etc/UTC'), Timestamp('2024-10-10 17:00:00+0000', tz='Etc/UTC'), Timestamp('2024-10-10 18:00:00+0000', tz='Etc/UTC'), Timestamp('2024-10-10 19:00:00+0000', tz='Etc/UTC'), Timestamp('2024-10-10 20:00:00+0000', tz='Etc/UTC'), Timestamp('2024-10-10 21:00:00+0000', tz='Etc/UTC'), Timestamp('2024-10-10 22:00:00+0000', tz='Etc/UTC'), Timestamp('2024-10-10 23:00:00+0000', tz='Etc/UTC'), Timestamp('2024-10-11 00:00:00+0000', tz='Etc/UTC'), Timestamp('2024-10-11 01:00:00+0000', tz='Etc/UTC'), Timestamp('2024-10-11 02:00:00+0000', tz='Etc/UTC'), Timestamp('2024-10-11 03:00:00+0000', tz='Etc/UTC'), Timestamp('2024-10-11 04:00:00+0000', tz='Etc/UTC'), Timestamp('2024-10-11 05:00:00+0000', tz='Etc/UTC'), Timestamp('2024-10-11 06:00:00+0000', tz='Etc/UTC'), Timestamp('2024-10-11 07:00:00+0000', tz='Etc/UTC'), Timestamp('2024-10-11 08:00:00+0000', tz='Etc/UTC'), Timestamp('2024-10-11 09:00:00+0000', tz='Etc/UTC'), Timestamp('2024-10-11 10:00:00+0000', tz='Etc/UTC'), Timestamp('2024-10-11 11:00:00+0000', tz='Etc/UTC'), Timestamp('2024-10-11 12:00:00+0000', tz='Etc/UTC'), Timestamp('2024-10-11 13:00:00+0000', tz='Etc/UTC'), Timestamp('2024-10-11 14:00:00+0000', tz='Etc/UTC'), Timestamp('2024-10-11 15:00:00+0000', tz='Etc/UTC'), Timestamp('2024-10-11 16:00:00+0000', tz='Etc/UTC'), Timestamp('2024-10-11 17:00:00+0000', tz='Etc/UTC'), Timestamp('2024-10-11 18:00:00+0000', tz='Etc/UTC'), Timestamp('2024-10-11 19:00:00+0000', tz='Etc/UTC'), Timestamp('2024-10-11 20:00:00+0000', tz='Etc/UTC'), Timestamp('2024-10-11 21:00:00+0000', tz='Etc/UTC'), Timestamp('2024-10-11 22:00:00+0000', tz='Etc/UTC'), Timestamp('2024-10-11 23:00:00+0000', tz='Etc/UTC'), Timestamp('2024-10-12 00:00:00+0000', tz='Etc/UTC'), Timestamp('2024-10-12 01:00:00+0000', tz='Etc/UTC'), Timestamp('2024-10-12 02:00:00+0000', tz='Etc/UTC'), Timestamp('2024-10-12 03:00:00+0000', tz='Etc/UTC'), Timestamp('2024-10-12 04:00:00+0000', tz='Etc/UTC'), Timestamp('2024-10-12 05:00:00+0000', tz='Etc/UTC'), Timestamp('2024-10-12 06:00:00+0000', tz='Etc/UTC'), Timestamp('2024-10-12 07:00:00+0000', tz='Etc/UTC'), Timestamp('2024-10-12 08:00:00+0000', tz='Etc/UTC'), Timestamp('2024-10-12 09:00:00+0000', tz='Etc/UTC'), Timestamp('2024-10-12 10:00:00+0000', tz='Etc/UTC'), Timestamp('2024-10-12 11:00:00+0000', tz='Etc/UTC'), Timestamp('2024-10-12 12:00:00+0000', tz='Etc/UTC'), Timestamp('2024-10-12 13:00:00+0000', tz='Etc/UTC'), Timestamp('2024-10-12 14:00:00+0000', tz='Etc/UTC'), Timestamp('2024-10-12 15:00:00+0000', tz='Etc/UTC'), Timestamp('2024-10-12 16:00:00+0000', tz='Etc/UTC'), Timestamp('2024-10-12 17:00:00+0000', tz='Etc/UTC'), Timestamp('2024-10-12 18:00:00+0000', tz='Etc/UTC'), Timestamp('2024-10-12 19:00:00+0000', tz='Etc/UTC'), Timestamp('2024-10-12 20:00:00+0000', tz='Etc/UTC'), Timestamp('2024-10-12 21:00:00+0000', tz='Etc/UTC'), Timestamp('2024-10-12 22:00:00+0000', tz='Etc/UTC'), Timestamp('2024-10-12 23:00:00+0000', tz='Etc/UTC'), Timestamp('2024-10-13 00:00:00+0000', tz='Etc/UTC'), Timestamp('2024-10-13 01:00:00+0000', tz='Etc/UTC'), Timestamp('2024-10-13 02:00:00+0000', tz='Etc/UTC'), Timestamp('2024-10-13 03:00:00+0000', tz='Etc/UTC'), Timestamp('2024-10-13 04:00:00+0000', tz='Etc/UTC'), Timestamp('2024-10-13 05:00:00+0000', tz='Etc/UTC'), Timestamp('2024-10-13 06:00:00+0000', tz='Etc/UTC'), Timestamp('2024-10-13 07:00:00+0000', tz='Etc/UTC'), Timestamp('2024-10-13 08:00:00+0000', tz='Etc/UTC'), Timestamp('2024-10-13 09:00:00+0000', tz='Etc/UTC'), Timestamp('2024-10-13 10:00:00+0000', tz='Etc/UTC'), Timestamp('2024-10-13 11:00:00+0000', tz='Etc/UTC'), Timestamp('2024-10-13 12:00:00+0000', tz='Etc/UTC'), Timestamp('2024-10-13 13:00:00+0000', tz='Etc/UTC'), Timestamp('2024-10-13 14:00:00+0000', tz='Etc/UTC'), Timestamp('2024-10-13 15:00:00+0000', tz='Etc/UTC'), Timestamp('2024-10-13 16:00:00+0000', tz='Etc/UTC'), Timestamp('2024-10-13 17:00:00+0000', tz='Etc/UTC'), Timestamp('2024-10-13 18:00:00+0000', tz='Etc/UTC'), Timestamp('2024-10-13 19:00:00+0000', tz='Etc/UTC'), Timestamp('2024-10-13 20:00:00+0000', tz='Etc/UTC'), Timestamp('2024-10-13 21:00:00+0000', tz='Etc/UTC'), Timestamp('2024-10-13 22:00:00+0000', tz='Etc/UTC'), Timestamp('2024-10-13 23:00:00+0000', tz='Etc/UTC'), Timestamp('2024-10-14 00:00:00+0000', tz='Etc/UTC'), Timestamp('2024-10-14 01:00:00+0000', tz='Etc/UTC'), Timestamp('2024-10-14 02:00:00+0000', tz='Etc/UTC'), Timestamp('2024-10-14 03:00:00+0000', tz='Etc/UTC'), Timestamp('2024-10-14 04:00:00+0000', tz='Etc/UTC'), Timestamp('2024-10-14 05:00:00+0000', tz='Etc/UTC'), Timestamp('2024-10-14 06:00:00+0000', tz='Etc/UTC'), Timestamp('2024-10-14 07:00:00+0000', tz='Etc/UTC'), Timestamp('2024-10-14 08:00:00+0000', tz='Etc/UTC'), Timestamp('2024-10-14 09:00:00+0000', tz='Etc/UTC'), Timestamp('2024-10-14 10:00:00+0000', tz='Etc/UTC'), Timestamp('2024-10-14 11:00:00+0000', tz='Etc/UTC'), Timestamp('2024-10-14 12:00:00+0000', tz='Etc/UTC'), Timestamp('2024-10-14 13:00:00+0000', tz='Etc/UTC'), Timestamp('2024-10-14 14:00:00+0000', tz='Etc/UTC'), Timestamp('2024-10-14 15:00:00+0000', tz='Etc/UTC'), Timestamp('2024-10-14 16:00:00+0000', tz='Etc/UTC'), Timestamp('2024-10-14 17:00:00+0000', tz='Etc/UTC'), Timestamp('2024-10-14 18:00:00+0000', tz='Etc/UTC'), Timestamp('2024-10-14 19:00:00+0000', tz='Etc/UTC'), Timestamp('2024-10-14 20:00:00+0000', tz='Etc/UTC'), Timestamp('2024-10-14 21:00:00+0000', tz='Etc/UTC'), Timestamp('2024-10-14 22:00:00+0000', tz='Etc/UTC'), Timestamp('2024-10-14 23:00:00+0000', tz='Etc/UTC'), Timestamp('2024-10-15 00:00:00+0000', tz='Etc/UTC'), Timestamp('2024-10-15 01:00:00+0000', tz='Etc/UTC'), Timestamp('2024-10-15 02:00:00+0000', tz='Etc/UTC'), Timestamp('2024-10-15 03:00:00+0000', tz='Etc/UTC'), Timestamp('2024-10-15 04:00:00+0000', tz='Etc/UTC'), Timestamp('2024-10-15 05:00:00+0000', tz='Etc/UTC'), Timestamp('2024-10-15 06:00:00+0000', tz='Etc/UTC'), Timestamp('2024-10-15 07:00:00+0000', tz='Etc/UTC'), Timestamp('2024-10-15 08:00:00+0000', tz='Etc/UTC'), Timestamp('2024-10-15 09:00:00+0000', tz='Etc/UTC'), Timestamp('2024-10-15 10:00:00+0000', tz='Etc/UTC'), Timestamp('2024-10-15 11:00:00+0000', tz='Etc/UTC'), Timestamp('2024-10-15 12:00:00+0000', tz='Etc/UTC'), Timestamp('2024-10-15 13:00:00+0000', tz='Etc/UTC'), Timestamp('2024-10-15 14:00:00+0000', tz='Etc/UTC'), Timestamp('2024-10-15 15:00:00+0000', tz='Etc/UTC'), Timestamp('2024-10-15 16:00:00+0000', tz='Etc/UTC'), Timestamp('2024-10-15 17:00:00+0000', tz='Etc/UTC'), Timestamp('2024-10-15 18:00:00+0000', tz='Etc/UTC'), Timestamp('2024-10-15 19:00:00+0000', tz='Etc/UTC'), Timestamp('2024-10-15 20:00:00+0000', tz='Etc/UTC'), Timestamp('2024-10-15 21:00:00+0000', tz='Etc/UTC'), Timestamp('2024-10-15 22:00:00+0000', tz='Etc/UTC'), Timestamp('2024-10-15 23:00:00+0000', tz='Etc/UTC'), Timestamp('2024-10-16 00:00:00+0000', tz='Etc/UTC'), Timestamp('2024-10-16 01:00:00+0000', tz='Etc/UTC'), Timestamp('2024-10-16 02:00:00+0000', tz='Etc/UTC'), Timestamp('2024-10-16 03:00:00+0000', tz='Etc/UTC'), Timestamp('2024-10-16 04:00:00+0000', tz='Etc/UTC'), Timestamp('2024-10-16 05:00:00+0000', tz='Etc/UTC'), Timestamp('2024-10-16 06:00:00+0000', tz='Etc/UTC'), Timestamp('2024-10-16 07:00:00+0000', tz='Etc/UTC'), Timestamp('2024-10-16 08:00:00+0000', tz='Etc/UTC'), Timestamp('2024-10-16 09:00:00+0000', tz='Etc/UTC'), Timestamp('2024-10-16 10:00:00+0000', tz='Etc/UTC'), Timestamp('2024-10-16 11:00:00+0000', tz='Etc/UTC'), Timestamp('2024-10-16 12:00:00+0000', tz='Etc/UTC'), Timestamp('2024-10-16 13:00:00+0000', tz='Etc/UTC'), Timestamp('2024-10-16 14:00:00+0000', tz='Etc/UTC'), Timestamp('2024-10-16 15:00:00+0000', tz='Etc/UTC'), Timestamp('2024-10-16 16:00:00+0000', tz='Etc/UTC'), Timestamp('2024-10-16 17:00:00+0000', tz='Etc/UTC'), Timestamp('2024-10-16 18:00:00+0000', tz='Etc/UTC'), Timestamp('2024-10-16 19:00:00+0000', tz='Etc/UTC'), Timestamp('2024-10-16 20:00:00+0000', tz='Etc/UTC'), Timestamp('2024-10-16 21:00:00+0000', tz='Etc/UTC'), Timestamp('2024-10-16 22:00:00+0000', tz='Etc/UTC'), Timestamp('2024-10-16 23:00:00+0000', tz='Etc/UTC'), Timestamp('2024-10-17 00:00:00+0000', tz='Etc/UTC'), Timestamp('2024-10-17 01:00:00+0000', tz='Etc/UTC'), Timestamp('2024-10-17 02:00:00+0000', tz='Etc/UTC'), Timestamp('2024-10-17 03:00:00+0000', tz='Etc/UTC'), Timestamp('2024-10-17 04:00:00+0000', tz='Etc/UTC'), Timestamp('2024-10-17 05:00:00+0000', tz='Etc/UTC'), Timestamp('2024-10-17 06:00:00+0000', tz='Etc/UTC'), Timestamp('2024-10-17 07:00:00+0000', tz='Etc/UTC'), Timestamp('2024-10-17 08:00:00+0000', tz='Etc/UTC'), Timestamp('2024-10-17 09:00:00+0000', tz='Etc/UTC'), Timestamp('2024-10-17 10:00:00+0000', tz='Etc/UTC'), Timestamp('2024-10-17 11:00:00+0000', tz='Etc/UTC'), Timestamp('2024-10-17 12:00:00+0000', tz='Etc/UTC'), Timestamp('2024-10-17 13:00:00+0000', tz='Etc/UTC'), Timestamp('2024-10-17 14:00:00+0000', tz='Etc/UTC'), Timestamp('2024-10-17 15:00:00+0000', tz='Etc/UTC'), Timestamp('2024-10-17 16:00:00+0000', tz='Etc/UTC'), Timestamp('2024-10-17 17:00:00+0000', tz='Etc/UTC'), Timestamp('2024-10-17 18:00:00+0000', tz='Etc/UTC'), Timestamp('2024-10-17 19:00:00+0000', tz='Etc/UTC'), Timestamp('2024-10-17 20:00:00+0000', tz='Etc/UTC'), Timestamp('2024-10-17 21:00:00+0000', tz='Etc/UTC'), Timestamp('2024-10-17 22:00:00+0000', tz='Etc/UTC'), Timestamp('2024-10-17 23:00:00+0000', tz='Etc/UTC'), Timestamp('2024-10-18 00:00:00+0000', tz='Etc/UTC'), Timestamp('2024-10-18 01:00:00+0000', tz='Etc/UTC'), Timestamp('2024-10-18 02:00:00+0000', tz='Etc/UTC'), Timestamp('2024-10-18 03:00:00+0000', tz='Etc/UTC'), Timestamp('2024-10-18 04:00:00+0000', tz='Etc/UTC'), Timestamp('2024-10-18 05:00:00+0000', tz='Etc/UTC'), Timestamp('2024-10-18 06:00:00+0000', tz='Etc/UTC'), Timestamp('2024-10-18 07:00:00+0000', tz='Etc/UTC'), Timestamp('2024-10-18 08:00:00+0000', tz='Etc/UTC'), Timestamp('2024-10-18 09:00:00+0000', tz='Etc/UTC'), Timestamp('2024-10-18 10:00:00+0000', tz='Etc/UTC'), Timestamp('2024-10-18 11:00:00+0000', tz='Etc/UTC'), Timestamp('2024-10-18 12:00:00+0000', tz='Etc/UTC'), Timestamp('2024-10-18 13:00:00+0000', tz='Etc/UTC'), Timestamp('2024-10-18 14:00:00+0000', tz='Etc/UTC'), Timestamp('2024-10-18 15:00:00+0000', tz='Etc/UTC'), Timestamp('2024-10-18 16:00:00+0000', tz='Etc/UTC'), Timestamp('2024-10-18 17:00:00+0000', tz='Etc/UTC'), Timestamp('2024-10-18 18:00:00+0000', tz='Etc/UTC'), Timestamp('2024-10-18 19:00:00+0000', tz='Etc/UTC'), Timestamp('2024-10-18 20:00:00+0000', tz='Etc/UTC'), Timestamp('2024-10-18 21:00:00+0000', tz='Etc/UTC'), Timestamp('2024-10-18 22:00:00+0000', tz='Etc/UTC'), Timestamp('2024-10-18 23:00:00+0000', tz='Etc/UTC'), Timestamp('2024-10-19 00:00:00+0000', tz='Etc/UTC'), Timestamp('2024-10-19 01:00:00+0000', tz='Etc/UTC'), Timestamp('2024-10-19 02:00:00+0000', tz='Etc/UTC'), Timestamp('2024-10-19 03:00:00+0000', tz='Etc/UTC'), Timestamp('2024-10-19 04:00:00+0000', tz='Etc/UTC'), Timestamp('2024-10-19 05:00:00+0000', tz='Etc/UTC'), Timestamp('2024-10-19 06:00:00+0000', tz='Etc/UTC'), Timestamp('2024-10-19 07:00:00+0000', tz='Etc/UTC'), Timestamp('2024-10-19 08:00:00+0000', tz='Etc/UTC'), Timestamp('2024-10-19 09:00:00+0000', tz='Etc/UTC'), Timestamp('2024-10-19 10:00:00+0000', tz='Etc/UTC'), Timestamp('2024-10-19 11:00:00+0000', tz='Etc/UTC'), Timestamp('2024-10-19 12:00:00+0000', tz='Etc/UTC'), Timestamp('2024-10-19 13:00:00+0000', tz='Etc/UTC'), Timestamp('2024-10-19 14:00:00+0000', tz='Etc/UTC'), Timestamp('2024-10-19 15:00:00+0000', tz='Etc/UTC'), Timestamp('2024-10-19 16:00:00+0000', tz='Etc/UTC'), Timestamp('2024-10-19 17:00:00+0000', tz='Etc/UTC'), Timestamp('2024-10-19 18:00:00+0000', tz='Etc/UTC'), Timestamp('2024-10-19 19:00:00+0000', tz='Etc/UTC'), Timestamp('2024-10-19 20:00:00+0000', tz='Etc/UTC'), Timestamp('2024-10-19 21:00:00+0000', tz='Etc/UTC'), Timestamp('2024-10-19 22:00:00+0000', tz='Etc/UTC'), Timestamp('2024-10-19 23:00:00+0000', tz='Etc/UTC'), Timestamp('2024-10-20 00:00:00+0000', tz='Etc/UTC'), Timestamp('2024-10-20 01:00:00+0000', tz='Etc/UTC'), Timestamp('2024-10-20 02:00:00+0000', tz='Etc/UTC'), Timestamp('2024-10-20 03:00:00+0000', tz='Etc/UTC'), Timestamp('2024-10-20 04:00:00+0000', tz='Etc/UTC'), Timestamp('2024-10-20 05:00:00+0000', tz='Etc/UTC'), Timestamp('2024-10-20 06:00:00+0000', tz='Etc/UTC'), Timestamp('2024-10-20 07:00:00+0000', tz='Etc/UTC'), Timestamp('2024-10-20 08:00:00+0000', tz='Etc/UTC'), Timestamp('2024-10-20 09:00:00+0000', tz='Etc/UTC'), Timestamp('2024-10-20 10:00:00+0000', tz='Etc/UTC'), Timestamp('2024-10-20 11:00:00+0000', tz='Etc/UTC'), Timestamp('2024-10-20 12:00:00+0000', tz='Etc/UTC'), Timestamp('2024-10-20 13:00:00+0000', tz='Etc/UTC'), Timestamp('2024-10-20 14:00:00+0000', tz='Etc/UTC'), Timestamp('2024-10-20 15:00:00+0000', tz='Etc/UTC'), Timestamp('2024-10-20 16:00:00+0000', tz='Etc/UTC'), Timestamp('2024-10-20 17:00:00+0000', tz='Etc/UTC'), Timestamp('2024-10-20 18:00:00+0000', tz='Etc/UTC'), Timestamp('2024-10-20 19:00:00+0000', tz='Etc/UTC'), Timestamp('2024-10-20 20:00:00+0000', tz='Etc/UTC'), Timestamp('2024-10-20 21:00:00+0000', tz='Etc/UTC'), Timestamp('2024-10-20 22:00:00+0000', tz='Etc/UTC'), Timestamp('2024-10-20 23:00:00+0000', tz='Etc/UTC'), Timestamp('2024-10-21 00:00:00+0000', tz='Etc/UTC'), Timestamp('2024-10-21 01:00:00+0000', tz='Etc/UTC'), Timestamp('2024-10-21 02:00:00+0000', tz='Etc/UTC'), Timestamp('2024-10-21 03:00:00+0000', tz='Etc/UTC'), Timestamp('2024-10-21 04:00:00+0000', tz='Etc/UTC'), Timestamp('2024-10-21 05:00:00+0000', tz='Etc/UTC'), Timestamp('2024-10-21 06:00:00+0000', tz='Etc/UTC'), Timestamp('2024-10-21 07:00:00+0000', tz='Etc/UTC'), Timestamp('2024-10-21 08:00:00+0000', tz='Etc/UTC'), Timestamp('2024-10-21 09:00:00+0000', tz='Etc/UTC'), Timestamp('2024-10-21 10:00:00+0000', tz='Etc/UTC'), Timestamp('2024-10-21 11:00:00+0000', tz='Etc/UTC'), Timestamp('2024-10-21 12:00:00+0000', tz='Etc/UTC'), Timestamp('2024-10-21 13:00:00+0000', tz='Etc/UTC'), Timestamp('2024-10-21 14:00:00+0000', tz='Etc/UTC'), Timestamp('2024-10-21 15:00:00+0000', tz='Etc/UTC'), Timestamp('2024-10-21 16:00:00+0000', tz='Etc/UTC'), Timestamp('2024-10-21 17:00:00+0000', tz='Etc/UTC'), Timestamp('2024-10-21 18:00:00+0000', tz='Etc/UTC'), Timestamp('2024-10-21 19:00:00+0000', tz='Etc/UTC'), Timestamp('2024-10-21 20:00:00+0000', tz='Etc/UTC'), Timestamp('2024-10-21 21:00:00+0000', tz='Etc/UTC'), Timestamp('2024-10-21 22:00:00+0000', tz='Etc/UTC'), Timestamp('2024-10-21 23:00:00+0000', tz='Etc/UTC'), Timestamp('2024-10-22 00:00:00+0000', tz='Etc/UTC'), Timestamp('2024-10-22 01:00:00+0000', tz='Etc/UTC'), Timestamp('2024-10-22 02:00:00+0000', tz='Etc/UTC'), Timestamp('2024-10-22 03:00:00+0000', tz='Etc/UTC'), Timestamp('2024-10-22 04:00:00+0000', tz='Etc/UTC'), Timestamp('2024-10-22 05:00:00+0000', tz='Etc/UTC'), Timestamp('2024-10-22 06:00:00+0000', tz='Etc/UTC'), Timestamp('2024-10-22 07:00:00+0000', tz='Etc/UTC'), Timestamp('2024-10-22 08:00:00+0000', tz='Etc/UTC'), Timestamp('2024-10-22 09:00:00+0000', tz='Etc/UTC'), Timestamp('2024-10-22 10:00:00+0000', tz='Etc/UTC'), Timestamp('2024-10-22 11:00:00+0000', tz='Etc/UTC'), Timestamp('2024-10-22 12:00:00+0000', tz='Etc/UTC'), Timestamp('2024-10-22 13:00:00+0000', tz='Etc/UTC'), Timestamp('2024-10-22 14:00:00+0000', tz='Etc/UTC'), Timestamp('2024-10-22 15:00:00+0000', tz='Etc/UTC'), Timestamp('2024-10-22 16:00:00+0000', tz='Etc/UTC'), Timestamp('2024-10-22 17:00:00+0000', tz='Etc/UTC'), Timestamp('2024-10-22 18:00:00+0000', tz='Etc/UTC'), Timestamp('2024-10-22 19:00:00+0000', tz='Etc/UTC'), Timestamp('2024-10-22 20:00:00+0000', tz='Etc/UTC'), Timestamp('2024-10-22 21:00:00+0000', tz='Etc/UTC'), Timestamp('2024-10-22 22:00:00+0000', tz='Etc/UTC'), Timestamp('2024-10-22 23:00:00+0000', tz='Etc/UTC'), Timestamp('2024-10-23 00:00:00+0000', tz='Etc/UTC'), Timestamp('2024-10-23 01:00:00+0000', tz='Etc/UTC'), Timestamp('2024-10-23 02:00:00+0000', tz='Etc/UTC'), Timestamp('2024-10-23 03:00:00+0000', tz='Etc/UTC'), Timestamp('2024-10-23 04:00:00+0000', tz='Etc/UTC'), Timestamp('2024-10-23 05:00:00+0000', tz='Etc/UTC'), Timestamp('2024-10-23 06:00:00+0000', tz='Etc/UTC'), Timestamp('2024-10-23 07:00:00+0000', tz='Etc/UTC'), Timestamp('2024-10-23 08:00:00+0000', tz='Etc/UTC'), Timestamp('2024-10-23 09:00:00+0000', tz='Etc/UTC'), Timestamp('2024-10-23 10:00:00+0000', tz='Etc/UTC'), Timestamp('2024-10-23 11:00:00+0000', tz='Etc/UTC'), Timestamp('2024-10-23 12:00:00+0000', tz='Etc/UTC'), Timestamp('2024-10-23 13:00:00+0000', tz='Etc/UTC'), Timestamp('2024-10-23 14:00:00+0000', tz='Etc/UTC'), Timestamp('2024-10-23 15:00:00+0000', tz='Etc/UTC'), Timestamp('2024-10-23 16:00:00+0000', tz='Etc/UTC'), Timestamp('2024-10-23 17:00:00+0000', tz='Etc/UTC'), Timestamp('2024-10-23 18:00:00+0000', tz='Etc/UTC'), Timestamp('2024-10-23 19:00:00+0000', tz='Etc/UTC'), Timestamp('2024-10-23 20:00:00+0000', tz='Etc/UTC'), Timestamp('2024-10-23 21:00:00+0000', tz='Etc/UTC'), Timestamp('2024-10-23 22:00:00+0000', tz='Etc/UTC'), Timestamp('2024-10-23 23:00:00+0000', tz='Etc/UTC'), Timestamp('2024-10-24 00:00:00+0000', tz='Etc/UTC'), Timestamp('2024-10-24 01:00:00+0000', tz='Etc/UTC'), Timestamp('2024-10-24 02:00:00+0000', tz='Etc/UTC'), Timestamp('2024-10-24 03:00:00+0000', tz='Etc/UTC'), Timestamp('2024-10-24 04:00:00+0000', tz='Etc/UTC'), Timestamp('2024-10-24 05:00:00+0000', tz='Etc/UTC'), Timestamp('2024-10-24 06:00:00+0000', tz='Etc/UTC'), Timestamp('2024-10-24 07:00:00+0000', tz='Etc/UTC'), Timestamp('2024-10-24 08:00:00+0000', tz='Etc/UTC'), Timestamp('2024-10-24 09:00:00+0000', tz='Etc/UTC'), Timestamp('2024-10-24 10:00:00+0000', tz='Etc/UTC'), Timestamp('2024-10-24 11:00:00+0000', tz='Etc/UTC'), Timestamp('2024-10-24 12:00:00+0000', tz='Etc/UTC'), Timestamp('2024-10-24 13:00:00+0000', tz='Etc/UTC'), Timestamp('2024-10-24 14:00:00+0000', tz='Etc/UTC'), Timestamp('2024-10-24 15:00:00+0000', tz='Etc/UTC'), Timestamp('2024-10-24 16:00:00+0000', tz='Etc/UTC'), Timestamp('2024-10-24 17:00:00+0000', tz='Etc/UTC'), Timestamp('2024-10-24 18:00:00+0000', tz='Etc/UTC'), Timestamp('2024-10-24 19:00:00+0000', tz='Etc/UTC'), Timestamp('2024-10-24 20:00:00+0000', tz='Etc/UTC'), Timestamp('2024-10-24 21:00:00+0000', tz='Etc/UTC'), Timestamp('2024-10-24 22:00:00+0000', tz='Etc/UTC'), Timestamp('2024-10-24 23:00:00+0000', tz='Etc/UTC'), Timestamp('2024-10-25 00:00:00+0000', tz='Etc/UTC'), Timestamp('2024-10-25 01:00:00+0000', tz='Etc/UTC'), Timestamp('2024-10-25 02:00:00+0000', tz='Etc/UTC'), Timestamp('2024-10-25 03:00:00+0000', tz='Etc/UTC'), Timestamp('2024-10-25 04:00:00+0000', tz='Etc/UTC'), Timestamp('2024-10-25 05:00:00+0000', tz='Etc/UTC'), Timestamp('2024-10-25 06:00:00+0000', tz='Etc/UTC'), Timestamp('2024-10-25 07:00:00+0000', tz='Etc/UTC'), Timestamp('2024-10-25 08:00:00+0000', tz='Etc/UTC'), Timestamp('2024-10-25 09:00:00+0000', tz='Etc/UTC'), Timestamp('2024-10-25 10:00:00+0000', tz='Etc/UTC'), Timestamp('2024-10-25 11:00:00+0000', tz='Etc/UTC'), Timestamp('2024-10-25 12:00:00+0000', tz='Etc/UTC'), Timestamp('2024-10-25 13:00:00+0000', tz='Etc/UTC'), Timestamp('2024-10-25 14:00:00+0000', tz='Etc/UTC'), Timestamp('2024-10-25 15:00:00+0000', tz='Etc/UTC'), Timestamp('2024-10-25 16:00:00+0000', tz='Etc/UTC'), Timestamp('2024-10-25 17:00:00+0000', tz='Etc/UTC'), Timestamp('2024-10-25 18:00:00+0000', tz='Etc/UTC'), Timestamp('2024-10-25 19:00:00+0000', tz='Etc/UTC'), Timestamp('2024-10-25 20:00:00+0000', tz='Etc/UTC'), Timestamp('2024-10-25 21:00:00+0000', tz='Etc/UTC'), Timestamp('2024-10-25 22:00:00+0000', tz='Etc/UTC'), Timestamp('2024-10-25 23:00:00+0000', tz='Etc/UTC'), Timestamp('2024-10-26 00:00:00+0000', tz='Etc/UTC'), Timestamp('2024-10-26 01:00:00+0000', tz='Etc/UTC'), Timestamp('2024-10-26 02:00:00+0000', tz='Etc/UTC'), Timestamp('2024-10-26 03:00:00+0000', tz='Etc/UTC'), Timestamp('2024-10-26 04:00:00+0000', tz='Etc/UTC'), Timestamp('2024-10-26 05:00:00+0000', tz='Etc/UTC'), Timestamp('2024-10-26 06:00:00+0000', tz='Etc/UTC'), Timestamp('2024-10-26 07:00:00+0000', tz='Etc/UTC'), Timestamp('2024-10-26 08:00:00+0000', tz='Etc/UTC'), Timestamp('2024-10-26 09:00:00+0000', tz='Etc/UTC'), Timestamp('2024-10-26 10:00:00+0000', tz='Etc/UTC'), Timestamp('2024-10-26 11:00:00+0000', tz='Etc/UTC'), Timestamp('2024-10-26 12:00:00+0000', tz='Etc/UTC'), Timestamp('2024-10-26 13:00:00+0000', tz='Etc/UTC'), Timestamp('2024-10-26 14:00:00+0000', tz='Etc/UTC'), Timestamp('2024-10-26 15:00:00+0000', tz='Etc/UTC'), Timestamp('2024-10-26 16:00:00+0000', tz='Etc/UTC'), Timestamp('2024-10-26 17:00:00+0000', tz='Etc/UTC'), Timestamp('2024-10-26 18:00:00+0000', tz='Etc/UTC'), Timestamp('2024-10-26 19:00:00+0000', tz='Etc/UTC'), Timestamp('2024-10-26 20:00:00+0000', tz='Etc/UTC'), Timestamp('2024-10-26 21:00:00+0000', tz='Etc/UTC'), Timestamp('2024-10-26 22:00:00+0000', tz='Etc/UTC'), Timestamp('2024-10-26 23:00:00+0000', tz='Etc/UTC'), Timestamp('2024-10-27 00:00:00+0000', tz='Etc/UTC'), Timestamp('2024-10-27 01:00:00+0000', tz='Etc/UTC'), Timestamp('2024-10-27 02:00:00+0000', tz='Etc/UTC'), Timestamp('2024-10-27 03:00:00+0000', tz='Etc/UTC'), Timestamp('2024-10-27 04:00:00+0000', tz='Etc/UTC'), Timestamp('2024-10-27 05:00:00+0000', tz='Etc/UTC'), Timestamp('2024-10-27 06:00:00+0000', tz='Etc/UTC'), Timestamp('2024-10-27 07:00:00+0000', tz='Etc/UTC'), Timestamp('2024-10-27 08:00:00+0000', tz='Etc/UTC'), Timestamp('2024-10-27 09:00:00+0000', tz='Etc/UTC'), Timestamp('2024-10-27 10:00:00+0000', tz='Etc/UTC'), Timestamp('2024-10-27 11:00:00+0000', tz='Etc/UTC'), Timestamp('2024-10-27 12:00:00+0000', tz='Etc/UTC'), Timestamp('2024-10-27 13:00:00+0000', tz='Etc/UTC'), Timestamp('2024-10-27 14:00:00+0000', tz='Etc/UTC'), Timestamp('2024-10-27 15:00:00+0000', tz='Etc/UTC'), Timestamp('2024-10-27 16:00:00+0000', tz='Etc/UTC'), Timestamp('2024-10-27 17:00:00+0000', tz='Etc/UTC'), Timestamp('2024-10-27 18:00:00+0000', tz='Etc/UTC'), Timestamp('2024-10-27 19:00:00+0000', tz='Etc/UTC'), Timestamp('2024-10-27 20:00:00+0000', tz='Etc/UTC'), Timestamp('2024-10-27 21:00:00+0000', tz='Etc/UTC'), Timestamp('2024-10-27 22:00:00+0000', tz='Etc/UTC'), Timestamp('2024-10-27 23:00:00+0000', tz='Etc/UTC'), Timestamp('2024-10-28 00:00:00+0000', tz='Etc/UTC'), Timestamp('2024-10-28 01:00:00+0000', tz='Etc/UTC'), Timestamp('2024-10-28 02:00:00+0000', tz='Etc/UTC'), Timestamp('2024-10-28 03:00:00+0000', tz='Etc/UTC'), Timestamp('2024-10-28 04:00:00+0000', tz='Etc/UTC'), Timestamp('2024-10-28 05:00:00+0000', tz='Etc/UTC'), Timestamp('2024-10-28 06:00:00+0000', tz='Etc/UTC'), Timestamp('2024-10-28 07:00:00+0000', tz='Etc/UTC'), Timestamp('2024-10-28 08:00:00+0000', tz='Etc/UTC'), Timestamp('2024-10-28 09:00:00+0000', tz='Etc/UTC'), Timestamp('2024-10-28 10:00:00+0000', tz='Etc/UTC'), Timestamp('2024-10-28 11:00:00+0000', tz='Etc/UTC'), Timestamp('2024-10-28 12:00:00+0000', tz='Etc/UTC'), Timestamp('2024-10-28 13:00:00+0000', tz='Etc/UTC'), Timestamp('2024-10-28 14:00:00+0000', tz='Etc/UTC'), Timestamp('2024-10-28 15:00:00+0000', tz='Etc/UTC'), Timestamp('2024-10-28 16:00:00+0000', tz='Etc/UTC'), Timestamp('2024-10-28 17:00:00+0000', tz='Etc/UTC'), Timestamp('2024-10-28 18:00:00+0000', tz='Etc/UTC'), Timestamp('2024-10-28 19:00:00+0000', tz='Etc/UTC'), Timestamp('2024-10-28 20:00:00+0000', tz='Etc/UTC'), Timestamp('2024-10-28 21:00:00+0000', tz='Etc/UTC'), Timestamp('2024-10-28 22:00:00+0000', tz='Etc/UTC'), Timestamp('2024-10-28 23:00:00+0000', tz='Etc/UTC'), Timestamp('2024-10-29 00:00:00+0000', tz='Etc/UTC'), Timestamp('2024-10-29 01:00:00+0000', tz='Etc/UTC'), Timestamp('2024-10-29 02:00:00+0000', tz='Etc/UTC'), Timestamp('2024-10-29 03:00:00+0000', tz='Etc/UTC'), Timestamp('2024-10-29 04:00:00+0000', tz='Etc/UTC'), Timestamp('2024-10-29 05:00:00+0000', tz='Etc/UTC'), Timestamp('2024-10-29 06:00:00+0000', tz='Etc/UTC'), Timestamp('2024-10-29 07:00:00+0000', tz='Etc/UTC'), Timestamp('2024-10-29 08:00:00+0000', tz='Etc/UTC'), Timestamp('2024-10-29 09:00:00+0000', tz='Etc/UTC'), Timestamp('2024-10-29 10:00:00+0000', tz='Etc/UTC'), Timestamp('2024-10-29 11:00:00+0000', tz='Etc/UTC'), Timestamp('2024-10-29 12:00:00+0000', tz='Etc/UTC'), Timestamp('2024-10-29 13:00:00+0000', tz='Etc/UTC'), Timestamp('2024-10-29 14:00:00+0000', tz='Etc/UTC'), Timestamp('2024-10-29 15:00:00+0000', tz='Etc/UTC'), Timestamp('2024-10-29 16:00:00+0000', tz='Etc/UTC'), Timestamp('2024-10-29 17:00:00+0000', tz='Etc/UTC'), Timestamp('2024-10-29 18:00:00+0000', tz='Etc/UTC'), Timestamp('2024-10-29 19:00:00+0000', tz='Etc/UTC'), Timestamp('2024-10-29 20:00:00+0000', tz='Etc/UTC'), Timestamp('2024-10-29 21:00:00+0000', tz='Etc/UTC'), Timestamp('2024-10-29 22:00:00+0000', tz='Etc/UTC'), Timestamp('2024-10-29 23:00:00+0000', tz='Etc/UTC'), Timestamp('2024-10-30 00:00:00+0000', tz='Etc/UTC'), Timestamp('2024-10-30 01:00:00+0000', tz='Etc/UTC'), Timestamp('2024-10-30 02:00:00+0000', tz='Etc/UTC'), Timestamp('2024-10-30 03:00:00+0000', tz='Etc/UTC'), Timestamp('2024-10-30 04:00:00+0000', tz='Etc/UTC'), Timestamp('2024-10-30 05:00:00+0000', tz='Etc/UTC'), Timestamp('2024-10-30 06:00:00+0000', tz='Etc/UTC'), Timestamp('2024-10-30 07:00:00+0000', tz='Etc/UTC'), Timestamp('2024-10-30 08:00:00+0000', tz='Etc/UTC'), Timestamp('2024-10-30 09:00:00+0000', tz='Etc/UTC'), Timestamp('2024-10-30 10:00:00+0000', tz='Etc/UTC'), Timestamp('2024-10-30 11:00:00+0000', tz='Etc/UTC'), Timestamp('2024-10-30 12:00:00+0000', tz='Etc/UTC'), Timestamp('2024-10-30 13:00:00+0000', tz='Etc/UTC'), Timestamp('2024-10-30 14:00:00+0000', tz='Etc/UTC'), Timestamp('2024-10-30 15:00:00+0000', tz='Etc/UTC'), Timestamp('2024-10-30 16:00:00+0000', tz='Etc/UTC'), Timestamp('2024-10-30 17:00:00+0000', tz='Etc/UTC'), Timestamp('2024-10-30 18:00:00+0000', tz='Etc/UTC'), Timestamp('2024-10-30 19:00:00+0000', tz='Etc/UTC'), Timestamp('2024-10-30 20:00:00+0000', tz='Etc/UTC'), Timestamp('2024-10-30 21:00:00+0000', tz='Etc/UTC'), Timestamp('2024-10-30 22:00:00+0000', tz='Etc/UTC'), Timestamp('2024-10-30 23:00:00+0000', tz='Etc/UTC')]\n",
      "\n",
      "Counts per hour:\n",
      "pickup_hour\n",
      "2024-10-02 23:00:00+00:00    255\n",
      "2024-10-03 00:00:00+00:00    255\n",
      "2024-10-03 01:00:00+00:00    255\n",
      "2024-10-03 02:00:00+00:00    255\n",
      "2024-10-03 03:00:00+00:00    255\n",
      "                            ... \n",
      "2024-10-30 19:00:00+00:00    255\n",
      "2024-10-30 20:00:00+00:00    255\n",
      "2024-10-30 21:00:00+00:00    255\n",
      "2024-10-30 22:00:00+00:00    255\n",
      "2024-10-30 23:00:00+00:00    255\n",
      "Name: count, Length: 673, dtype: int64\n"
     ]
    }
   ],
   "source": [
    "# Show unique hours\n",
    "unique_hours = c['pickup_hour'].unique()\n",
    "print(\"Unique pickup hours in dataset:\")\n",
    "print(sorted(unique_hours))\n",
    "\n",
    "# Optional: Show count per hour\n",
    "hour_counts = c['pickup_hour'].value_counts().sort_index()\n",
    "print(\"\\nCounts per hour:\")\n",
    "print(hour_counts)"
   ]
  },
  {
   "cell_type": "code",
   "execution_count": 86,
   "metadata": {},
   "outputs": [
    {
     "data": {
      "text/plain": [
       "Index(['pickup_hour', 'rides', 'pickup_location_id', 'pickup_ts'], dtype='object')"
      ]
     },
     "execution_count": 86,
     "metadata": {},
     "output_type": "execute_result"
    }
   ],
   "source": [
    "c.columns"
   ]
  },
  {
   "cell_type": "code",
   "execution_count": 88,
   "metadata": {},
   "outputs": [
    {
     "data": {
      "text/html": [
       "<div>\n",
       "<style scoped>\n",
       "    .dataframe tbody tr th:only-of-type {\n",
       "        vertical-align: middle;\n",
       "    }\n",
       "\n",
       "    .dataframe tbody tr th {\n",
       "        vertical-align: top;\n",
       "    }\n",
       "\n",
       "    .dataframe thead th {\n",
       "        text-align: right;\n",
       "    }\n",
       "</style>\n",
       "<table border=\"1\" class=\"dataframe\">\n",
       "  <thead>\n",
       "    <tr style=\"text-align: right;\">\n",
       "      <th></th>\n",
       "      <th>pickup_location_id</th>\n",
       "      <th>predicted_demand</th>\n",
       "      <th>pickup_hour</th>\n",
       "      <th>pickup_ts</th>\n",
       "    </tr>\n",
       "  </thead>\n",
       "  <tbody>\n",
       "    <tr>\n",
       "      <th>0</th>\n",
       "      <td>48</td>\n",
       "      <td>6.0</td>\n",
       "      <td>2024-10-31 03:00:00+00:00</td>\n",
       "      <td>1730329</td>\n",
       "    </tr>\n",
       "    <tr>\n",
       "      <th>1</th>\n",
       "      <td>215</td>\n",
       "      <td>10.0</td>\n",
       "      <td>2024-10-31 03:00:00+00:00</td>\n",
       "      <td>1730329</td>\n",
       "    </tr>\n",
       "    <tr>\n",
       "      <th>2</th>\n",
       "      <td>150</td>\n",
       "      <td>9.0</td>\n",
       "      <td>2024-10-31 03:00:00+00:00</td>\n",
       "      <td>1730329</td>\n",
       "    </tr>\n",
       "    <tr>\n",
       "      <th>3</th>\n",
       "      <td>143</td>\n",
       "      <td>10.0</td>\n",
       "      <td>2024-10-31 03:00:00+00:00</td>\n",
       "      <td>1730329</td>\n",
       "    </tr>\n",
       "    <tr>\n",
       "      <th>4</th>\n",
       "      <td>15</td>\n",
       "      <td>9.0</td>\n",
       "      <td>2024-10-31 03:00:00+00:00</td>\n",
       "      <td>1730329</td>\n",
       "    </tr>\n",
       "    <tr>\n",
       "      <th>...</th>\n",
       "      <td>...</td>\n",
       "      <td>...</td>\n",
       "      <td>...</td>\n",
       "      <td>...</td>\n",
       "    </tr>\n",
       "    <tr>\n",
       "      <th>250</th>\n",
       "      <td>229</td>\n",
       "      <td>8.0</td>\n",
       "      <td>2024-10-31 03:00:00+00:00</td>\n",
       "      <td>1730329</td>\n",
       "    </tr>\n",
       "    <tr>\n",
       "      <th>251</th>\n",
       "      <td>169</td>\n",
       "      <td>9.0</td>\n",
       "      <td>2024-10-31 03:00:00+00:00</td>\n",
       "      <td>1730329</td>\n",
       "    </tr>\n",
       "    <tr>\n",
       "      <th>252</th>\n",
       "      <td>12</td>\n",
       "      <td>9.0</td>\n",
       "      <td>2024-10-31 03:00:00+00:00</td>\n",
       "      <td>1730329</td>\n",
       "    </tr>\n",
       "    <tr>\n",
       "      <th>253</th>\n",
       "      <td>264</td>\n",
       "      <td>9.0</td>\n",
       "      <td>2024-10-31 03:00:00+00:00</td>\n",
       "      <td>1730329</td>\n",
       "    </tr>\n",
       "    <tr>\n",
       "      <th>254</th>\n",
       "      <td>231</td>\n",
       "      <td>8.0</td>\n",
       "      <td>2024-10-31 03:00:00+00:00</td>\n",
       "      <td>1730329</td>\n",
       "    </tr>\n",
       "  </tbody>\n",
       "</table>\n",
       "<p>255 rows × 4 columns</p>\n",
       "</div>"
      ],
      "text/plain": [
       "     pickup_location_id  predicted_demand               pickup_hour  pickup_ts\n",
       "0                    48               6.0 2024-10-31 03:00:00+00:00    1730329\n",
       "1                   215              10.0 2024-10-31 03:00:00+00:00    1730329\n",
       "2                   150               9.0 2024-10-31 03:00:00+00:00    1730329\n",
       "3                   143              10.0 2024-10-31 03:00:00+00:00    1730329\n",
       "4                    15               9.0 2024-10-31 03:00:00+00:00    1730329\n",
       "..                  ...               ...                       ...        ...\n",
       "250                 229               8.0 2024-10-31 03:00:00+00:00    1730329\n",
       "251                 169               9.0 2024-10-31 03:00:00+00:00    1730329\n",
       "252                  12               9.0 2024-10-31 03:00:00+00:00    1730329\n",
       "253                 264               9.0 2024-10-31 03:00:00+00:00    1730329\n",
       "254                 231               8.0 2024-10-31 03:00:00+00:00    1730329\n",
       "\n",
       "[255 rows x 4 columns]"
      ]
     },
     "execution_count": 88,
     "metadata": {},
     "output_type": "execute_result"
    }
   ],
   "source": [
    "b"
   ]
  },
  {
   "cell_type": "code",
   "execution_count": 91,
   "metadata": {},
   "outputs": [],
   "source": [
    "c = c.sort_values('pickup_hour')"
   ]
  },
  {
   "cell_type": "code",
   "execution_count": 92,
   "metadata": {},
   "outputs": [
    {
     "name": "stdout",
     "output_type": "stream",
     "text": [
      "Unique location-hour pairs in df_A: 255\n",
      "Unique location-hour pairs in df_B: 171615\n",
      "\n",
      "Shape after merge: (0, 6)\n"
     ]
    },
    {
     "data": {
      "text/html": [
       "<div>\n",
       "<style scoped>\n",
       "    .dataframe tbody tr th:only-of-type {\n",
       "        vertical-align: middle;\n",
       "    }\n",
       "\n",
       "    .dataframe tbody tr th {\n",
       "        vertical-align: top;\n",
       "    }\n",
       "\n",
       "    .dataframe thead th {\n",
       "        text-align: right;\n",
       "    }\n",
       "</style>\n",
       "<table border=\"1\" class=\"dataframe\">\n",
       "  <thead>\n",
       "    <tr style=\"text-align: right;\">\n",
       "      <th></th>\n",
       "      <th>pickup_location_id</th>\n",
       "      <th>predicted_demand</th>\n",
       "      <th>pickup_hour</th>\n",
       "      <th>pickup_ts_x</th>\n",
       "      <th>rides</th>\n",
       "      <th>pickup_ts_y</th>\n",
       "      <th>prediction_error</th>\n",
       "    </tr>\n",
       "  </thead>\n",
       "  <tbody>\n",
       "  </tbody>\n",
       "</table>\n",
       "</div>"
      ],
      "text/plain": [
       "Empty DataFrame\n",
       "Columns: [pickup_location_id, predicted_demand, pickup_hour, pickup_ts_x, rides, pickup_ts_y, prediction_error]\n",
       "Index: []"
      ]
     },
     "execution_count": 92,
     "metadata": {},
     "output_type": "execute_result"
    }
   ],
   "source": [
    "# Check unique combinations before merging\n",
    "print(\"Unique location-hour pairs in df_A:\", b.groupby(['pickup_location_id', 'pickup_hour']).size().shape[0])\n",
    "print(\"Unique location-hour pairs in df_B:\", c.groupby(['pickup_location_id', 'pickup_hour']).size().shape[0])\n",
    "\n",
    "# Merge and check results\n",
    "comparison_df = b.merge(c, on=['pickup_location_id', 'pickup_hour'], how='inner')\n",
    "print(\"\\nShape after merge:\", comparison_df.shape)\n",
    "\n",
    "# Calculate prediction error\n",
    "comparison_df['prediction_error'] = comparison_df['predicted_demand'] - comparison_df['rides']\n",
    "\n",
    "comparison_df"
   ]
  },
  {
   "cell_type": "code",
   "execution_count": 93,
   "metadata": {},
   "outputs": [
    {
     "name": "stdout",
     "output_type": "stream",
     "text": [
      "Unique pickup hours in dataset:\n",
      "[]\n",
      "\n",
      "Counts per hour:\n",
      "Series([], Name: count, dtype: int64)\n"
     ]
    }
   ],
   "source": [
    "# Show unique hours\n",
    "unique_hours = comparison_df['pickup_hour'].unique()\n",
    "print(\"Unique pickup hours in dataset:\")\n",
    "print(sorted(unique_hours))\n",
    "\n",
    "# Optional: Show count per hour\n",
    "hour_counts = comparison_df['pickup_hour'].value_counts().sort_index()\n",
    "print(\"\\nCounts per hour:\")\n",
    "print(hour_counts)"
   ]
  },
  {
   "cell_type": "code",
   "execution_count": 94,
   "metadata": {},
   "outputs": [
    {
     "data": {
      "text/plain": [
       "nan"
      ]
     },
     "execution_count": 94,
     "metadata": {},
     "output_type": "execute_result"
    }
   ],
   "source": [
    "comparison_df['prediction_error'].mean()"
   ]
  },
  {
   "cell_type": "markdown",
   "metadata": {},
   "source": [
    "# Checking the issues with Monitoring pipeline"
   ]
  },
  {
   "cell_type": "code",
   "execution_count": 95,
   "metadata": {},
   "outputs": [
    {
     "name": "stdout",
     "output_type": "stream",
     "text": [
      "2025-01-25 18:23:28,405 INFO: Closing external client and cleaning up certificates.\n",
      "Connection closed.\n",
      "2025-01-25 18:23:28,408 INFO: Initializing external client\n",
      "2025-01-25 18:23:28,408 INFO: Base URL: https://c.app.hopsworks.ai:443\n",
      "2025-01-25 18:23:29,448 INFO: Python Engine initialized.\n",
      "\n",
      "Logged in to project, explore it here https://c.app.hopsworks.ai:443/p/1192104\n"
     ]
    }
   ],
   "source": [
    "import hopsworks\n",
    "import src.config as config\n",
    "project = hopsworks.login(\n",
    "        project=config.HOPSWORKS_PROJECT_NAME,\n",
    "        api_key_value=config.HOPSWORKS_API_KEY\n",
    ")"
   ]
  },
  {
   "cell_type": "markdown",
   "metadata": {},
   "source": [
    "# Plan is to:\n",
    "\n",
    "* Create a new feature group for  'time_series_hourly_feature_group primary key' \n",
    "* Just make it version V4 and keep it separate as a test. You will need to rerun some things for this\n",
    "* You can then isolate the issue\n",
    "* The priority will be to make the 'time_series_hourly_feature_group primary key 'pickup_hour'\n",
    "* Hopefully this will fix the issues with query when creating a 'monitoring feature view' \n",
    "* Then see where you are at "
   ]
  },
  {
   "cell_type": "markdown",
   "metadata": {},
   "source": []
  },
  {
   "cell_type": "code",
   "execution_count": null,
   "metadata": {},
   "outputs": [],
   "source": []
  },
  {
   "cell_type": "code",
   "execution_count": 96,
   "metadata": {},
   "outputs": [
    {
     "name": "stdout",
     "output_type": "stream",
     "text": [
      "[Feature('pickup_hour', 'timestamp', None, False, False, None, None, 1393062), Feature('rides', 'bigint', None, False, False, None, None, 1393062), Feature('pickup_location_id', 'int', None, True, False, None, None, 1393062), Feature('pickup_ts', 'bigint', None, True, False, None, None, 1393062)]\n"
     ]
    }
   ],
   "source": [
    "fs = project.get_feature_store()\n",
    "actuals_fg = fs.get_feature_group(name ='time_series_hourly_feature_group', version = 3)\n",
    "print(actuals_fg.schema)"
   ]
  },
  {
   "cell_type": "code",
   "execution_count": 99,
   "metadata": {},
   "outputs": [
    {
     "name": "stdout",
     "output_type": "stream",
     "text": [
      "Finished: Reading data from Hopsworks, using Hopsworks Feature Query Service (10.37s) \n"
     ]
    }
   ],
   "source": [
    "actuals_df = actuals_fg.read()\n",
    "actuals_df.head(5)\n",
    "actuals_df = actuals_df.sort_values('pickup_hour')\n"
   ]
  },
  {
   "cell_type": "code",
   "execution_count": 100,
   "metadata": {},
   "outputs": [
    {
     "name": "stdout",
     "output_type": "stream",
     "text": [
      "[Feature('pickup_location_id', 'int', None, True, False, None, None, 1399239), Feature('predicted_demand', 'double', None, False, False, None, None, 1399239), Feature('pickup_hour', 'timestamp', None, True, False, None, None, 1399239)]\n",
      "Finished: Reading data from Hopsworks, using Hopsworks Feature Query Service (0.51s) \n"
     ]
    },
    {
     "data": {
      "text/html": [
       "<div>\n",
       "<style scoped>\n",
       "    .dataframe tbody tr th:only-of-type {\n",
       "        vertical-align: middle;\n",
       "    }\n",
       "\n",
       "    .dataframe tbody tr th {\n",
       "        vertical-align: top;\n",
       "    }\n",
       "\n",
       "    .dataframe thead th {\n",
       "        text-align: right;\n",
       "    }\n",
       "</style>\n",
       "<table border=\"1\" class=\"dataframe\">\n",
       "  <thead>\n",
       "    <tr style=\"text-align: right;\">\n",
       "      <th></th>\n",
       "      <th>pickup_location_id</th>\n",
       "      <th>predicted_demand</th>\n",
       "      <th>pickup_hour</th>\n",
       "    </tr>\n",
       "  </thead>\n",
       "  <tbody>\n",
       "    <tr>\n",
       "      <th>0</th>\n",
       "      <td>239</td>\n",
       "      <td>9.0</td>\n",
       "      <td>2024-10-31 08:00:00+00:00</td>\n",
       "    </tr>\n",
       "    <tr>\n",
       "      <th>1</th>\n",
       "      <td>95</td>\n",
       "      <td>9.0</td>\n",
       "      <td>2024-10-31 08:00:00+00:00</td>\n",
       "    </tr>\n",
       "    <tr>\n",
       "      <th>2</th>\n",
       "      <td>46</td>\n",
       "      <td>9.0</td>\n",
       "      <td>2024-10-31 08:00:00+00:00</td>\n",
       "    </tr>\n",
       "    <tr>\n",
       "      <th>3</th>\n",
       "      <td>241</td>\n",
       "      <td>9.0</td>\n",
       "      <td>2024-10-31 08:00:00+00:00</td>\n",
       "    </tr>\n",
       "    <tr>\n",
       "      <th>4</th>\n",
       "      <td>143</td>\n",
       "      <td>10.0</td>\n",
       "      <td>2024-10-31 08:00:00+00:00</td>\n",
       "    </tr>\n",
       "  </tbody>\n",
       "</table>\n",
       "</div>"
      ],
      "text/plain": [
       "   pickup_location_id  predicted_demand               pickup_hour\n",
       "0                 239               9.0 2024-10-31 08:00:00+00:00\n",
       "1                  95               9.0 2024-10-31 08:00:00+00:00\n",
       "2                  46               9.0 2024-10-31 08:00:00+00:00\n",
       "3                 241               9.0 2024-10-31 08:00:00+00:00\n",
       "4                 143              10.0 2024-10-31 08:00:00+00:00"
      ]
     },
     "execution_count": 100,
     "metadata": {},
     "output_type": "execute_result"
    }
   ],
   "source": [
    "predictions_fg = fs.get_feature_group(name ='model_predictions_feature_group', version =4)\n",
    "print(predictions_fg.schema)\n",
    " \n",
    "\n",
    "predictions_df =predictions_fg.read()\n",
    "predictions_df.head(5)"
   ]
  },
  {
   "cell_type": "code",
   "execution_count": 101,
   "metadata": {},
   "outputs": [],
   "source": [
    "import pandas as pd\n",
    "from datetime import datetime, timedelta,timezone\n",
    "current_date = pd.Timestamp('2024-10-30 23:00:00')\n",
    "from_date = current_date - timedelta(days=14)\n",
    "to_date=current_date\n",
    "# from_ts = int(from_date.timestamp() * 1000)\n",
    "# to_ts = int(to_date.timestamp() * 1000)\n",
    "# # from_date_ = pd.Timestamp(current_date - timedelta(days=28)).replace(tzinfo=None)\n",
    "# print(from_date)\n",
    "# # to_date_ = pd.Timestamp(from_date_ + timedelta(hours=1)).replace(tzinfo=None)\n",
    "# print(to_date)\n"
   ]
  },
  {
   "cell_type": "code",
   "execution_count": 102,
   "metadata": {},
   "outputs": [
    {
     "name": "stdout",
     "output_type": "stream",
     "text": [
      "<class 'pandas._libs.tslibs.timestamps.Timestamp'>\n"
     ]
    }
   ],
   "source": [
    "print(type(from_date))"
   ]
  },
  {
   "cell_type": "code",
   "execution_count": 103,
   "metadata": {},
   "outputs": [],
   "source": [
    "# from_ts = pd.to_datetime(from_date)\n",
    "# to_ts = pd.to_datetime(to_date)\n",
    "# print(type(from_date))\n",
    "\n",
    "# bigint_value_from_ts = int(from_ts.timestamp() * 1000)\n",
    "# bigint_value_to_ts = int(to_ts.timestamp() * 1000)\n",
    "# print(type(bigint_value_from_ts))\n"
   ]
  },
  {
   "cell_type": "code",
   "execution_count": 107,
   "metadata": {},
   "outputs": [],
   "source": [
    "# Convert from_date and to_date to timestamps in milliseconds\n",
    "from_ts = int(from_date.timestamp() * 1000)\n",
    "to_ts = int(to_date.timestamp() * 1000)\n",
    "\n",
    "# Create a query to join the predictions and actuals feature groups by `pickup_hour` and `pickup_location_id`\n",
    "query = predictions_fg.select_all() \\\n",
    "    .join(actuals_fg.select(['pickup_location_id', 'pickup_hour']),\n",
    "            on=['pickup_hour', 'pickup_location_id'], prefix='actuals_') \\\n",
    "    .filter(predictions_fg.pickup_hour >= from_ts) \\\n",
    "    .filter(predictions_fg.pickup_hour <= to_ts)\n"
   ]
  },
  {
   "cell_type": "code",
   "execution_count": 108,
   "metadata": {},
   "outputs": [
    {
     "data": {
      "text/plain": [
       "<hsfs.constructor.query.Query at 0x1484d2f20>"
      ]
     },
     "execution_count": 108,
     "metadata": {},
     "output_type": "execute_result"
    }
   ],
   "source": [
    "query"
   ]
  },
  {
   "cell_type": "code",
   "execution_count": 109,
   "metadata": {},
   "outputs": [
    {
     "name": "stdout",
     "output_type": "stream",
     "text": [
      "2025-01-25 18:26:11,269 INFO: Closing external client and cleaning up certificates.\n",
      "Connection closed.\n",
      "2025-01-25 18:26:11,273 INFO: Initializing external client\n",
      "2025-01-25 18:26:11,273 INFO: Base URL: https://c.app.hopsworks.ai:443\n",
      "2025-01-25 18:26:12,502 INFO: Python Engine initialized.\n",
      "\n",
      "Logged in to project, explore it here https://c.app.hopsworks.ai:443/p/1192104\n"
     ]
    },
    {
     "ename": "RestAPIError",
     "evalue": "Metadata operation error: (url: https://c.app.hopsworks.ai/hopsworks-api/api/project/1192104/featurestores/1181777/featureview). Server response: \nHTTP code: 400, HTTP reason: Bad Request, body: b'{\"errorCode\":270244,\"usrMsg\":\"pickup_hour is not primary key in feature group: time_series_hourly_feature_group\",\"errorMsg\":\"foreign key from the left feature group is not a primary key in the right feature group\"}', error code: 270244, error msg: foreign key from the left feature group is not a primary key in the right feature group, user msg: pickup_hour is not primary key in feature group: time_series_hourly_feature_group",
     "output_type": "error",
     "traceback": [
      "\u001b[0;31m---------------------------------------------------------------------------\u001b[0m",
      "\u001b[0;31mRestAPIError\u001b[0m                              Traceback (most recent call last)",
      "Cell \u001b[0;32mIn[109], line 9\u001b[0m\n\u001b[1;32m      6\u001b[0m feature_store \u001b[38;5;241m=\u001b[39m get_feature_store()\n\u001b[1;32m      7\u001b[0m \u001b[38;5;66;03m# try:\u001b[39;00m\n\u001b[1;32m      8\u001b[0m \u001b[38;5;66;03m# create feature view as it does not exist yet\u001b[39;00m\n\u001b[0;32m----> 9\u001b[0m \u001b[43mfeature_store\u001b[49m\u001b[38;5;241;43m.\u001b[39;49m\u001b[43mcreate_feature_view\u001b[49m\u001b[43m(\u001b[49m\n\u001b[1;32m     10\u001b[0m \u001b[43m    \u001b[49m\u001b[43mname\u001b[49m\u001b[38;5;241;43m=\u001b[39;49m\u001b[43mconfig\u001b[49m\u001b[38;5;241;43m.\u001b[39;49m\u001b[43mMONITORING_FV_NAME\u001b[49m\u001b[43m,\u001b[49m\u001b[43m \u001b[49m\u001b[38;5;66;43;03m# monitoring_feature_view\u001b[39;49;00m\n\u001b[1;32m     11\u001b[0m \u001b[43m    \u001b[49m\u001b[43mversion\u001b[49m\u001b[38;5;241;43m=\u001b[39;49m\u001b[38;5;241;43m5\u001b[39;49m\u001b[43m,\u001b[49m\n\u001b[1;32m     12\u001b[0m \u001b[43m    \u001b[49m\u001b[43mquery\u001b[49m\u001b[38;5;241;43m=\u001b[39;49m\u001b[43mquery\u001b[49m\n\u001b[1;32m     13\u001b[0m \u001b[43m    \u001b[49m\u001b[43m)\u001b[49m\n\u001b[1;32m     14\u001b[0m \u001b[38;5;66;03m# except:\u001b[39;00m\n\u001b[1;32m     15\u001b[0m \u001b[38;5;66;03m#     logger.info('Feature view already existed. Skip creation.')\u001b[39;00m\n",
      "File \u001b[0;32m~/poetry_taxi_demand_predictor/.venv/lib/python3.10/site-packages/hopsworks_common/usage.py:246\u001b[0m, in \u001b[0;36mmethod_logger.<locals>.wrapper\u001b[0;34m(*args, **kwargs)\u001b[0m\n\u001b[1;32m    244\u001b[0m \u001b[38;5;28;01mexcept\u001b[39;00m \u001b[38;5;167;01mException\u001b[39;00m \u001b[38;5;28;01mas\u001b[39;00m e:\n\u001b[1;32m    245\u001b[0m     exception \u001b[38;5;241m=\u001b[39m e\n\u001b[0;32m--> 246\u001b[0m     \u001b[38;5;28;01mraise\u001b[39;00m e\n\u001b[1;32m    247\u001b[0m \u001b[38;5;28;01mfinally\u001b[39;00m:\n\u001b[1;32m    248\u001b[0m     \u001b[38;5;28;01mtry\u001b[39;00m:\n",
      "File \u001b[0;32m~/poetry_taxi_demand_predictor/.venv/lib/python3.10/site-packages/hopsworks_common/usage.py:242\u001b[0m, in \u001b[0;36mmethod_logger.<locals>.wrapper\u001b[0;34m(*args, **kwargs)\u001b[0m\n\u001b[1;32m    239\u001b[0m exception \u001b[38;5;241m=\u001b[39m \u001b[38;5;28;01mNone\u001b[39;00m\n\u001b[1;32m    240\u001b[0m \u001b[38;5;28;01mtry\u001b[39;00m:\n\u001b[1;32m    241\u001b[0m     \u001b[38;5;66;03m# Call the original method\u001b[39;00m\n\u001b[0;32m--> 242\u001b[0m     result \u001b[38;5;241m=\u001b[39m \u001b[43mfunc\u001b[49m\u001b[43m(\u001b[49m\u001b[38;5;241;43m*\u001b[39;49m\u001b[43margs\u001b[49m\u001b[43m,\u001b[49m\u001b[43m \u001b[49m\u001b[38;5;241;43m*\u001b[39;49m\u001b[38;5;241;43m*\u001b[39;49m\u001b[43mkwargs\u001b[49m\u001b[43m)\u001b[49m\n\u001b[1;32m    243\u001b[0m     \u001b[38;5;28;01mreturn\u001b[39;00m result\n\u001b[1;32m    244\u001b[0m \u001b[38;5;28;01mexcept\u001b[39;00m \u001b[38;5;167;01mException\u001b[39;00m \u001b[38;5;28;01mas\u001b[39;00m e:\n",
      "File \u001b[0;32m~/poetry_taxi_demand_predictor/.venv/lib/python3.10/site-packages/hsfs/feature_store.py:1650\u001b[0m, in \u001b[0;36mFeatureStore.create_feature_view\u001b[0;34m(self, name, query, version, description, labels, inference_helper_columns, training_helper_columns, transformation_functions, logging_enabled)\u001b[0m\n\u001b[1;32m   1546\u001b[0m \u001b[38;5;250m\u001b[39m\u001b[38;5;124;03m\"\"\"Create a feature view metadata object and saved it to hopsworks.\u001b[39;00m\n\u001b[1;32m   1547\u001b[0m \n\u001b[1;32m   1548\u001b[0m \u001b[38;5;124;03m!!! example\u001b[39;00m\n\u001b[0;32m   (...)\u001b[0m\n\u001b[1;32m   1635\u001b[0m \u001b[38;5;124;03m    `FeatureView`: The feature view metadata object.\u001b[39;00m\n\u001b[1;32m   1636\u001b[0m \u001b[38;5;124;03m\"\"\"\u001b[39;00m\n\u001b[1;32m   1637\u001b[0m feat_view \u001b[38;5;241m=\u001b[39m feature_view\u001b[38;5;241m.\u001b[39mFeatureView(\n\u001b[1;32m   1638\u001b[0m     name\u001b[38;5;241m=\u001b[39mname,\n\u001b[1;32m   1639\u001b[0m     query\u001b[38;5;241m=\u001b[39mquery,\n\u001b[0;32m   (...)\u001b[0m\n\u001b[1;32m   1648\u001b[0m     logging_enabled\u001b[38;5;241m=\u001b[39mlogging_enabled,\n\u001b[1;32m   1649\u001b[0m )\n\u001b[0;32m-> 1650\u001b[0m \u001b[38;5;28;01mreturn\u001b[39;00m \u001b[38;5;28;43mself\u001b[39;49m\u001b[38;5;241;43m.\u001b[39;49m\u001b[43m_feature_view_engine\u001b[49m\u001b[38;5;241;43m.\u001b[39;49m\u001b[43msave\u001b[49m\u001b[43m(\u001b[49m\u001b[43mfeat_view\u001b[49m\u001b[43m)\u001b[49m\n",
      "File \u001b[0;32m~/poetry_taxi_demand_predictor/.venv/lib/python3.10/site-packages/hsfs/core/feature_view_engine.py:142\u001b[0m, in \u001b[0;36mFeatureViewEngine.save\u001b[0;34m(self, feature_view_obj)\u001b[0m\n\u001b[1;32m    129\u001b[0m         (\n\u001b[1;32m    130\u001b[0m             feature,\n\u001b[1;32m    131\u001b[0m             prefix,\n\u001b[1;32m    132\u001b[0m             featuregroup,\n\u001b[1;32m    133\u001b[0m         ) \u001b[38;5;241m=\u001b[39m feature_view_obj\u001b[38;5;241m.\u001b[39mquery\u001b[38;5;241m.\u001b[39m_get_feature_by_name(helper_column_name)\n\u001b[1;32m    134\u001b[0m         feature_view_obj\u001b[38;5;241m.\u001b[39m_features\u001b[38;5;241m.\u001b[39mappend(\n\u001b[1;32m    135\u001b[0m             training_dataset_feature\u001b[38;5;241m.\u001b[39mTrainingDatasetFeature(\n\u001b[1;32m    136\u001b[0m                 name\u001b[38;5;241m=\u001b[39mfeature\u001b[38;5;241m.\u001b[39mname,\n\u001b[0;32m   (...)\u001b[0m\n\u001b[1;32m    139\u001b[0m             )\n\u001b[1;32m    140\u001b[0m         )\n\u001b[0;32m--> 142\u001b[0m updated_fv \u001b[38;5;241m=\u001b[39m \u001b[38;5;28;43mself\u001b[39;49m\u001b[38;5;241;43m.\u001b[39;49m\u001b[43m_feature_view_api\u001b[49m\u001b[38;5;241;43m.\u001b[39;49m\u001b[43mpost\u001b[49m\u001b[43m(\u001b[49m\u001b[43mfeature_view_obj\u001b[49m\u001b[43m)\u001b[49m\n\u001b[1;32m    143\u001b[0m \u001b[38;5;28mprint\u001b[39m(\n\u001b[1;32m    144\u001b[0m     \u001b[38;5;124m\"\u001b[39m\u001b[38;5;124mFeature view created successfully, explore it at \u001b[39m\u001b[38;5;130;01m\\n\u001b[39;00m\u001b[38;5;124m\"\u001b[39m\n\u001b[1;32m    145\u001b[0m     \u001b[38;5;241m+\u001b[39m \u001b[38;5;28mself\u001b[39m\u001b[38;5;241m.\u001b[39m_get_feature_view_url(updated_fv)\n\u001b[1;32m    146\u001b[0m )\n\u001b[1;32m    147\u001b[0m \u001b[38;5;28;01mreturn\u001b[39;00m updated_fv\n",
      "File \u001b[0;32m~/poetry_taxi_demand_predictor/.venv/lib/python3.10/site-packages/hsfs/core/feature_view_api.py:72\u001b[0m, in \u001b[0;36mFeatureViewApi.post\u001b[0;34m(self, feature_view_obj)\u001b[0m\n\u001b[1;32m     67\u001b[0m \u001b[38;5;28;01mdef\u001b[39;00m \u001b[38;5;21mpost\u001b[39m(\n\u001b[1;32m     68\u001b[0m     \u001b[38;5;28mself\u001b[39m, feature_view_obj: feature_view\u001b[38;5;241m.\u001b[39mFeatureView\n\u001b[1;32m     69\u001b[0m ) \u001b[38;5;241m-\u001b[39m\u001b[38;5;241m>\u001b[39m feature_view\u001b[38;5;241m.\u001b[39mFeatureView:\n\u001b[1;32m     70\u001b[0m     headers \u001b[38;5;241m=\u001b[39m {\u001b[38;5;124m\"\u001b[39m\u001b[38;5;124mcontent-type\u001b[39m\u001b[38;5;124m\"\u001b[39m: \u001b[38;5;124m\"\u001b[39m\u001b[38;5;124mapplication/json\u001b[39m\u001b[38;5;124m\"\u001b[39m}\n\u001b[1;32m     71\u001b[0m     \u001b[38;5;28;01mreturn\u001b[39;00m feature_view_obj\u001b[38;5;241m.\u001b[39mupdate_from_response_json(\n\u001b[0;32m---> 72\u001b[0m         \u001b[38;5;28;43mself\u001b[39;49m\u001b[38;5;241;43m.\u001b[39;49m\u001b[43m_client\u001b[49m\u001b[38;5;241;43m.\u001b[39;49m\u001b[43m_send_request\u001b[49m\u001b[43m(\u001b[49m\n\u001b[1;32m     73\u001b[0m \u001b[43m            \u001b[49m\u001b[38;5;28;43mself\u001b[39;49m\u001b[38;5;241;43m.\u001b[39;49m\u001b[43m_POST\u001b[49m\u001b[43m,\u001b[49m\n\u001b[1;32m     74\u001b[0m \u001b[43m            \u001b[49m\u001b[38;5;28;43mself\u001b[39;49m\u001b[38;5;241;43m.\u001b[39;49m\u001b[43m_base_path\u001b[49m\u001b[43m,\u001b[49m\n\u001b[1;32m     75\u001b[0m \u001b[43m            \u001b[49m\u001b[43mheaders\u001b[49m\u001b[38;5;241;43m=\u001b[39;49m\u001b[43mheaders\u001b[49m\u001b[43m,\u001b[49m\n\u001b[1;32m     76\u001b[0m \u001b[43m            \u001b[49m\u001b[43mdata\u001b[49m\u001b[38;5;241;43m=\u001b[39;49m\u001b[43mfeature_view_obj\u001b[49m\u001b[38;5;241;43m.\u001b[39;49m\u001b[43mjson\u001b[49m\u001b[43m(\u001b[49m\u001b[43m)\u001b[49m\u001b[43m,\u001b[49m\n\u001b[1;32m     77\u001b[0m \u001b[43m        \u001b[49m\u001b[43m)\u001b[49m\n\u001b[1;32m     78\u001b[0m     )\n",
      "File \u001b[0;32m~/poetry_taxi_demand_predictor/.venv/lib/python3.10/site-packages/hopsworks_common/decorators.py:45\u001b[0m, in \u001b[0;36mconnected.<locals>.if_connected\u001b[0;34m(inst, *args, **kwargs)\u001b[0m\n\u001b[1;32m     43\u001b[0m \u001b[38;5;28;01mif\u001b[39;00m \u001b[38;5;129;01mnot\u001b[39;00m inst\u001b[38;5;241m.\u001b[39m_connected:\n\u001b[1;32m     44\u001b[0m     \u001b[38;5;28;01mraise\u001b[39;00m NoHopsworksConnectionError\n\u001b[0;32m---> 45\u001b[0m \u001b[38;5;28;01mreturn\u001b[39;00m \u001b[43mfn\u001b[49m\u001b[43m(\u001b[49m\u001b[43minst\u001b[49m\u001b[43m,\u001b[49m\u001b[43m \u001b[49m\u001b[38;5;241;43m*\u001b[39;49m\u001b[43margs\u001b[49m\u001b[43m,\u001b[49m\u001b[43m \u001b[49m\u001b[38;5;241;43m*\u001b[39;49m\u001b[38;5;241;43m*\u001b[39;49m\u001b[43mkwargs\u001b[49m\u001b[43m)\u001b[49m\n",
      "File \u001b[0;32m~/poetry_taxi_demand_predictor/.venv/lib/python3.10/site-packages/hopsworks_common/client/base.py:186\u001b[0m, in \u001b[0;36mClient._send_request\u001b[0;34m(self, method, path_params, query_params, headers, data, stream, files, with_base_path_params)\u001b[0m\n\u001b[1;32m    181\u001b[0m     response \u001b[38;5;241m=\u001b[39m \u001b[38;5;28mself\u001b[39m\u001b[38;5;241m.\u001b[39m_retry_token_expired(\n\u001b[1;32m    182\u001b[0m         request, stream, \u001b[38;5;28mself\u001b[39m\u001b[38;5;241m.\u001b[39mTOKEN_EXPIRED_RETRY_INTERVAL, \u001b[38;5;241m1\u001b[39m\n\u001b[1;32m    183\u001b[0m     )\n\u001b[1;32m    185\u001b[0m \u001b[38;5;28;01mif\u001b[39;00m response\u001b[38;5;241m.\u001b[39mstatus_code \u001b[38;5;241m/\u001b[39m\u001b[38;5;241m/\u001b[39m \u001b[38;5;241m100\u001b[39m \u001b[38;5;241m!=\u001b[39m \u001b[38;5;241m2\u001b[39m:\n\u001b[0;32m--> 186\u001b[0m     \u001b[38;5;28;01mraise\u001b[39;00m exceptions\u001b[38;5;241m.\u001b[39mRestAPIError(url, response)\n\u001b[1;32m    188\u001b[0m \u001b[38;5;28;01mif\u001b[39;00m stream:\n\u001b[1;32m    189\u001b[0m     \u001b[38;5;28;01mreturn\u001b[39;00m response\n",
      "\u001b[0;31mRestAPIError\u001b[0m: Metadata operation error: (url: https://c.app.hopsworks.ai/hopsworks-api/api/project/1192104/featurestores/1181777/featureview). Server response: \nHTTP code: 400, HTTP reason: Bad Request, body: b'{\"errorCode\":270244,\"usrMsg\":\"pickup_hour is not primary key in feature group: time_series_hourly_feature_group\",\"errorMsg\":\"foreign key from the left feature group is not a primary key in the right feature group\"}', error code: 270244, error msg: foreign key from the left feature group is not a primary key in the right feature group, user msg: pickup_hour is not primary key in feature group: time_series_hourly_feature_group"
     ]
    }
   ],
   "source": [
    "from src.logger import get_logger\n",
    "logger = get_logger()\n",
    "from src.feature_store_api import get_or_create_feature_group, get_feature_store\n",
    "# create the feature view `config.FEATURE_VIEW_MONITORING` if it does not\n",
    "# exist yet\n",
    "feature_store = get_feature_store()\n",
    "# try:\n",
    "# create feature view as it does not exist yet\n",
    "feature_store.create_feature_view(\n",
    "    name=config.MONITORING_FV_NAME, # monitoring_feature_view\n",
    "    version=5,\n",
    "    query=query\n",
    "    )\n",
    "# except:\n",
    "#     logger.info('Feature view already existed. Skip creation.')"
   ]
  },
  {
   "cell_type": "code",
   "execution_count": 45,
   "metadata": {},
   "outputs": [],
   "source": [
    "# feature view\n",
    "monitoring_fv = feature_store.get_feature_view(\n",
    "    name=config.MONITORING_FV_NAME,\n",
    "    version=5,\n",
    ")"
   ]
  },
  {
   "cell_type": "code",
   "execution_count": 46,
   "metadata": {},
   "outputs": [
    {
     "data": {
      "text/plain": [
       "[Training Dataset Feature('pickup_location_id', 'int', 0, False, pickup_location_id, 1393354, None),\n",
       " Training Dataset Feature('predicted_demand', 'double', 1, False, predicted_demand, 1393354, None),\n",
       " Training Dataset Feature('pickup_hour', 'timestamp', 2, False, pickup_hour, 1393354, None),\n",
       " Training Dataset Feature('pickup_ts', 'bigint', 3, False, pickup_ts, 1393354, None),\n",
       " Training Dataset Feature('actualspickup_location_id', 'int', 4, False, pickup_location_id, 1393062, None),\n",
       " Training Dataset Feature('actualspickup_ts', 'bigint', 5, False, pickup_ts, 1393062, None),\n",
       " Training Dataset Feature('actualsrides', 'bigint', 6, False, rides, 1393062, None)]"
      ]
     },
     "execution_count": 46,
     "metadata": {},
     "output_type": "execute_result"
    }
   ],
   "source": [
    "monitoring_fv.schema"
   ]
  },
  {
   "cell_type": "code",
   "execution_count": 51,
   "metadata": {},
   "outputs": [
    {
     "name": "stdout",
     "output_type": "stream",
     "text": [
      "2025-01-19 00:06:11,316 ERROR: Binder Error: Cannot compare values of type TIMESTAMP WITH TIME ZONE and type BIGINT - an explicit cast is required\n",
      "LINE 3: ...fg0\".\"pickup_location_id\" \"actualspickup_location_id\", \"fg0\".\"pickup_ts\" \"actualspickup_ts\", \"fg0\".\"rides\" \"actualsrides\"\n",
      "FROM \"nyc_taxi_demand_project.model_predictions_feature_group_1\" \"fg1\"\n",
      "ASOF LEFT JOIN \"nyc_taxi_demand_project.time_series_hourly_feature_group_3\" \"fg0\" ON \"fg1\".\"pickup_ts\" = \"fg0\".\"pickup_ts\" AND \"fg1\".\"pickup_location_id\" = \"fg0\".\"pickup_location_id\" AND \"fg1\".\"pickup_hour\" >= \"fg0\".\"pickup_ts\"\n",
      "                                                  ^. Detail: Python exception: FlyingDuckException. gRPC client debug context: UNKNOWN:Error received from peer ipv4:51.79.26.27:5005 {grpc_message:\"Binder Error: Cannot compare values of type TIMESTAMP WITH TIME ZONE and type BIGINT - an explicit cast is required\\nLINE 3: ...fg0\\\".\\\"pickup_location_id\\\" \\\"actualspickup_location_id\\\", \\\"fg0\\\".\\\"pickup_ts\\\" \\\"actualspickup_ts\\\", \\\"fg0\\\".\\\"rides\\\" \\\"actualsrides\\\"\\nFROM \\\"nyc_taxi_demand_project.model_predictions_feature_group_1\\\" \\\"fg1\\\"\\nASOF LEFT JOIN \\\"nyc_taxi_demand_project.time_series_hourly_feature_group_3\\\" \\\"fg0\\\" ON \\\"fg1\\\".\\\"pickup_ts\\\" = \\\"fg0\\\".\\\"pickup_ts\\\" AND \\\"fg1\\\".\\\"pickup_location_id\\\" = \\\"fg0\\\".\\\"pickup_location_id\\\" AND \\\"fg1\\\".\\\"pickup_hour\\\" >= \\\"fg0\\\".\\\"pickup_ts\\\"\\n                                                  ^. Detail: Python exception: FlyingDuckException\", grpc_status:2, created_time:\"2025-01-19T00:06:11.315532+00:00\"}. Client context: IOError: Server never sent a data message. Detail: Internal\n",
      "Traceback (most recent call last):\n",
      "  File \"/Users/keshansharp/poetry_taxi_demand_predictor/.venv/lib/python3.10/site-packages/hsfs/core/arrow_flight_client.py\", line 364, in afs_error_handler_wrapper\n",
      "    return func(instance, *args, **kw)\n",
      "  File \"/Users/keshansharp/poetry_taxi_demand_predictor/.venv/lib/python3.10/site-packages/hsfs/core/arrow_flight_client.py\", line 427, in read_query\n",
      "    return self._get_dataset(\n",
      "  File \"/Users/keshansharp/poetry_taxi_demand_predictor/.venv/lib/python3.10/site-packages/retrying.py\", line 56, in wrapped_f\n",
      "    return Retrying(*dargs, **dkw).call(f, *args, **kw)\n",
      "  File \"/Users/keshansharp/poetry_taxi_demand_predictor/.venv/lib/python3.10/site-packages/retrying.py\", line 257, in call\n",
      "    return attempt.get(self._wrap_exception)\n",
      "  File \"/Users/keshansharp/poetry_taxi_demand_predictor/.venv/lib/python3.10/site-packages/retrying.py\", line 301, in get\n",
      "    six.reraise(self.value[0], self.value[1], self.value[2])\n",
      "  File \"/Users/keshansharp/poetry_taxi_demand_predictor/.venv/lib/python3.10/site-packages/six.py\", line 719, in reraise\n",
      "    raise value\n",
      "  File \"/Users/keshansharp/poetry_taxi_demand_predictor/.venv/lib/python3.10/site-packages/retrying.py\", line 251, in call\n",
      "    attempt = Attempt(fn(*args, **kwargs), attempt_number, False)\n",
      "  File \"/Users/keshansharp/poetry_taxi_demand_predictor/.venv/lib/python3.10/site-packages/hsfs/core/arrow_flight_client.py\", line 413, in _get_dataset\n",
      "    reader = self._connection.do_get(info.endpoints[0].ticket, options)\n",
      "  File \"pyarrow/_flight.pyx\", line 1633, in pyarrow._flight.FlightClient.do_get\n",
      "  File \"pyarrow/_flight.pyx\", line 58, in pyarrow._flight.check_flight_status\n",
      "pyarrow._flight.FlightServerError: Binder Error: Cannot compare values of type TIMESTAMP WITH TIME ZONE and type BIGINT - an explicit cast is required\n",
      "LINE 3: ...fg0\".\"pickup_location_id\" \"actualspickup_location_id\", \"fg0\".\"pickup_ts\" \"actualspickup_ts\", \"fg0\".\"rides\" \"actualsrides\"\n",
      "FROM \"nyc_taxi_demand_project.model_predictions_feature_group_1\" \"fg1\"\n",
      "ASOF LEFT JOIN \"nyc_taxi_demand_project.time_series_hourly_feature_group_3\" \"fg0\" ON \"fg1\".\"pickup_ts\" = \"fg0\".\"pickup_ts\" AND \"fg1\".\"pickup_location_id\" = \"fg0\".\"pickup_location_id\" AND \"fg1\".\"pickup_hour\" >= \"fg0\".\"pickup_ts\"\n",
      "                                                  ^. Detail: Python exception: FlyingDuckException. gRPC client debug context: UNKNOWN:Error received from peer ipv4:51.79.26.27:5005 {grpc_message:\"Binder Error: Cannot compare values of type TIMESTAMP WITH TIME ZONE and type BIGINT - an explicit cast is required\\nLINE 3: ...fg0\\\".\\\"pickup_location_id\\\" \\\"actualspickup_location_id\\\", \\\"fg0\\\".\\\"pickup_ts\\\" \\\"actualspickup_ts\\\", \\\"fg0\\\".\\\"rides\\\" \\\"actualsrides\\\"\\nFROM \\\"nyc_taxi_demand_project.model_predictions_feature_group_1\\\" \\\"fg1\\\"\\nASOF LEFT JOIN \\\"nyc_taxi_demand_project.time_series_hourly_feature_group_3\\\" \\\"fg0\\\" ON \\\"fg1\\\".\\\"pickup_ts\\\" = \\\"fg0\\\".\\\"pickup_ts\\\" AND \\\"fg1\\\".\\\"pickup_location_id\\\" = \\\"fg0\\\".\\\"pickup_location_id\\\" AND \\\"fg1\\\".\\\"pickup_hour\\\" >= \\\"fg0\\\".\\\"pickup_ts\\\"\\n                                                  ^. Detail: Python exception: FlyingDuckException\", grpc_status:2, created_time:\"2025-01-19T00:06:11.315532+00:00\"}. Client context: IOError: Server never sent a data message. Detail: Internal\n",
      "Error: Reading data from Hopsworks, using Hopsworks Feature Query Service           \n"
     ]
    },
    {
     "ename": "FeatureStoreException",
     "evalue": "Could not read data using Hopsworks Feature Query Service.",
     "output_type": "error",
     "traceback": [
      "\u001b[0;31m---------------------------------------------------------------------------\u001b[0m",
      "\u001b[0;31mFlightServerError\u001b[0m                         Traceback (most recent call last)",
      "File \u001b[0;32m~/poetry_taxi_demand_predictor/.venv/lib/python3.10/site-packages/hsfs/core/arrow_flight_client.py:364\u001b[0m, in \u001b[0;36mArrowFlightClient._handle_afs_exception.<locals>.decorator.<locals>.afs_error_handler_wrapper\u001b[0;34m(instance, *args, **kw)\u001b[0m\n\u001b[1;32m    363\u001b[0m \u001b[38;5;28;01mtry\u001b[39;00m:\n\u001b[0;32m--> 364\u001b[0m     \u001b[38;5;28;01mreturn\u001b[39;00m \u001b[43mfunc\u001b[49m\u001b[43m(\u001b[49m\u001b[43minstance\u001b[49m\u001b[43m,\u001b[49m\u001b[43m \u001b[49m\u001b[38;5;241;43m*\u001b[39;49m\u001b[43margs\u001b[49m\u001b[43m,\u001b[49m\u001b[43m \u001b[49m\u001b[38;5;241;43m*\u001b[39;49m\u001b[38;5;241;43m*\u001b[39;49m\u001b[43mkw\u001b[49m\u001b[43m)\u001b[49m\n\u001b[1;32m    365\u001b[0m \u001b[38;5;28;01mexcept\u001b[39;00m \u001b[38;5;167;01mException\u001b[39;00m \u001b[38;5;28;01mas\u001b[39;00m e:\n",
      "File \u001b[0;32m~/poetry_taxi_demand_predictor/.venv/lib/python3.10/site-packages/hsfs/core/arrow_flight_client.py:427\u001b[0m, in \u001b[0;36mArrowFlightClient.read_query\u001b[0;34m(self, query_object, arrow_flight_config, dataframe_type)\u001b[0m\n\u001b[1;32m    426\u001b[0m descriptor \u001b[38;5;241m=\u001b[39m pyarrow\u001b[38;5;241m.\u001b[39mflight\u001b[38;5;241m.\u001b[39mFlightDescriptor\u001b[38;5;241m.\u001b[39mfor_command(query_encoded)\n\u001b[0;32m--> 427\u001b[0m \u001b[38;5;28;01mreturn\u001b[39;00m \u001b[38;5;28;43mself\u001b[39;49m\u001b[38;5;241;43m.\u001b[39;49m\u001b[43m_get_dataset\u001b[49m\u001b[43m(\u001b[49m\n\u001b[1;32m    428\u001b[0m \u001b[43m    \u001b[49m\u001b[43mdescriptor\u001b[49m\u001b[43m,\u001b[49m\n\u001b[1;32m    429\u001b[0m \u001b[43m    \u001b[49m\u001b[43m(\u001b[49m\n\u001b[1;32m    430\u001b[0m \u001b[43m        \u001b[49m\u001b[43marrow_flight_config\u001b[49m\u001b[38;5;241;43m.\u001b[39;49m\u001b[43mget\u001b[49m\u001b[43m(\u001b[49m\u001b[38;5;124;43m\"\u001b[39;49m\u001b[38;5;124;43mtimeout\u001b[39;49m\u001b[38;5;124;43m\"\u001b[39;49m\u001b[43m,\u001b[49m\u001b[43m \u001b[49m\u001b[38;5;28;43mself\u001b[39;49m\u001b[38;5;241;43m.\u001b[39;49m\u001b[43mtimeout\u001b[49m\u001b[43m)\u001b[49m\n\u001b[1;32m    431\u001b[0m \u001b[43m        \u001b[49m\u001b[38;5;28;43;01mif\u001b[39;49;00m\u001b[43m \u001b[49m\u001b[43marrow_flight_config\u001b[49m\n\u001b[1;32m    432\u001b[0m \u001b[43m        \u001b[49m\u001b[38;5;28;43;01melse\u001b[39;49;00m\u001b[43m \u001b[49m\u001b[38;5;28;43mself\u001b[39;49m\u001b[38;5;241;43m.\u001b[39;49m\u001b[43mtimeout\u001b[49m\n\u001b[1;32m    433\u001b[0m \u001b[43m    \u001b[49m\u001b[43m)\u001b[49m\u001b[43m,\u001b[49m\n\u001b[1;32m    434\u001b[0m \u001b[43m    \u001b[49m\u001b[43mdataframe_type\u001b[49m\u001b[43m,\u001b[49m\n\u001b[1;32m    435\u001b[0m \u001b[43m\u001b[49m\u001b[43m)\u001b[49m\n",
      "File \u001b[0;32m~/poetry_taxi_demand_predictor/.venv/lib/python3.10/site-packages/retrying.py:56\u001b[0m, in \u001b[0;36mretry.<locals>.wrap.<locals>.wrapped_f\u001b[0;34m(*args, **kw)\u001b[0m\n\u001b[1;32m     54\u001b[0m \u001b[38;5;129m@six\u001b[39m\u001b[38;5;241m.\u001b[39mwraps(f)\n\u001b[1;32m     55\u001b[0m \u001b[38;5;28;01mdef\u001b[39;00m \u001b[38;5;21mwrapped_f\u001b[39m(\u001b[38;5;241m*\u001b[39margs, \u001b[38;5;241m*\u001b[39m\u001b[38;5;241m*\u001b[39mkw):\n\u001b[0;32m---> 56\u001b[0m     \u001b[38;5;28;01mreturn\u001b[39;00m \u001b[43mRetrying\u001b[49m\u001b[43m(\u001b[49m\u001b[38;5;241;43m*\u001b[39;49m\u001b[43mdargs\u001b[49m\u001b[43m,\u001b[49m\u001b[43m \u001b[49m\u001b[38;5;241;43m*\u001b[39;49m\u001b[38;5;241;43m*\u001b[39;49m\u001b[43mdkw\u001b[49m\u001b[43m)\u001b[49m\u001b[38;5;241;43m.\u001b[39;49m\u001b[43mcall\u001b[49m\u001b[43m(\u001b[49m\u001b[43mf\u001b[49m\u001b[43m,\u001b[49m\u001b[43m \u001b[49m\u001b[38;5;241;43m*\u001b[39;49m\u001b[43margs\u001b[49m\u001b[43m,\u001b[49m\u001b[43m \u001b[49m\u001b[38;5;241;43m*\u001b[39;49m\u001b[38;5;241;43m*\u001b[39;49m\u001b[43mkw\u001b[49m\u001b[43m)\u001b[49m\n",
      "File \u001b[0;32m~/poetry_taxi_demand_predictor/.venv/lib/python3.10/site-packages/retrying.py:257\u001b[0m, in \u001b[0;36mRetrying.call\u001b[0;34m(self, fn, *args, **kwargs)\u001b[0m\n\u001b[1;32m    256\u001b[0m \u001b[38;5;28;01mif\u001b[39;00m \u001b[38;5;129;01mnot\u001b[39;00m \u001b[38;5;28mself\u001b[39m\u001b[38;5;241m.\u001b[39mshould_reject(attempt):\n\u001b[0;32m--> 257\u001b[0m     \u001b[38;5;28;01mreturn\u001b[39;00m \u001b[43mattempt\u001b[49m\u001b[38;5;241;43m.\u001b[39;49m\u001b[43mget\u001b[49m\u001b[43m(\u001b[49m\u001b[38;5;28;43mself\u001b[39;49m\u001b[38;5;241;43m.\u001b[39;49m\u001b[43m_wrap_exception\u001b[49m\u001b[43m)\u001b[49m\n\u001b[1;32m    259\u001b[0m \u001b[38;5;28;01mif\u001b[39;00m \u001b[38;5;28mself\u001b[39m\u001b[38;5;241m.\u001b[39m_after_attempts:\n",
      "File \u001b[0;32m~/poetry_taxi_demand_predictor/.venv/lib/python3.10/site-packages/retrying.py:301\u001b[0m, in \u001b[0;36mAttempt.get\u001b[0;34m(self, wrap_exception)\u001b[0m\n\u001b[1;32m    300\u001b[0m     \u001b[38;5;28;01melse\u001b[39;00m:\n\u001b[0;32m--> 301\u001b[0m         \u001b[43msix\u001b[49m\u001b[38;5;241;43m.\u001b[39;49m\u001b[43mreraise\u001b[49m\u001b[43m(\u001b[49m\u001b[38;5;28;43mself\u001b[39;49m\u001b[38;5;241;43m.\u001b[39;49m\u001b[43mvalue\u001b[49m\u001b[43m[\u001b[49m\u001b[38;5;241;43m0\u001b[39;49m\u001b[43m]\u001b[49m\u001b[43m,\u001b[49m\u001b[43m \u001b[49m\u001b[38;5;28;43mself\u001b[39;49m\u001b[38;5;241;43m.\u001b[39;49m\u001b[43mvalue\u001b[49m\u001b[43m[\u001b[49m\u001b[38;5;241;43m1\u001b[39;49m\u001b[43m]\u001b[49m\u001b[43m,\u001b[49m\u001b[43m \u001b[49m\u001b[38;5;28;43mself\u001b[39;49m\u001b[38;5;241;43m.\u001b[39;49m\u001b[43mvalue\u001b[49m\u001b[43m[\u001b[49m\u001b[38;5;241;43m2\u001b[39;49m\u001b[43m]\u001b[49m\u001b[43m)\u001b[49m\n\u001b[1;32m    302\u001b[0m \u001b[38;5;28;01melse\u001b[39;00m:\n",
      "File \u001b[0;32m~/poetry_taxi_demand_predictor/.venv/lib/python3.10/site-packages/six.py:719\u001b[0m, in \u001b[0;36mreraise\u001b[0;34m(tp, value, tb)\u001b[0m\n\u001b[1;32m    718\u001b[0m         \u001b[38;5;28;01mraise\u001b[39;00m value\u001b[38;5;241m.\u001b[39mwith_traceback(tb)\n\u001b[0;32m--> 719\u001b[0m     \u001b[38;5;28;01mraise\u001b[39;00m value\n\u001b[1;32m    720\u001b[0m \u001b[38;5;28;01mfinally\u001b[39;00m:\n",
      "File \u001b[0;32m~/poetry_taxi_demand_predictor/.venv/lib/python3.10/site-packages/retrying.py:251\u001b[0m, in \u001b[0;36mRetrying.call\u001b[0;34m(self, fn, *args, **kwargs)\u001b[0m\n\u001b[1;32m    250\u001b[0m \u001b[38;5;28;01mtry\u001b[39;00m:\n\u001b[0;32m--> 251\u001b[0m     attempt \u001b[38;5;241m=\u001b[39m Attempt(\u001b[43mfn\u001b[49m\u001b[43m(\u001b[49m\u001b[38;5;241;43m*\u001b[39;49m\u001b[43margs\u001b[49m\u001b[43m,\u001b[49m\u001b[43m \u001b[49m\u001b[38;5;241;43m*\u001b[39;49m\u001b[38;5;241;43m*\u001b[39;49m\u001b[43mkwargs\u001b[49m\u001b[43m)\u001b[49m, attempt_number, \u001b[38;5;28;01mFalse\u001b[39;00m)\n\u001b[1;32m    252\u001b[0m \u001b[38;5;28;01mexcept\u001b[39;00m:\n",
      "File \u001b[0;32m~/poetry_taxi_demand_predictor/.venv/lib/python3.10/site-packages/hsfs/core/arrow_flight_client.py:413\u001b[0m, in \u001b[0;36mArrowFlightClient._get_dataset\u001b[0;34m(self, descriptor, timeout, dataframe_type)\u001b[0m\n\u001b[1;32m    412\u001b[0m options \u001b[38;5;241m=\u001b[39m pyarrow\u001b[38;5;241m.\u001b[39mflight\u001b[38;5;241m.\u001b[39mFlightCallOptions(timeout\u001b[38;5;241m=\u001b[39mtimeout)\n\u001b[0;32m--> 413\u001b[0m reader \u001b[38;5;241m=\u001b[39m \u001b[38;5;28;43mself\u001b[39;49m\u001b[38;5;241;43m.\u001b[39;49m\u001b[43m_connection\u001b[49m\u001b[38;5;241;43m.\u001b[39;49m\u001b[43mdo_get\u001b[49m\u001b[43m(\u001b[49m\u001b[43minfo\u001b[49m\u001b[38;5;241;43m.\u001b[39;49m\u001b[43mendpoints\u001b[49m\u001b[43m[\u001b[49m\u001b[38;5;241;43m0\u001b[39;49m\u001b[43m]\u001b[49m\u001b[38;5;241;43m.\u001b[39;49m\u001b[43mticket\u001b[49m\u001b[43m,\u001b[49m\u001b[43m \u001b[49m\u001b[43moptions\u001b[49m\u001b[43m)\u001b[49m\n\u001b[1;32m    414\u001b[0m _logger\u001b[38;5;241m.\u001b[39mdebug(\u001b[38;5;124m\"\u001b[39m\u001b[38;5;124mDataset fetched. Converting to dataframe \u001b[39m\u001b[38;5;132;01m%s\u001b[39;00m\u001b[38;5;124m.\u001b[39m\u001b[38;5;124m\"\u001b[39m, dataframe_type)\n",
      "File \u001b[0;32m~/poetry_taxi_demand_predictor/.venv/lib/python3.10/site-packages/pyarrow/_flight.pyx:1633\u001b[0m, in \u001b[0;36mpyarrow._flight.FlightClient.do_get\u001b[0;34m()\u001b[0m\n",
      "File \u001b[0;32m~/poetry_taxi_demand_predictor/.venv/lib/python3.10/site-packages/pyarrow/_flight.pyx:58\u001b[0m, in \u001b[0;36mpyarrow._flight.check_flight_status\u001b[0;34m()\u001b[0m\n",
      "\u001b[0;31mFlightServerError\u001b[0m: Binder Error: Cannot compare values of type TIMESTAMP WITH TIME ZONE and type BIGINT - an explicit cast is required\nLINE 3: ...fg0\".\"pickup_location_id\" \"actualspickup_location_id\", \"fg0\".\"pickup_ts\" \"actualspickup_ts\", \"fg0\".\"rides\" \"actualsrides\"\nFROM \"nyc_taxi_demand_project.model_predictions_feature_group_1\" \"fg1\"\nASOF LEFT JOIN \"nyc_taxi_demand_project.time_series_hourly_feature_group_3\" \"fg0\" ON \"fg1\".\"pickup_ts\" = \"fg0\".\"pickup_ts\" AND \"fg1\".\"pickup_location_id\" = \"fg0\".\"pickup_location_id\" AND \"fg1\".\"pickup_hour\" >= \"fg0\".\"pickup_ts\"\n                                                  ^. Detail: Python exception: FlyingDuckException. gRPC client debug context: UNKNOWN:Error received from peer ipv4:51.79.26.27:5005 {grpc_message:\"Binder Error: Cannot compare values of type TIMESTAMP WITH TIME ZONE and type BIGINT - an explicit cast is required\\nLINE 3: ...fg0\\\".\\\"pickup_location_id\\\" \\\"actualspickup_location_id\\\", \\\"fg0\\\".\\\"pickup_ts\\\" \\\"actualspickup_ts\\\", \\\"fg0\\\".\\\"rides\\\" \\\"actualsrides\\\"\\nFROM \\\"nyc_taxi_demand_project.model_predictions_feature_group_1\\\" \\\"fg1\\\"\\nASOF LEFT JOIN \\\"nyc_taxi_demand_project.time_series_hourly_feature_group_3\\\" \\\"fg0\\\" ON \\\"fg1\\\".\\\"pickup_ts\\\" = \\\"fg0\\\".\\\"pickup_ts\\\" AND \\\"fg1\\\".\\\"pickup_location_id\\\" = \\\"fg0\\\".\\\"pickup_location_id\\\" AND \\\"fg1\\\".\\\"pickup_hour\\\" >= \\\"fg0\\\".\\\"pickup_ts\\\"\\n                                                  ^. Detail: Python exception: FlyingDuckException\", grpc_status:2, created_time:\"2025-01-19T00:06:11.315532+00:00\"}. Client context: IOError: Server never sent a data message. Detail: Internal",
      "\nThe above exception was the direct cause of the following exception:\n",
      "\u001b[0;31mFeatureStoreException\u001b[0m                     Traceback (most recent call last)",
      "Cell \u001b[0;32mIn[51], line 3\u001b[0m\n\u001b[1;32m      1\u001b[0m \u001b[38;5;66;03m# fetch data form the feature view\u001b[39;00m\n\u001b[1;32m      2\u001b[0m \u001b[38;5;66;03m# fetch predicted and actual values for the last 30 days\u001b[39;00m\n\u001b[0;32m----> 3\u001b[0m monitoring_df \u001b[38;5;241m=\u001b[39m \u001b[43mmonitoring_fv\u001b[49m\u001b[38;5;241;43m.\u001b[39;49m\u001b[43mget_batch_data\u001b[49m\u001b[43m(\u001b[49m\n\u001b[1;32m      4\u001b[0m \u001b[43m    \u001b[49m\u001b[43mstart_time\u001b[49m\u001b[38;5;241;43m=\u001b[39;49m\u001b[43mfrom_date\u001b[49m\u001b[43m \u001b[49m\u001b[38;5;241;43m-\u001b[39;49m\u001b[43m \u001b[49m\u001b[43mtimedelta\u001b[49m\u001b[43m(\u001b[49m\u001b[43mdays\u001b[49m\u001b[38;5;241;43m=\u001b[39;49m\u001b[38;5;241;43m7\u001b[39;49m\u001b[43m)\u001b[49m\u001b[43m,\u001b[49m\n\u001b[1;32m      5\u001b[0m \u001b[43m    \u001b[49m\u001b[43mend_time\u001b[49m\u001b[38;5;241;43m=\u001b[39;49m\u001b[43mto_date\u001b[49m\u001b[43m \u001b[49m\u001b[38;5;241;43m+\u001b[39;49m\u001b[43m \u001b[49m\u001b[43mtimedelta\u001b[49m\u001b[43m(\u001b[49m\u001b[43mdays\u001b[49m\u001b[38;5;241;43m=\u001b[39;49m\u001b[38;5;241;43m7\u001b[39;49m\u001b[43m)\u001b[49m\u001b[43m,\u001b[49m\n\u001b[1;32m      6\u001b[0m \u001b[43m)\u001b[49m\n\u001b[1;32m      7\u001b[0m monitoring_df\n",
      "File \u001b[0;32m~/poetry_taxi_demand_predictor/.venv/lib/python3.10/site-packages/hopsworks_common/usage.py:246\u001b[0m, in \u001b[0;36mmethod_logger.<locals>.wrapper\u001b[0;34m(*args, **kwargs)\u001b[0m\n\u001b[1;32m    244\u001b[0m \u001b[38;5;28;01mexcept\u001b[39;00m \u001b[38;5;167;01mException\u001b[39;00m \u001b[38;5;28;01mas\u001b[39;00m e:\n\u001b[1;32m    245\u001b[0m     exception \u001b[38;5;241m=\u001b[39m e\n\u001b[0;32m--> 246\u001b[0m     \u001b[38;5;28;01mraise\u001b[39;00m e\n\u001b[1;32m    247\u001b[0m \u001b[38;5;28;01mfinally\u001b[39;00m:\n\u001b[1;32m    248\u001b[0m     \u001b[38;5;28;01mtry\u001b[39;00m:\n",
      "File \u001b[0;32m~/poetry_taxi_demand_predictor/.venv/lib/python3.10/site-packages/hopsworks_common/usage.py:242\u001b[0m, in \u001b[0;36mmethod_logger.<locals>.wrapper\u001b[0;34m(*args, **kwargs)\u001b[0m\n\u001b[1;32m    239\u001b[0m exception \u001b[38;5;241m=\u001b[39m \u001b[38;5;28;01mNone\u001b[39;00m\n\u001b[1;32m    240\u001b[0m \u001b[38;5;28;01mtry\u001b[39;00m:\n\u001b[1;32m    241\u001b[0m     \u001b[38;5;66;03m# Call the original method\u001b[39;00m\n\u001b[0;32m--> 242\u001b[0m     result \u001b[38;5;241m=\u001b[39m \u001b[43mfunc\u001b[49m\u001b[43m(\u001b[49m\u001b[38;5;241;43m*\u001b[39;49m\u001b[43margs\u001b[49m\u001b[43m,\u001b[49m\u001b[43m \u001b[49m\u001b[38;5;241;43m*\u001b[39;49m\u001b[38;5;241;43m*\u001b[39;49m\u001b[43mkwargs\u001b[49m\u001b[43m)\u001b[49m\n\u001b[1;32m    243\u001b[0m     \u001b[38;5;28;01mreturn\u001b[39;00m result\n\u001b[1;32m    244\u001b[0m \u001b[38;5;28;01mexcept\u001b[39;00m \u001b[38;5;167;01mException\u001b[39;00m \u001b[38;5;28;01mas\u001b[39;00m e:\n",
      "File \u001b[0;32m~/poetry_taxi_demand_predictor/.venv/lib/python3.10/site-packages/hsfs/feature_view.py:1070\u001b[0m, in \u001b[0;36mFeatureView.get_batch_data\u001b[0;34m(self, start_time, end_time, read_options, spine, primary_key, event_time, inference_helper_columns, dataframe_type, transformed, **kwargs)\u001b[0m\n\u001b[1;32m   1067\u001b[0m \u001b[38;5;28;01mif\u001b[39;00m \u001b[38;5;129;01mnot\u001b[39;00m \u001b[38;5;28mself\u001b[39m\u001b[38;5;241m.\u001b[39m_batch_scoring_server\u001b[38;5;241m.\u001b[39m_serving_initialized:\n\u001b[1;32m   1068\u001b[0m     \u001b[38;5;28mself\u001b[39m\u001b[38;5;241m.\u001b[39minit_batch_scoring()\n\u001b[0;32m-> 1070\u001b[0m \u001b[38;5;28;01mreturn\u001b[39;00m \u001b[38;5;28;43mself\u001b[39;49m\u001b[38;5;241;43m.\u001b[39;49m\u001b[43m_feature_view_engine\u001b[49m\u001b[38;5;241;43m.\u001b[39;49m\u001b[43mget_batch_data\u001b[49m\u001b[43m(\u001b[49m\n\u001b[1;32m   1071\u001b[0m \u001b[43m    \u001b[49m\u001b[38;5;28;43mself\u001b[39;49m\u001b[43m,\u001b[49m\n\u001b[1;32m   1072\u001b[0m \u001b[43m    \u001b[49m\u001b[43mstart_time\u001b[49m\u001b[43m,\u001b[49m\n\u001b[1;32m   1073\u001b[0m \u001b[43m    \u001b[49m\u001b[43mend_time\u001b[49m\u001b[43m,\u001b[49m\n\u001b[1;32m   1074\u001b[0m \u001b[43m    \u001b[49m\u001b[38;5;28;43mself\u001b[39;49m\u001b[38;5;241;43m.\u001b[39;49m\u001b[43m_batch_scoring_server\u001b[49m\u001b[38;5;241;43m.\u001b[39;49m\u001b[43mtraining_dataset_version\u001b[49m\u001b[43m,\u001b[49m\n\u001b[1;32m   1075\u001b[0m \u001b[43m    \u001b[49m\u001b[38;5;28;43mself\u001b[39;49m\u001b[38;5;241;43m.\u001b[39;49m\u001b[43m_batch_scoring_server\u001b[49m\u001b[38;5;241;43m.\u001b[39;49m\u001b[43m_model_dependent_transformation_functions\u001b[49m\u001b[43m,\u001b[49m\n\u001b[1;32m   1076\u001b[0m \u001b[43m    \u001b[49m\u001b[43mread_options\u001b[49m\u001b[43m,\u001b[49m\n\u001b[1;32m   1077\u001b[0m \u001b[43m    \u001b[49m\u001b[43mspine\u001b[49m\u001b[43m,\u001b[49m\n\u001b[1;32m   1078\u001b[0m \u001b[43m    \u001b[49m\u001b[43mkwargs\u001b[49m\u001b[38;5;241;43m.\u001b[39;49m\u001b[43mget\u001b[49m\u001b[43m(\u001b[49m\u001b[38;5;124;43m\"\u001b[39;49m\u001b[38;5;124;43mprimary_keys\u001b[39;49m\u001b[38;5;124;43m\"\u001b[39;49m\u001b[43m)\u001b[49m\u001b[43m \u001b[49m\u001b[38;5;129;43;01mor\u001b[39;49;00m\u001b[43m \u001b[49m\u001b[43mprimary_key\u001b[49m\u001b[43m,\u001b[49m\n\u001b[1;32m   1079\u001b[0m \u001b[43m    \u001b[49m\u001b[43mevent_time\u001b[49m\u001b[43m,\u001b[49m\n\u001b[1;32m   1080\u001b[0m \u001b[43m    \u001b[49m\u001b[43minference_helper_columns\u001b[49m\u001b[43m,\u001b[49m\n\u001b[1;32m   1081\u001b[0m \u001b[43m    \u001b[49m\u001b[43mdataframe_type\u001b[49m\u001b[43m,\u001b[49m\n\u001b[1;32m   1082\u001b[0m \u001b[43m    \u001b[49m\u001b[43mtransformed\u001b[49m\u001b[38;5;241;43m=\u001b[39;49m\u001b[43mtransformed\u001b[49m\u001b[43m,\u001b[49m\n\u001b[1;32m   1083\u001b[0m \u001b[43m\u001b[49m\u001b[43m)\u001b[49m\n",
      "File \u001b[0;32m~/poetry_taxi_demand_predictor/.venv/lib/python3.10/site-packages/hsfs/core/feature_view_engine.py:925\u001b[0m, in \u001b[0;36mFeatureViewEngine.get_batch_data\u001b[0;34m(self, feature_view_obj, start_time, end_time, training_dataset_version, transformation_functions, read_options, spine, primary_keys, event_time, inference_helper_columns, dataframe_type, transformed)\u001b[0m\n\u001b[1;32m    922\u001b[0m \u001b[38;5;28;01mif\u001b[39;00m event_time:\n\u001b[1;32m    923\u001b[0m     \u001b[38;5;28mself\u001b[39m\u001b[38;5;241m.\u001b[39m_get_eventtimes_from_query(feature_view_obj\u001b[38;5;241m.\u001b[39mquery)\n\u001b[0;32m--> 925\u001b[0m feature_dataframe \u001b[38;5;241m=\u001b[39m \u001b[38;5;28;43mself\u001b[39;49m\u001b[38;5;241;43m.\u001b[39;49m\u001b[43mget_batch_query\u001b[49m\u001b[43m(\u001b[49m\n\u001b[1;32m    926\u001b[0m \u001b[43m    \u001b[49m\u001b[43mfeature_view_obj\u001b[49m\u001b[43m,\u001b[49m\n\u001b[1;32m    927\u001b[0m \u001b[43m    \u001b[49m\u001b[43mstart_time\u001b[49m\u001b[43m,\u001b[49m\n\u001b[1;32m    928\u001b[0m \u001b[43m    \u001b[49m\u001b[43mend_time\u001b[49m\u001b[43m,\u001b[49m\n\u001b[1;32m    929\u001b[0m \u001b[43m    \u001b[49m\u001b[43mwith_label\u001b[49m\u001b[38;5;241;43m=\u001b[39;49m\u001b[38;5;28;43;01mFalse\u001b[39;49;00m\u001b[43m,\u001b[49m\n\u001b[1;32m    930\u001b[0m \u001b[43m    \u001b[49m\u001b[43mprimary_keys\u001b[49m\u001b[38;5;241;43m=\u001b[39;49m\u001b[43mprimary_keys\u001b[49m\u001b[43m,\u001b[49m\n\u001b[1;32m    931\u001b[0m \u001b[43m    \u001b[49m\u001b[43mevent_time\u001b[49m\u001b[38;5;241;43m=\u001b[39;49m\u001b[43mevent_time\u001b[49m\u001b[43m,\u001b[49m\n\u001b[1;32m    932\u001b[0m \u001b[43m    \u001b[49m\u001b[43minference_helper_columns\u001b[49m\u001b[38;5;241;43m=\u001b[39;49m\u001b[43minference_helper_columns\u001b[49m\u001b[43m \u001b[49m\u001b[38;5;129;43;01mor\u001b[39;49;00m\u001b[43m \u001b[49m\u001b[38;5;129;43;01mnot\u001b[39;49;00m\u001b[43m \u001b[49m\u001b[43mtransformed\u001b[49m\u001b[43m,\u001b[49m\n\u001b[1;32m    933\u001b[0m \u001b[43m    \u001b[49m\u001b[43mtraining_helper_columns\u001b[49m\u001b[38;5;241;43m=\u001b[39;49m\u001b[38;5;28;43;01mFalse\u001b[39;49;00m\u001b[43m,\u001b[49m\n\u001b[1;32m    934\u001b[0m \u001b[43m    \u001b[49m\u001b[43mtraining_dataset_version\u001b[49m\u001b[38;5;241;43m=\u001b[39;49m\u001b[43mtraining_dataset_version\u001b[49m\u001b[43m,\u001b[49m\n\u001b[1;32m    935\u001b[0m \u001b[43m    \u001b[49m\u001b[43mspine\u001b[49m\u001b[38;5;241;43m=\u001b[39;49m\u001b[43mspine\u001b[49m\u001b[43m,\u001b[49m\n\u001b[1;32m    936\u001b[0m \u001b[43m\u001b[49m\u001b[43m)\u001b[49m\u001b[38;5;241;43m.\u001b[39;49m\u001b[43mread\u001b[49m\u001b[43m(\u001b[49m\u001b[43mread_options\u001b[49m\u001b[38;5;241;43m=\u001b[39;49m\u001b[43mread_options\u001b[49m\u001b[43m,\u001b[49m\u001b[43m \u001b[49m\u001b[43mdataframe_type\u001b[49m\u001b[38;5;241;43m=\u001b[39;49m\u001b[43mdataframe_type\u001b[49m\u001b[43m)\u001b[49m\n\u001b[1;32m    937\u001b[0m \u001b[38;5;28;01mif\u001b[39;00m transformation_functions \u001b[38;5;129;01mand\u001b[39;00m transformed:\n\u001b[1;32m    938\u001b[0m     \u001b[38;5;28;01mreturn\u001b[39;00m engine\u001b[38;5;241m.\u001b[39mget_instance()\u001b[38;5;241m.\u001b[39m_apply_transformation_function(\n\u001b[1;32m    939\u001b[0m         transformation_functions, dataset\u001b[38;5;241m=\u001b[39mfeature_dataframe\n\u001b[1;32m    940\u001b[0m     )\n",
      "File \u001b[0;32m~/poetry_taxi_demand_predictor/.venv/lib/python3.10/site-packages/hsfs/constructor/query.py:206\u001b[0m, in \u001b[0;36mQuery.read\u001b[0;34m(self, online, dataframe_type, read_options)\u001b[0m\n\u001b[1;32m    201\u001b[0m     \u001b[38;5;28;01mif\u001b[39;00m \u001b[38;5;28mlen\u001b[39m(\u001b[38;5;28mself\u001b[39m\u001b[38;5;241m.\u001b[39mjoins) \u001b[38;5;241m>\u001b[39m \u001b[38;5;241m0\u001b[39m \u001b[38;5;129;01mor\u001b[39;00m \u001b[38;5;28;01mNone\u001b[39;00m \u001b[38;5;129;01min\u001b[39;00m [f\u001b[38;5;241m.\u001b[39mtype \u001b[38;5;28;01mfor\u001b[39;00m f \u001b[38;5;129;01min\u001b[39;00m schema]:\n\u001b[1;32m    202\u001b[0m         \u001b[38;5;28;01mraise\u001b[39;00m \u001b[38;5;167;01mValueError\u001b[39;00m(\n\u001b[1;32m    203\u001b[0m             \u001b[38;5;124m\"\u001b[39m\u001b[38;5;124mPandas types casting only supported for feature_group.read()/query.select_all()\u001b[39m\u001b[38;5;124m\"\u001b[39m\n\u001b[1;32m    204\u001b[0m         )\n\u001b[0;32m--> 206\u001b[0m \u001b[38;5;28;01mreturn\u001b[39;00m \u001b[43mengine\u001b[49m\u001b[38;5;241;43m.\u001b[39;49m\u001b[43mget_instance\u001b[49m\u001b[43m(\u001b[49m\u001b[43m)\u001b[49m\u001b[38;5;241;43m.\u001b[39;49m\u001b[43msql\u001b[49m\u001b[43m(\u001b[49m\n\u001b[1;32m    207\u001b[0m \u001b[43m    \u001b[49m\u001b[43msql_query\u001b[49m\u001b[43m,\u001b[49m\n\u001b[1;32m    208\u001b[0m \u001b[43m    \u001b[49m\u001b[38;5;28;43mself\u001b[39;49m\u001b[38;5;241;43m.\u001b[39;49m\u001b[43m_feature_store_name\u001b[49m\u001b[43m,\u001b[49m\n\u001b[1;32m    209\u001b[0m \u001b[43m    \u001b[49m\u001b[43monline_conn\u001b[49m\u001b[43m,\u001b[49m\n\u001b[1;32m    210\u001b[0m \u001b[43m    \u001b[49m\u001b[43mdataframe_type\u001b[49m\u001b[43m,\u001b[49m\n\u001b[1;32m    211\u001b[0m \u001b[43m    \u001b[49m\u001b[43mread_options\u001b[49m\u001b[43m,\u001b[49m\n\u001b[1;32m    212\u001b[0m \u001b[43m    \u001b[49m\u001b[43mschema\u001b[49m\u001b[43m,\u001b[49m\n\u001b[1;32m    213\u001b[0m \u001b[43m\u001b[49m\u001b[43m)\u001b[49m\n",
      "File \u001b[0;32m~/poetry_taxi_demand_predictor/.venv/lib/python3.10/site-packages/hsfs/engine/python.py:146\u001b[0m, in \u001b[0;36mEngine.sql\u001b[0;34m(self, sql_query, feature_store, online_conn, dataframe_type, read_options, schema)\u001b[0m\n\u001b[1;32m    136\u001b[0m \u001b[38;5;28;01mdef\u001b[39;00m \u001b[38;5;21msql\u001b[39m(\n\u001b[1;32m    137\u001b[0m     \u001b[38;5;28mself\u001b[39m,\n\u001b[1;32m    138\u001b[0m     sql_query: \u001b[38;5;28mstr\u001b[39m,\n\u001b[0;32m   (...)\u001b[0m\n\u001b[1;32m    143\u001b[0m     schema: Optional[List[feature\u001b[38;5;241m.\u001b[39mFeature]] \u001b[38;5;241m=\u001b[39m \u001b[38;5;28;01mNone\u001b[39;00m,\n\u001b[1;32m    144\u001b[0m ) \u001b[38;5;241m-\u001b[39m\u001b[38;5;241m>\u001b[39m Union[pd\u001b[38;5;241m.\u001b[39mDataFrame, pl\u001b[38;5;241m.\u001b[39mDataFrame]:\n\u001b[1;32m    145\u001b[0m     \u001b[38;5;28;01mif\u001b[39;00m \u001b[38;5;129;01mnot\u001b[39;00m online_conn:\n\u001b[0;32m--> 146\u001b[0m         \u001b[38;5;28;01mreturn\u001b[39;00m \u001b[38;5;28;43mself\u001b[39;49m\u001b[38;5;241;43m.\u001b[39;49m\u001b[43m_sql_offline\u001b[49m\u001b[43m(\u001b[49m\n\u001b[1;32m    147\u001b[0m \u001b[43m            \u001b[49m\u001b[43msql_query\u001b[49m\u001b[43m,\u001b[49m\n\u001b[1;32m    148\u001b[0m \u001b[43m            \u001b[49m\u001b[43mdataframe_type\u001b[49m\u001b[43m,\u001b[49m\n\u001b[1;32m    149\u001b[0m \u001b[43m            \u001b[49m\u001b[43mschema\u001b[49m\u001b[43m,\u001b[49m\n\u001b[1;32m    150\u001b[0m \u001b[43m            \u001b[49m\u001b[43marrow_flight_config\u001b[49m\u001b[38;5;241;43m=\u001b[39;49m\u001b[43mread_options\u001b[49m\u001b[38;5;241;43m.\u001b[39;49m\u001b[43mget\u001b[49m\u001b[43m(\u001b[49m\u001b[38;5;124;43m\"\u001b[39;49m\u001b[38;5;124;43marrow_flight_config\u001b[39;49m\u001b[38;5;124;43m\"\u001b[39;49m\u001b[43m,\u001b[49m\u001b[43m \u001b[49m\u001b[43m{\u001b[49m\u001b[43m}\u001b[49m\u001b[43m)\u001b[49m\n\u001b[1;32m    151\u001b[0m \u001b[43m            \u001b[49m\u001b[38;5;28;43;01mif\u001b[39;49;00m\u001b[43m \u001b[49m\u001b[43mread_options\u001b[49m\n\u001b[1;32m    152\u001b[0m \u001b[43m            \u001b[49m\u001b[38;5;28;43;01melse\u001b[39;49;00m\u001b[43m \u001b[49m\u001b[43m{\u001b[49m\u001b[43m}\u001b[49m\u001b[43m,\u001b[49m\n\u001b[1;32m    153\u001b[0m \u001b[43m        \u001b[49m\u001b[43m)\u001b[49m\n\u001b[1;32m    154\u001b[0m     \u001b[38;5;28;01melse\u001b[39;00m:\n\u001b[1;32m    155\u001b[0m         \u001b[38;5;28;01mreturn\u001b[39;00m \u001b[38;5;28mself\u001b[39m\u001b[38;5;241m.\u001b[39m_jdbc(\n\u001b[1;32m    156\u001b[0m             sql_query, online_conn, dataframe_type, read_options, schema\n\u001b[1;32m    157\u001b[0m         )\n",
      "File \u001b[0;32m~/poetry_taxi_demand_predictor/.venv/lib/python3.10/site-packages/hsfs/engine/python.py:189\u001b[0m, in \u001b[0;36mEngine._sql_offline\u001b[0;34m(self, sql_query, dataframe_type, schema, arrow_flight_config)\u001b[0m\n\u001b[1;32m    186\u001b[0m \u001b[38;5;28;01mif\u001b[39;00m \u001b[38;5;28misinstance\u001b[39m(sql_query, \u001b[38;5;28mdict\u001b[39m) \u001b[38;5;129;01mand\u001b[39;00m \u001b[38;5;124m\"\u001b[39m\u001b[38;5;124mquery_string\u001b[39m\u001b[38;5;124m\"\u001b[39m \u001b[38;5;129;01min\u001b[39;00m sql_query:\n\u001b[1;32m    187\u001b[0m     \u001b[38;5;28;01mfrom\u001b[39;00m \u001b[38;5;21;01mhsfs\u001b[39;00m\u001b[38;5;21;01m.\u001b[39;00m\u001b[38;5;21;01mcore\u001b[39;00m \u001b[38;5;28;01mimport\u001b[39;00m arrow_flight_client\n\u001b[0;32m--> 189\u001b[0m     result_df \u001b[38;5;241m=\u001b[39m \u001b[43mutil\u001b[49m\u001b[38;5;241;43m.\u001b[39;49m\u001b[43mrun_with_loading_animation\u001b[49m\u001b[43m(\u001b[49m\n\u001b[1;32m    190\u001b[0m \u001b[43m        \u001b[49m\u001b[38;5;124;43m\"\u001b[39;49m\u001b[38;5;124;43mReading data from Hopsworks, using Hopsworks Feature Query Service\u001b[39;49m\u001b[38;5;124;43m\"\u001b[39;49m\u001b[43m,\u001b[49m\n\u001b[1;32m    191\u001b[0m \u001b[43m        \u001b[49m\u001b[43marrow_flight_client\u001b[49m\u001b[38;5;241;43m.\u001b[39;49m\u001b[43mget_instance\u001b[49m\u001b[43m(\u001b[49m\u001b[43m)\u001b[49m\u001b[38;5;241;43m.\u001b[39;49m\u001b[43mread_query\u001b[49m\u001b[43m,\u001b[49m\n\u001b[1;32m    192\u001b[0m \u001b[43m        \u001b[49m\u001b[43msql_query\u001b[49m\u001b[43m,\u001b[49m\n\u001b[1;32m    193\u001b[0m \u001b[43m        \u001b[49m\u001b[43marrow_flight_config\u001b[49m\u001b[43m \u001b[49m\u001b[38;5;129;43;01mor\u001b[39;49;00m\u001b[43m \u001b[49m\u001b[43m{\u001b[49m\u001b[43m}\u001b[49m\u001b[43m,\u001b[49m\n\u001b[1;32m    194\u001b[0m \u001b[43m        \u001b[49m\u001b[43mdataframe_type\u001b[49m\u001b[43m,\u001b[49m\n\u001b[1;32m    195\u001b[0m \u001b[43m    \u001b[49m\u001b[43m)\u001b[49m\n\u001b[1;32m    196\u001b[0m \u001b[38;5;28;01melse\u001b[39;00m:\n\u001b[1;32m    197\u001b[0m     \u001b[38;5;28;01mraise\u001b[39;00m \u001b[38;5;167;01mValueError\u001b[39;00m(\n\u001b[1;32m    198\u001b[0m         \u001b[38;5;124m\"\u001b[39m\u001b[38;5;124mReading data with Hive is not supported when using hopsworks client version >= 4.0\u001b[39m\u001b[38;5;124m\"\u001b[39m\n\u001b[1;32m    199\u001b[0m     )\n",
      "File \u001b[0;32m~/poetry_taxi_demand_predictor/.venv/lib/python3.10/site-packages/hopsworks_common/util.py:303\u001b[0m, in \u001b[0;36mrun_with_loading_animation\u001b[0;34m(message, func, *args, **kwargs)\u001b[0m\n\u001b[1;32m    300\u001b[0m end \u001b[38;5;241m=\u001b[39m \u001b[38;5;28;01mNone\u001b[39;00m\n\u001b[1;32m    302\u001b[0m \u001b[38;5;28;01mtry\u001b[39;00m:\n\u001b[0;32m--> 303\u001b[0m     result \u001b[38;5;241m=\u001b[39m \u001b[43mfunc\u001b[49m\u001b[43m(\u001b[49m\u001b[38;5;241;43m*\u001b[39;49m\u001b[43margs\u001b[49m\u001b[43m,\u001b[49m\u001b[43m \u001b[49m\u001b[38;5;241;43m*\u001b[39;49m\u001b[38;5;241;43m*\u001b[39;49m\u001b[43mkwargs\u001b[49m\u001b[43m)\u001b[49m\n\u001b[1;32m    304\u001b[0m     end \u001b[38;5;241m=\u001b[39m time\u001b[38;5;241m.\u001b[39mtime()\n\u001b[1;32m    305\u001b[0m     \u001b[38;5;28;01mreturn\u001b[39;00m result\n",
      "File \u001b[0;32m~/poetry_taxi_demand_predictor/.venv/lib/python3.10/site-packages/hsfs/core/arrow_flight_client.py:382\u001b[0m, in \u001b[0;36mArrowFlightClient._handle_afs_exception.<locals>.decorator.<locals>.afs_error_handler_wrapper\u001b[0;34m(instance, *args, **kw)\u001b[0m\n\u001b[1;32m    380\u001b[0m     \u001b[38;5;28;01mraise\u001b[39;00m FeatureStoreException(\u001b[38;5;28mstr\u001b[39m(e)\u001b[38;5;241m.\u001b[39msplit(\u001b[38;5;124m\"\u001b[39m\u001b[38;5;124mDetails:\u001b[39m\u001b[38;5;124m\"\u001b[39m)[\u001b[38;5;241m0\u001b[39m]) \u001b[38;5;28;01mfrom\u001b[39;00m \u001b[38;5;21;01me\u001b[39;00m\n\u001b[1;32m    381\u001b[0m \u001b[38;5;28;01melse\u001b[39;00m:\n\u001b[0;32m--> 382\u001b[0m     \u001b[38;5;28;01mraise\u001b[39;00m FeatureStoreException(user_message) \u001b[38;5;28;01mfrom\u001b[39;00m \u001b[38;5;21;01me\u001b[39;00m\n",
      "\u001b[0;31mFeatureStoreException\u001b[0m: Could not read data using Hopsworks Feature Query Service."
     ]
    }
   ],
   "source": [
    "# fetch data form the feature view\n",
    "# fetch predicted and actual values for the last 30 days\n",
    "monitoring_df = monitoring_fv.get_batch_data(\n",
    "    start_time=from_date - timedelta(days=7),\n",
    "    end_time=to_date + timedelta(days=7),\n",
    ")\n",
    "monitoring_df"
   ]
  },
  {
   "cell_type": "code",
   "execution_count": 49,
   "metadata": {},
   "outputs": [
    {
     "name": "stdout",
     "output_type": "stream",
     "text": [
      "2025-01-19 00:05:53,581 ERROR: Binder Error: Cannot compare values of type TIMESTAMP WITH TIME ZONE and type BIGINT - an explicit cast is required\n",
      "LINE 3: ...fg0\".\"pickup_location_id\" \"actualspickup_location_id\", \"fg0\".\"pickup_ts\" \"actualspickup_ts\", \"fg0\".\"rides\" \"actualsrides\"\n",
      "FROM \"nyc_taxi_demand_project.model_predictions_feature_group_1\" \"fg1\"\n",
      "ASOF LEFT JOIN \"nyc_taxi_demand_project.time_series_hourly_feature_group_3\" \"fg0\" ON \"fg1\".\"pickup_location_id\" = \"fg0\".\"pickup_location_id\" AND \"fg1\".\"pickup_ts\" = \"fg0\".\"pickup_ts\" AND \"fg1\".\"pickup_hour\" >= \"fg0\".\"pickup_ts\"\n",
      "                                                  ^. Detail: Python exception: FlyingDuckException. gRPC client debug context: UNKNOWN:Error received from peer ipv4:51.79.26.27:5005 {created_time:\"2025-01-19T00:05:53.581294+00:00\", grpc_status:2, grpc_message:\"Binder Error: Cannot compare values of type TIMESTAMP WITH TIME ZONE and type BIGINT - an explicit cast is required\\nLINE 3: ...fg0\\\".\\\"pickup_location_id\\\" \\\"actualspickup_location_id\\\", \\\"fg0\\\".\\\"pickup_ts\\\" \\\"actualspickup_ts\\\", \\\"fg0\\\".\\\"rides\\\" \\\"actualsrides\\\"\\nFROM \\\"nyc_taxi_demand_project.model_predictions_feature_group_1\\\" \\\"fg1\\\"\\nASOF LEFT JOIN \\\"nyc_taxi_demand_project.time_series_hourly_feature_group_3\\\" \\\"fg0\\\" ON \\\"fg1\\\".\\\"pickup_location_id\\\" = \\\"fg0\\\".\\\"pickup_location_id\\\" AND \\\"fg1\\\".\\\"pickup_ts\\\" = \\\"fg0\\\".\\\"pickup_ts\\\" AND \\\"fg1\\\".\\\"pickup_hour\\\" >= \\\"fg0\\\".\\\"pickup_ts\\\"\\n                                                  ^. Detail: Python exception: FlyingDuckException\"}. Client context: IOError: Server never sent a data message. Detail: Internal\n",
      "Traceback (most recent call last):\n",
      "  File \"/Users/keshansharp/poetry_taxi_demand_predictor/.venv/lib/python3.10/site-packages/hsfs/core/arrow_flight_client.py\", line 364, in afs_error_handler_wrapper\n",
      "    return func(instance, *args, **kw)\n",
      "  File \"/Users/keshansharp/poetry_taxi_demand_predictor/.venv/lib/python3.10/site-packages/hsfs/core/arrow_flight_client.py\", line 427, in read_query\n",
      "    return self._get_dataset(\n",
      "  File \"/Users/keshansharp/poetry_taxi_demand_predictor/.venv/lib/python3.10/site-packages/retrying.py\", line 56, in wrapped_f\n",
      "    return Retrying(*dargs, **dkw).call(f, *args, **kw)\n",
      "  File \"/Users/keshansharp/poetry_taxi_demand_predictor/.venv/lib/python3.10/site-packages/retrying.py\", line 257, in call\n",
      "    return attempt.get(self._wrap_exception)\n",
      "  File \"/Users/keshansharp/poetry_taxi_demand_predictor/.venv/lib/python3.10/site-packages/retrying.py\", line 301, in get\n",
      "    six.reraise(self.value[0], self.value[1], self.value[2])\n",
      "  File \"/Users/keshansharp/poetry_taxi_demand_predictor/.venv/lib/python3.10/site-packages/six.py\", line 719, in reraise\n",
      "    raise value\n",
      "  File \"/Users/keshansharp/poetry_taxi_demand_predictor/.venv/lib/python3.10/site-packages/retrying.py\", line 251, in call\n",
      "    attempt = Attempt(fn(*args, **kwargs), attempt_number, False)\n",
      "  File \"/Users/keshansharp/poetry_taxi_demand_predictor/.venv/lib/python3.10/site-packages/hsfs/core/arrow_flight_client.py\", line 413, in _get_dataset\n",
      "    reader = self._connection.do_get(info.endpoints[0].ticket, options)\n",
      "  File \"pyarrow/_flight.pyx\", line 1633, in pyarrow._flight.FlightClient.do_get\n",
      "  File \"pyarrow/_flight.pyx\", line 58, in pyarrow._flight.check_flight_status\n",
      "pyarrow._flight.FlightServerError: Binder Error: Cannot compare values of type TIMESTAMP WITH TIME ZONE and type BIGINT - an explicit cast is required\n",
      "LINE 3: ...fg0\".\"pickup_location_id\" \"actualspickup_location_id\", \"fg0\".\"pickup_ts\" \"actualspickup_ts\", \"fg0\".\"rides\" \"actualsrides\"\n",
      "FROM \"nyc_taxi_demand_project.model_predictions_feature_group_1\" \"fg1\"\n",
      "ASOF LEFT JOIN \"nyc_taxi_demand_project.time_series_hourly_feature_group_3\" \"fg0\" ON \"fg1\".\"pickup_location_id\" = \"fg0\".\"pickup_location_id\" AND \"fg1\".\"pickup_ts\" = \"fg0\".\"pickup_ts\" AND \"fg1\".\"pickup_hour\" >= \"fg0\".\"pickup_ts\"\n",
      "                                                  ^. Detail: Python exception: FlyingDuckException. gRPC client debug context: UNKNOWN:Error received from peer ipv4:51.79.26.27:5005 {created_time:\"2025-01-19T00:05:53.581294+00:00\", grpc_status:2, grpc_message:\"Binder Error: Cannot compare values of type TIMESTAMP WITH TIME ZONE and type BIGINT - an explicit cast is required\\nLINE 3: ...fg0\\\".\\\"pickup_location_id\\\" \\\"actualspickup_location_id\\\", \\\"fg0\\\".\\\"pickup_ts\\\" \\\"actualspickup_ts\\\", \\\"fg0\\\".\\\"rides\\\" \\\"actualsrides\\\"\\nFROM \\\"nyc_taxi_demand_project.model_predictions_feature_group_1\\\" \\\"fg1\\\"\\nASOF LEFT JOIN \\\"nyc_taxi_demand_project.time_series_hourly_feature_group_3\\\" \\\"fg0\\\" ON \\\"fg1\\\".\\\"pickup_location_id\\\" = \\\"fg0\\\".\\\"pickup_location_id\\\" AND \\\"fg1\\\".\\\"pickup_ts\\\" = \\\"fg0\\\".\\\"pickup_ts\\\" AND \\\"fg1\\\".\\\"pickup_hour\\\" >= \\\"fg0\\\".\\\"pickup_ts\\\"\\n                                                  ^. Detail: Python exception: FlyingDuckException\"}. Client context: IOError: Server never sent a data message. Detail: Internal\n",
      "Error: Reading data from Hopsworks, using Hopsworks Feature Query Service           \n"
     ]
    },
    {
     "ename": "FeatureStoreException",
     "evalue": "Could not read data using Hopsworks Feature Query Service.",
     "output_type": "error",
     "traceback": [
      "\u001b[0;31m---------------------------------------------------------------------------\u001b[0m",
      "\u001b[0;31mFlightServerError\u001b[0m                         Traceback (most recent call last)",
      "File \u001b[0;32m~/poetry_taxi_demand_predictor/.venv/lib/python3.10/site-packages/hsfs/core/arrow_flight_client.py:364\u001b[0m, in \u001b[0;36mArrowFlightClient._handle_afs_exception.<locals>.decorator.<locals>.afs_error_handler_wrapper\u001b[0;34m(instance, *args, **kw)\u001b[0m\n\u001b[1;32m    363\u001b[0m \u001b[38;5;28;01mtry\u001b[39;00m:\n\u001b[0;32m--> 364\u001b[0m     \u001b[38;5;28;01mreturn\u001b[39;00m \u001b[43mfunc\u001b[49m\u001b[43m(\u001b[49m\u001b[43minstance\u001b[49m\u001b[43m,\u001b[49m\u001b[43m \u001b[49m\u001b[38;5;241;43m*\u001b[39;49m\u001b[43margs\u001b[49m\u001b[43m,\u001b[49m\u001b[43m \u001b[49m\u001b[38;5;241;43m*\u001b[39;49m\u001b[38;5;241;43m*\u001b[39;49m\u001b[43mkw\u001b[49m\u001b[43m)\u001b[49m\n\u001b[1;32m    365\u001b[0m \u001b[38;5;28;01mexcept\u001b[39;00m \u001b[38;5;167;01mException\u001b[39;00m \u001b[38;5;28;01mas\u001b[39;00m e:\n",
      "File \u001b[0;32m~/poetry_taxi_demand_predictor/.venv/lib/python3.10/site-packages/hsfs/core/arrow_flight_client.py:427\u001b[0m, in \u001b[0;36mArrowFlightClient.read_query\u001b[0;34m(self, query_object, arrow_flight_config, dataframe_type)\u001b[0m\n\u001b[1;32m    426\u001b[0m descriptor \u001b[38;5;241m=\u001b[39m pyarrow\u001b[38;5;241m.\u001b[39mflight\u001b[38;5;241m.\u001b[39mFlightDescriptor\u001b[38;5;241m.\u001b[39mfor_command(query_encoded)\n\u001b[0;32m--> 427\u001b[0m \u001b[38;5;28;01mreturn\u001b[39;00m \u001b[38;5;28;43mself\u001b[39;49m\u001b[38;5;241;43m.\u001b[39;49m\u001b[43m_get_dataset\u001b[49m\u001b[43m(\u001b[49m\n\u001b[1;32m    428\u001b[0m \u001b[43m    \u001b[49m\u001b[43mdescriptor\u001b[49m\u001b[43m,\u001b[49m\n\u001b[1;32m    429\u001b[0m \u001b[43m    \u001b[49m\u001b[43m(\u001b[49m\n\u001b[1;32m    430\u001b[0m \u001b[43m        \u001b[49m\u001b[43marrow_flight_config\u001b[49m\u001b[38;5;241;43m.\u001b[39;49m\u001b[43mget\u001b[49m\u001b[43m(\u001b[49m\u001b[38;5;124;43m\"\u001b[39;49m\u001b[38;5;124;43mtimeout\u001b[39;49m\u001b[38;5;124;43m\"\u001b[39;49m\u001b[43m,\u001b[49m\u001b[43m \u001b[49m\u001b[38;5;28;43mself\u001b[39;49m\u001b[38;5;241;43m.\u001b[39;49m\u001b[43mtimeout\u001b[49m\u001b[43m)\u001b[49m\n\u001b[1;32m    431\u001b[0m \u001b[43m        \u001b[49m\u001b[38;5;28;43;01mif\u001b[39;49;00m\u001b[43m \u001b[49m\u001b[43marrow_flight_config\u001b[49m\n\u001b[1;32m    432\u001b[0m \u001b[43m        \u001b[49m\u001b[38;5;28;43;01melse\u001b[39;49;00m\u001b[43m \u001b[49m\u001b[38;5;28;43mself\u001b[39;49m\u001b[38;5;241;43m.\u001b[39;49m\u001b[43mtimeout\u001b[49m\n\u001b[1;32m    433\u001b[0m \u001b[43m    \u001b[49m\u001b[43m)\u001b[49m\u001b[43m,\u001b[49m\n\u001b[1;32m    434\u001b[0m \u001b[43m    \u001b[49m\u001b[43mdataframe_type\u001b[49m\u001b[43m,\u001b[49m\n\u001b[1;32m    435\u001b[0m \u001b[43m\u001b[49m\u001b[43m)\u001b[49m\n",
      "File \u001b[0;32m~/poetry_taxi_demand_predictor/.venv/lib/python3.10/site-packages/retrying.py:56\u001b[0m, in \u001b[0;36mretry.<locals>.wrap.<locals>.wrapped_f\u001b[0;34m(*args, **kw)\u001b[0m\n\u001b[1;32m     54\u001b[0m \u001b[38;5;129m@six\u001b[39m\u001b[38;5;241m.\u001b[39mwraps(f)\n\u001b[1;32m     55\u001b[0m \u001b[38;5;28;01mdef\u001b[39;00m \u001b[38;5;21mwrapped_f\u001b[39m(\u001b[38;5;241m*\u001b[39margs, \u001b[38;5;241m*\u001b[39m\u001b[38;5;241m*\u001b[39mkw):\n\u001b[0;32m---> 56\u001b[0m     \u001b[38;5;28;01mreturn\u001b[39;00m \u001b[43mRetrying\u001b[49m\u001b[43m(\u001b[49m\u001b[38;5;241;43m*\u001b[39;49m\u001b[43mdargs\u001b[49m\u001b[43m,\u001b[49m\u001b[43m \u001b[49m\u001b[38;5;241;43m*\u001b[39;49m\u001b[38;5;241;43m*\u001b[39;49m\u001b[43mdkw\u001b[49m\u001b[43m)\u001b[49m\u001b[38;5;241;43m.\u001b[39;49m\u001b[43mcall\u001b[49m\u001b[43m(\u001b[49m\u001b[43mf\u001b[49m\u001b[43m,\u001b[49m\u001b[43m \u001b[49m\u001b[38;5;241;43m*\u001b[39;49m\u001b[43margs\u001b[49m\u001b[43m,\u001b[49m\u001b[43m \u001b[49m\u001b[38;5;241;43m*\u001b[39;49m\u001b[38;5;241;43m*\u001b[39;49m\u001b[43mkw\u001b[49m\u001b[43m)\u001b[49m\n",
      "File \u001b[0;32m~/poetry_taxi_demand_predictor/.venv/lib/python3.10/site-packages/retrying.py:257\u001b[0m, in \u001b[0;36mRetrying.call\u001b[0;34m(self, fn, *args, **kwargs)\u001b[0m\n\u001b[1;32m    256\u001b[0m \u001b[38;5;28;01mif\u001b[39;00m \u001b[38;5;129;01mnot\u001b[39;00m \u001b[38;5;28mself\u001b[39m\u001b[38;5;241m.\u001b[39mshould_reject(attempt):\n\u001b[0;32m--> 257\u001b[0m     \u001b[38;5;28;01mreturn\u001b[39;00m \u001b[43mattempt\u001b[49m\u001b[38;5;241;43m.\u001b[39;49m\u001b[43mget\u001b[49m\u001b[43m(\u001b[49m\u001b[38;5;28;43mself\u001b[39;49m\u001b[38;5;241;43m.\u001b[39;49m\u001b[43m_wrap_exception\u001b[49m\u001b[43m)\u001b[49m\n\u001b[1;32m    259\u001b[0m \u001b[38;5;28;01mif\u001b[39;00m \u001b[38;5;28mself\u001b[39m\u001b[38;5;241m.\u001b[39m_after_attempts:\n",
      "File \u001b[0;32m~/poetry_taxi_demand_predictor/.venv/lib/python3.10/site-packages/retrying.py:301\u001b[0m, in \u001b[0;36mAttempt.get\u001b[0;34m(self, wrap_exception)\u001b[0m\n\u001b[1;32m    300\u001b[0m     \u001b[38;5;28;01melse\u001b[39;00m:\n\u001b[0;32m--> 301\u001b[0m         \u001b[43msix\u001b[49m\u001b[38;5;241;43m.\u001b[39;49m\u001b[43mreraise\u001b[49m\u001b[43m(\u001b[49m\u001b[38;5;28;43mself\u001b[39;49m\u001b[38;5;241;43m.\u001b[39;49m\u001b[43mvalue\u001b[49m\u001b[43m[\u001b[49m\u001b[38;5;241;43m0\u001b[39;49m\u001b[43m]\u001b[49m\u001b[43m,\u001b[49m\u001b[43m \u001b[49m\u001b[38;5;28;43mself\u001b[39;49m\u001b[38;5;241;43m.\u001b[39;49m\u001b[43mvalue\u001b[49m\u001b[43m[\u001b[49m\u001b[38;5;241;43m1\u001b[39;49m\u001b[43m]\u001b[49m\u001b[43m,\u001b[49m\u001b[43m \u001b[49m\u001b[38;5;28;43mself\u001b[39;49m\u001b[38;5;241;43m.\u001b[39;49m\u001b[43mvalue\u001b[49m\u001b[43m[\u001b[49m\u001b[38;5;241;43m2\u001b[39;49m\u001b[43m]\u001b[49m\u001b[43m)\u001b[49m\n\u001b[1;32m    302\u001b[0m \u001b[38;5;28;01melse\u001b[39;00m:\n",
      "File \u001b[0;32m~/poetry_taxi_demand_predictor/.venv/lib/python3.10/site-packages/six.py:719\u001b[0m, in \u001b[0;36mreraise\u001b[0;34m(tp, value, tb)\u001b[0m\n\u001b[1;32m    718\u001b[0m         \u001b[38;5;28;01mraise\u001b[39;00m value\u001b[38;5;241m.\u001b[39mwith_traceback(tb)\n\u001b[0;32m--> 719\u001b[0m     \u001b[38;5;28;01mraise\u001b[39;00m value\n\u001b[1;32m    720\u001b[0m \u001b[38;5;28;01mfinally\u001b[39;00m:\n",
      "File \u001b[0;32m~/poetry_taxi_demand_predictor/.venv/lib/python3.10/site-packages/retrying.py:251\u001b[0m, in \u001b[0;36mRetrying.call\u001b[0;34m(self, fn, *args, **kwargs)\u001b[0m\n\u001b[1;32m    250\u001b[0m \u001b[38;5;28;01mtry\u001b[39;00m:\n\u001b[0;32m--> 251\u001b[0m     attempt \u001b[38;5;241m=\u001b[39m Attempt(\u001b[43mfn\u001b[49m\u001b[43m(\u001b[49m\u001b[38;5;241;43m*\u001b[39;49m\u001b[43margs\u001b[49m\u001b[43m,\u001b[49m\u001b[43m \u001b[49m\u001b[38;5;241;43m*\u001b[39;49m\u001b[38;5;241;43m*\u001b[39;49m\u001b[43mkwargs\u001b[49m\u001b[43m)\u001b[49m, attempt_number, \u001b[38;5;28;01mFalse\u001b[39;00m)\n\u001b[1;32m    252\u001b[0m \u001b[38;5;28;01mexcept\u001b[39;00m:\n",
      "File \u001b[0;32m~/poetry_taxi_demand_predictor/.venv/lib/python3.10/site-packages/hsfs/core/arrow_flight_client.py:413\u001b[0m, in \u001b[0;36mArrowFlightClient._get_dataset\u001b[0;34m(self, descriptor, timeout, dataframe_type)\u001b[0m\n\u001b[1;32m    412\u001b[0m options \u001b[38;5;241m=\u001b[39m pyarrow\u001b[38;5;241m.\u001b[39mflight\u001b[38;5;241m.\u001b[39mFlightCallOptions(timeout\u001b[38;5;241m=\u001b[39mtimeout)\n\u001b[0;32m--> 413\u001b[0m reader \u001b[38;5;241m=\u001b[39m \u001b[38;5;28;43mself\u001b[39;49m\u001b[38;5;241;43m.\u001b[39;49m\u001b[43m_connection\u001b[49m\u001b[38;5;241;43m.\u001b[39;49m\u001b[43mdo_get\u001b[49m\u001b[43m(\u001b[49m\u001b[43minfo\u001b[49m\u001b[38;5;241;43m.\u001b[39;49m\u001b[43mendpoints\u001b[49m\u001b[43m[\u001b[49m\u001b[38;5;241;43m0\u001b[39;49m\u001b[43m]\u001b[49m\u001b[38;5;241;43m.\u001b[39;49m\u001b[43mticket\u001b[49m\u001b[43m,\u001b[49m\u001b[43m \u001b[49m\u001b[43moptions\u001b[49m\u001b[43m)\u001b[49m\n\u001b[1;32m    414\u001b[0m _logger\u001b[38;5;241m.\u001b[39mdebug(\u001b[38;5;124m\"\u001b[39m\u001b[38;5;124mDataset fetched. Converting to dataframe \u001b[39m\u001b[38;5;132;01m%s\u001b[39;00m\u001b[38;5;124m.\u001b[39m\u001b[38;5;124m\"\u001b[39m, dataframe_type)\n",
      "File \u001b[0;32m~/poetry_taxi_demand_predictor/.venv/lib/python3.10/site-packages/pyarrow/_flight.pyx:1633\u001b[0m, in \u001b[0;36mpyarrow._flight.FlightClient.do_get\u001b[0;34m()\u001b[0m\n",
      "File \u001b[0;32m~/poetry_taxi_demand_predictor/.venv/lib/python3.10/site-packages/pyarrow/_flight.pyx:58\u001b[0m, in \u001b[0;36mpyarrow._flight.check_flight_status\u001b[0;34m()\u001b[0m\n",
      "\u001b[0;31mFlightServerError\u001b[0m: Binder Error: Cannot compare values of type TIMESTAMP WITH TIME ZONE and type BIGINT - an explicit cast is required\nLINE 3: ...fg0\".\"pickup_location_id\" \"actualspickup_location_id\", \"fg0\".\"pickup_ts\" \"actualspickup_ts\", \"fg0\".\"rides\" \"actualsrides\"\nFROM \"nyc_taxi_demand_project.model_predictions_feature_group_1\" \"fg1\"\nASOF LEFT JOIN \"nyc_taxi_demand_project.time_series_hourly_feature_group_3\" \"fg0\" ON \"fg1\".\"pickup_location_id\" = \"fg0\".\"pickup_location_id\" AND \"fg1\".\"pickup_ts\" = \"fg0\".\"pickup_ts\" AND \"fg1\".\"pickup_hour\" >= \"fg0\".\"pickup_ts\"\n                                                  ^. Detail: Python exception: FlyingDuckException. gRPC client debug context: UNKNOWN:Error received from peer ipv4:51.79.26.27:5005 {created_time:\"2025-01-19T00:05:53.581294+00:00\", grpc_status:2, grpc_message:\"Binder Error: Cannot compare values of type TIMESTAMP WITH TIME ZONE and type BIGINT - an explicit cast is required\\nLINE 3: ...fg0\\\".\\\"pickup_location_id\\\" \\\"actualspickup_location_id\\\", \\\"fg0\\\".\\\"pickup_ts\\\" \\\"actualspickup_ts\\\", \\\"fg0\\\".\\\"rides\\\" \\\"actualsrides\\\"\\nFROM \\\"nyc_taxi_demand_project.model_predictions_feature_group_1\\\" \\\"fg1\\\"\\nASOF LEFT JOIN \\\"nyc_taxi_demand_project.time_series_hourly_feature_group_3\\\" \\\"fg0\\\" ON \\\"fg1\\\".\\\"pickup_location_id\\\" = \\\"fg0\\\".\\\"pickup_location_id\\\" AND \\\"fg1\\\".\\\"pickup_ts\\\" = \\\"fg0\\\".\\\"pickup_ts\\\" AND \\\"fg1\\\".\\\"pickup_hour\\\" >= \\\"fg0\\\".\\\"pickup_ts\\\"\\n                                                  ^. Detail: Python exception: FlyingDuckException\"}. Client context: IOError: Server never sent a data message. Detail: Internal",
      "\nThe above exception was the direct cause of the following exception:\n",
      "\u001b[0;31mFeatureStoreException\u001b[0m                     Traceback (most recent call last)",
      "Cell \u001b[0;32mIn[49], line 3\u001b[0m\n\u001b[1;32m      1\u001b[0m \u001b[38;5;66;03m# fetch data form the feature view\u001b[39;00m\n\u001b[1;32m      2\u001b[0m \u001b[38;5;66;03m# fetch predicted and actual values for the last 30 days\u001b[39;00m\n\u001b[0;32m----> 3\u001b[0m monitoring_df \u001b[38;5;241m=\u001b[39m \u001b[43mmonitoring_fv\u001b[49m\u001b[38;5;241;43m.\u001b[39;49m\u001b[43mget_batch_data\u001b[49m\u001b[43m(\u001b[49m\n\u001b[1;32m      4\u001b[0m \u001b[43m    \u001b[49m\u001b[43mstart_time\u001b[49m\u001b[38;5;241;43m=\u001b[39;49m\u001b[43mfrom_date\u001b[49m\u001b[43m \u001b[49m\u001b[38;5;241;43m-\u001b[39;49m\u001b[43m \u001b[49m\u001b[43mtimedelta\u001b[49m\u001b[43m(\u001b[49m\u001b[43mdays\u001b[49m\u001b[38;5;241;43m=\u001b[39;49m\u001b[38;5;241;43m7\u001b[39;49m\u001b[43m)\u001b[49m\u001b[43m,\u001b[49m\n\u001b[1;32m      5\u001b[0m \u001b[43m    \u001b[49m\u001b[43mend_time\u001b[49m\u001b[38;5;241;43m=\u001b[39;49m\u001b[43mto_date\u001b[49m\u001b[43m \u001b[49m\u001b[38;5;241;43m+\u001b[39;49m\u001b[43m \u001b[49m\u001b[43mtimedelta\u001b[49m\u001b[43m(\u001b[49m\u001b[43mdays\u001b[49m\u001b[38;5;241;43m=\u001b[39;49m\u001b[38;5;241;43m7\u001b[39;49m\u001b[43m)\u001b[49m\u001b[43m,\u001b[49m\n\u001b[1;32m      6\u001b[0m \u001b[43m)\u001b[49m\n\u001b[1;32m      8\u001b[0m \u001b[38;5;66;03m# # filter data to the time period we are interested in\u001b[39;00m\n\u001b[1;32m      9\u001b[0m \u001b[38;5;66;03m# pickup_ts_from = int(from_date.timestamp() * 1000)\u001b[39;00m\n\u001b[1;32m     10\u001b[0m \u001b[38;5;66;03m# pickup_ts_to = int(to_date.timestamp() * 1000)\u001b[39;00m\n\u001b[1;32m     11\u001b[0m \n\u001b[1;32m     12\u001b[0m \u001b[38;5;66;03m# add column with Unix epoch milliseconds\u001b[39;00m\n\u001b[1;32m     13\u001b[0m pickup_ts_from \u001b[38;5;241m=\u001b[39m from_date\u001b[38;5;241m.\u001b[39mastype(\u001b[38;5;28mint\u001b[39m) \u001b[38;5;241m/\u001b[39m\u001b[38;5;241m/\u001b[39m \u001b[38;5;241m10\u001b[39m\u001b[38;5;241m*\u001b[39m\u001b[38;5;241m*\u001b[39m\u001b[38;5;241m6\u001b[39m\n",
      "File \u001b[0;32m~/poetry_taxi_demand_predictor/.venv/lib/python3.10/site-packages/hopsworks_common/usage.py:246\u001b[0m, in \u001b[0;36mmethod_logger.<locals>.wrapper\u001b[0;34m(*args, **kwargs)\u001b[0m\n\u001b[1;32m    244\u001b[0m \u001b[38;5;28;01mexcept\u001b[39;00m \u001b[38;5;167;01mException\u001b[39;00m \u001b[38;5;28;01mas\u001b[39;00m e:\n\u001b[1;32m    245\u001b[0m     exception \u001b[38;5;241m=\u001b[39m e\n\u001b[0;32m--> 246\u001b[0m     \u001b[38;5;28;01mraise\u001b[39;00m e\n\u001b[1;32m    247\u001b[0m \u001b[38;5;28;01mfinally\u001b[39;00m:\n\u001b[1;32m    248\u001b[0m     \u001b[38;5;28;01mtry\u001b[39;00m:\n",
      "File \u001b[0;32m~/poetry_taxi_demand_predictor/.venv/lib/python3.10/site-packages/hopsworks_common/usage.py:242\u001b[0m, in \u001b[0;36mmethod_logger.<locals>.wrapper\u001b[0;34m(*args, **kwargs)\u001b[0m\n\u001b[1;32m    239\u001b[0m exception \u001b[38;5;241m=\u001b[39m \u001b[38;5;28;01mNone\u001b[39;00m\n\u001b[1;32m    240\u001b[0m \u001b[38;5;28;01mtry\u001b[39;00m:\n\u001b[1;32m    241\u001b[0m     \u001b[38;5;66;03m# Call the original method\u001b[39;00m\n\u001b[0;32m--> 242\u001b[0m     result \u001b[38;5;241m=\u001b[39m \u001b[43mfunc\u001b[49m\u001b[43m(\u001b[49m\u001b[38;5;241;43m*\u001b[39;49m\u001b[43margs\u001b[49m\u001b[43m,\u001b[49m\u001b[43m \u001b[49m\u001b[38;5;241;43m*\u001b[39;49m\u001b[38;5;241;43m*\u001b[39;49m\u001b[43mkwargs\u001b[49m\u001b[43m)\u001b[49m\n\u001b[1;32m    243\u001b[0m     \u001b[38;5;28;01mreturn\u001b[39;00m result\n\u001b[1;32m    244\u001b[0m \u001b[38;5;28;01mexcept\u001b[39;00m \u001b[38;5;167;01mException\u001b[39;00m \u001b[38;5;28;01mas\u001b[39;00m e:\n",
      "File \u001b[0;32m~/poetry_taxi_demand_predictor/.venv/lib/python3.10/site-packages/hsfs/feature_view.py:1070\u001b[0m, in \u001b[0;36mFeatureView.get_batch_data\u001b[0;34m(self, start_time, end_time, read_options, spine, primary_key, event_time, inference_helper_columns, dataframe_type, transformed, **kwargs)\u001b[0m\n\u001b[1;32m   1067\u001b[0m \u001b[38;5;28;01mif\u001b[39;00m \u001b[38;5;129;01mnot\u001b[39;00m \u001b[38;5;28mself\u001b[39m\u001b[38;5;241m.\u001b[39m_batch_scoring_server\u001b[38;5;241m.\u001b[39m_serving_initialized:\n\u001b[1;32m   1068\u001b[0m     \u001b[38;5;28mself\u001b[39m\u001b[38;5;241m.\u001b[39minit_batch_scoring()\n\u001b[0;32m-> 1070\u001b[0m \u001b[38;5;28;01mreturn\u001b[39;00m \u001b[38;5;28;43mself\u001b[39;49m\u001b[38;5;241;43m.\u001b[39;49m\u001b[43m_feature_view_engine\u001b[49m\u001b[38;5;241;43m.\u001b[39;49m\u001b[43mget_batch_data\u001b[49m\u001b[43m(\u001b[49m\n\u001b[1;32m   1071\u001b[0m \u001b[43m    \u001b[49m\u001b[38;5;28;43mself\u001b[39;49m\u001b[43m,\u001b[49m\n\u001b[1;32m   1072\u001b[0m \u001b[43m    \u001b[49m\u001b[43mstart_time\u001b[49m\u001b[43m,\u001b[49m\n\u001b[1;32m   1073\u001b[0m \u001b[43m    \u001b[49m\u001b[43mend_time\u001b[49m\u001b[43m,\u001b[49m\n\u001b[1;32m   1074\u001b[0m \u001b[43m    \u001b[49m\u001b[38;5;28;43mself\u001b[39;49m\u001b[38;5;241;43m.\u001b[39;49m\u001b[43m_batch_scoring_server\u001b[49m\u001b[38;5;241;43m.\u001b[39;49m\u001b[43mtraining_dataset_version\u001b[49m\u001b[43m,\u001b[49m\n\u001b[1;32m   1075\u001b[0m \u001b[43m    \u001b[49m\u001b[38;5;28;43mself\u001b[39;49m\u001b[38;5;241;43m.\u001b[39;49m\u001b[43m_batch_scoring_server\u001b[49m\u001b[38;5;241;43m.\u001b[39;49m\u001b[43m_model_dependent_transformation_functions\u001b[49m\u001b[43m,\u001b[49m\n\u001b[1;32m   1076\u001b[0m \u001b[43m    \u001b[49m\u001b[43mread_options\u001b[49m\u001b[43m,\u001b[49m\n\u001b[1;32m   1077\u001b[0m \u001b[43m    \u001b[49m\u001b[43mspine\u001b[49m\u001b[43m,\u001b[49m\n\u001b[1;32m   1078\u001b[0m \u001b[43m    \u001b[49m\u001b[43mkwargs\u001b[49m\u001b[38;5;241;43m.\u001b[39;49m\u001b[43mget\u001b[49m\u001b[43m(\u001b[49m\u001b[38;5;124;43m\"\u001b[39;49m\u001b[38;5;124;43mprimary_keys\u001b[39;49m\u001b[38;5;124;43m\"\u001b[39;49m\u001b[43m)\u001b[49m\u001b[43m \u001b[49m\u001b[38;5;129;43;01mor\u001b[39;49;00m\u001b[43m \u001b[49m\u001b[43mprimary_key\u001b[49m\u001b[43m,\u001b[49m\n\u001b[1;32m   1079\u001b[0m \u001b[43m    \u001b[49m\u001b[43mevent_time\u001b[49m\u001b[43m,\u001b[49m\n\u001b[1;32m   1080\u001b[0m \u001b[43m    \u001b[49m\u001b[43minference_helper_columns\u001b[49m\u001b[43m,\u001b[49m\n\u001b[1;32m   1081\u001b[0m \u001b[43m    \u001b[49m\u001b[43mdataframe_type\u001b[49m\u001b[43m,\u001b[49m\n\u001b[1;32m   1082\u001b[0m \u001b[43m    \u001b[49m\u001b[43mtransformed\u001b[49m\u001b[38;5;241;43m=\u001b[39;49m\u001b[43mtransformed\u001b[49m\u001b[43m,\u001b[49m\n\u001b[1;32m   1083\u001b[0m \u001b[43m\u001b[49m\u001b[43m)\u001b[49m\n",
      "File \u001b[0;32m~/poetry_taxi_demand_predictor/.venv/lib/python3.10/site-packages/hsfs/core/feature_view_engine.py:925\u001b[0m, in \u001b[0;36mFeatureViewEngine.get_batch_data\u001b[0;34m(self, feature_view_obj, start_time, end_time, training_dataset_version, transformation_functions, read_options, spine, primary_keys, event_time, inference_helper_columns, dataframe_type, transformed)\u001b[0m\n\u001b[1;32m    922\u001b[0m \u001b[38;5;28;01mif\u001b[39;00m event_time:\n\u001b[1;32m    923\u001b[0m     \u001b[38;5;28mself\u001b[39m\u001b[38;5;241m.\u001b[39m_get_eventtimes_from_query(feature_view_obj\u001b[38;5;241m.\u001b[39mquery)\n\u001b[0;32m--> 925\u001b[0m feature_dataframe \u001b[38;5;241m=\u001b[39m \u001b[38;5;28;43mself\u001b[39;49m\u001b[38;5;241;43m.\u001b[39;49m\u001b[43mget_batch_query\u001b[49m\u001b[43m(\u001b[49m\n\u001b[1;32m    926\u001b[0m \u001b[43m    \u001b[49m\u001b[43mfeature_view_obj\u001b[49m\u001b[43m,\u001b[49m\n\u001b[1;32m    927\u001b[0m \u001b[43m    \u001b[49m\u001b[43mstart_time\u001b[49m\u001b[43m,\u001b[49m\n\u001b[1;32m    928\u001b[0m \u001b[43m    \u001b[49m\u001b[43mend_time\u001b[49m\u001b[43m,\u001b[49m\n\u001b[1;32m    929\u001b[0m \u001b[43m    \u001b[49m\u001b[43mwith_label\u001b[49m\u001b[38;5;241;43m=\u001b[39;49m\u001b[38;5;28;43;01mFalse\u001b[39;49;00m\u001b[43m,\u001b[49m\n\u001b[1;32m    930\u001b[0m \u001b[43m    \u001b[49m\u001b[43mprimary_keys\u001b[49m\u001b[38;5;241;43m=\u001b[39;49m\u001b[43mprimary_keys\u001b[49m\u001b[43m,\u001b[49m\n\u001b[1;32m    931\u001b[0m \u001b[43m    \u001b[49m\u001b[43mevent_time\u001b[49m\u001b[38;5;241;43m=\u001b[39;49m\u001b[43mevent_time\u001b[49m\u001b[43m,\u001b[49m\n\u001b[1;32m    932\u001b[0m \u001b[43m    \u001b[49m\u001b[43minference_helper_columns\u001b[49m\u001b[38;5;241;43m=\u001b[39;49m\u001b[43minference_helper_columns\u001b[49m\u001b[43m \u001b[49m\u001b[38;5;129;43;01mor\u001b[39;49;00m\u001b[43m \u001b[49m\u001b[38;5;129;43;01mnot\u001b[39;49;00m\u001b[43m \u001b[49m\u001b[43mtransformed\u001b[49m\u001b[43m,\u001b[49m\n\u001b[1;32m    933\u001b[0m \u001b[43m    \u001b[49m\u001b[43mtraining_helper_columns\u001b[49m\u001b[38;5;241;43m=\u001b[39;49m\u001b[38;5;28;43;01mFalse\u001b[39;49;00m\u001b[43m,\u001b[49m\n\u001b[1;32m    934\u001b[0m \u001b[43m    \u001b[49m\u001b[43mtraining_dataset_version\u001b[49m\u001b[38;5;241;43m=\u001b[39;49m\u001b[43mtraining_dataset_version\u001b[49m\u001b[43m,\u001b[49m\n\u001b[1;32m    935\u001b[0m \u001b[43m    \u001b[49m\u001b[43mspine\u001b[49m\u001b[38;5;241;43m=\u001b[39;49m\u001b[43mspine\u001b[49m\u001b[43m,\u001b[49m\n\u001b[1;32m    936\u001b[0m \u001b[43m\u001b[49m\u001b[43m)\u001b[49m\u001b[38;5;241;43m.\u001b[39;49m\u001b[43mread\u001b[49m\u001b[43m(\u001b[49m\u001b[43mread_options\u001b[49m\u001b[38;5;241;43m=\u001b[39;49m\u001b[43mread_options\u001b[49m\u001b[43m,\u001b[49m\u001b[43m \u001b[49m\u001b[43mdataframe_type\u001b[49m\u001b[38;5;241;43m=\u001b[39;49m\u001b[43mdataframe_type\u001b[49m\u001b[43m)\u001b[49m\n\u001b[1;32m    937\u001b[0m \u001b[38;5;28;01mif\u001b[39;00m transformation_functions \u001b[38;5;129;01mand\u001b[39;00m transformed:\n\u001b[1;32m    938\u001b[0m     \u001b[38;5;28;01mreturn\u001b[39;00m engine\u001b[38;5;241m.\u001b[39mget_instance()\u001b[38;5;241m.\u001b[39m_apply_transformation_function(\n\u001b[1;32m    939\u001b[0m         transformation_functions, dataset\u001b[38;5;241m=\u001b[39mfeature_dataframe\n\u001b[1;32m    940\u001b[0m     )\n",
      "File \u001b[0;32m~/poetry_taxi_demand_predictor/.venv/lib/python3.10/site-packages/hsfs/constructor/query.py:206\u001b[0m, in \u001b[0;36mQuery.read\u001b[0;34m(self, online, dataframe_type, read_options)\u001b[0m\n\u001b[1;32m    201\u001b[0m     \u001b[38;5;28;01mif\u001b[39;00m \u001b[38;5;28mlen\u001b[39m(\u001b[38;5;28mself\u001b[39m\u001b[38;5;241m.\u001b[39mjoins) \u001b[38;5;241m>\u001b[39m \u001b[38;5;241m0\u001b[39m \u001b[38;5;129;01mor\u001b[39;00m \u001b[38;5;28;01mNone\u001b[39;00m \u001b[38;5;129;01min\u001b[39;00m [f\u001b[38;5;241m.\u001b[39mtype \u001b[38;5;28;01mfor\u001b[39;00m f \u001b[38;5;129;01min\u001b[39;00m schema]:\n\u001b[1;32m    202\u001b[0m         \u001b[38;5;28;01mraise\u001b[39;00m \u001b[38;5;167;01mValueError\u001b[39;00m(\n\u001b[1;32m    203\u001b[0m             \u001b[38;5;124m\"\u001b[39m\u001b[38;5;124mPandas types casting only supported for feature_group.read()/query.select_all()\u001b[39m\u001b[38;5;124m\"\u001b[39m\n\u001b[1;32m    204\u001b[0m         )\n\u001b[0;32m--> 206\u001b[0m \u001b[38;5;28;01mreturn\u001b[39;00m \u001b[43mengine\u001b[49m\u001b[38;5;241;43m.\u001b[39;49m\u001b[43mget_instance\u001b[49m\u001b[43m(\u001b[49m\u001b[43m)\u001b[49m\u001b[38;5;241;43m.\u001b[39;49m\u001b[43msql\u001b[49m\u001b[43m(\u001b[49m\n\u001b[1;32m    207\u001b[0m \u001b[43m    \u001b[49m\u001b[43msql_query\u001b[49m\u001b[43m,\u001b[49m\n\u001b[1;32m    208\u001b[0m \u001b[43m    \u001b[49m\u001b[38;5;28;43mself\u001b[39;49m\u001b[38;5;241;43m.\u001b[39;49m\u001b[43m_feature_store_name\u001b[49m\u001b[43m,\u001b[49m\n\u001b[1;32m    209\u001b[0m \u001b[43m    \u001b[49m\u001b[43monline_conn\u001b[49m\u001b[43m,\u001b[49m\n\u001b[1;32m    210\u001b[0m \u001b[43m    \u001b[49m\u001b[43mdataframe_type\u001b[49m\u001b[43m,\u001b[49m\n\u001b[1;32m    211\u001b[0m \u001b[43m    \u001b[49m\u001b[43mread_options\u001b[49m\u001b[43m,\u001b[49m\n\u001b[1;32m    212\u001b[0m \u001b[43m    \u001b[49m\u001b[43mschema\u001b[49m\u001b[43m,\u001b[49m\n\u001b[1;32m    213\u001b[0m \u001b[43m\u001b[49m\u001b[43m)\u001b[49m\n",
      "File \u001b[0;32m~/poetry_taxi_demand_predictor/.venv/lib/python3.10/site-packages/hsfs/engine/python.py:146\u001b[0m, in \u001b[0;36mEngine.sql\u001b[0;34m(self, sql_query, feature_store, online_conn, dataframe_type, read_options, schema)\u001b[0m\n\u001b[1;32m    136\u001b[0m \u001b[38;5;28;01mdef\u001b[39;00m \u001b[38;5;21msql\u001b[39m(\n\u001b[1;32m    137\u001b[0m     \u001b[38;5;28mself\u001b[39m,\n\u001b[1;32m    138\u001b[0m     sql_query: \u001b[38;5;28mstr\u001b[39m,\n\u001b[0;32m   (...)\u001b[0m\n\u001b[1;32m    143\u001b[0m     schema: Optional[List[feature\u001b[38;5;241m.\u001b[39mFeature]] \u001b[38;5;241m=\u001b[39m \u001b[38;5;28;01mNone\u001b[39;00m,\n\u001b[1;32m    144\u001b[0m ) \u001b[38;5;241m-\u001b[39m\u001b[38;5;241m>\u001b[39m Union[pd\u001b[38;5;241m.\u001b[39mDataFrame, pl\u001b[38;5;241m.\u001b[39mDataFrame]:\n\u001b[1;32m    145\u001b[0m     \u001b[38;5;28;01mif\u001b[39;00m \u001b[38;5;129;01mnot\u001b[39;00m online_conn:\n\u001b[0;32m--> 146\u001b[0m         \u001b[38;5;28;01mreturn\u001b[39;00m \u001b[38;5;28;43mself\u001b[39;49m\u001b[38;5;241;43m.\u001b[39;49m\u001b[43m_sql_offline\u001b[49m\u001b[43m(\u001b[49m\n\u001b[1;32m    147\u001b[0m \u001b[43m            \u001b[49m\u001b[43msql_query\u001b[49m\u001b[43m,\u001b[49m\n\u001b[1;32m    148\u001b[0m \u001b[43m            \u001b[49m\u001b[43mdataframe_type\u001b[49m\u001b[43m,\u001b[49m\n\u001b[1;32m    149\u001b[0m \u001b[43m            \u001b[49m\u001b[43mschema\u001b[49m\u001b[43m,\u001b[49m\n\u001b[1;32m    150\u001b[0m \u001b[43m            \u001b[49m\u001b[43marrow_flight_config\u001b[49m\u001b[38;5;241;43m=\u001b[39;49m\u001b[43mread_options\u001b[49m\u001b[38;5;241;43m.\u001b[39;49m\u001b[43mget\u001b[49m\u001b[43m(\u001b[49m\u001b[38;5;124;43m\"\u001b[39;49m\u001b[38;5;124;43marrow_flight_config\u001b[39;49m\u001b[38;5;124;43m\"\u001b[39;49m\u001b[43m,\u001b[49m\u001b[43m \u001b[49m\u001b[43m{\u001b[49m\u001b[43m}\u001b[49m\u001b[43m)\u001b[49m\n\u001b[1;32m    151\u001b[0m \u001b[43m            \u001b[49m\u001b[38;5;28;43;01mif\u001b[39;49;00m\u001b[43m \u001b[49m\u001b[43mread_options\u001b[49m\n\u001b[1;32m    152\u001b[0m \u001b[43m            \u001b[49m\u001b[38;5;28;43;01melse\u001b[39;49;00m\u001b[43m \u001b[49m\u001b[43m{\u001b[49m\u001b[43m}\u001b[49m\u001b[43m,\u001b[49m\n\u001b[1;32m    153\u001b[0m \u001b[43m        \u001b[49m\u001b[43m)\u001b[49m\n\u001b[1;32m    154\u001b[0m     \u001b[38;5;28;01melse\u001b[39;00m:\n\u001b[1;32m    155\u001b[0m         \u001b[38;5;28;01mreturn\u001b[39;00m \u001b[38;5;28mself\u001b[39m\u001b[38;5;241m.\u001b[39m_jdbc(\n\u001b[1;32m    156\u001b[0m             sql_query, online_conn, dataframe_type, read_options, schema\n\u001b[1;32m    157\u001b[0m         )\n",
      "File \u001b[0;32m~/poetry_taxi_demand_predictor/.venv/lib/python3.10/site-packages/hsfs/engine/python.py:189\u001b[0m, in \u001b[0;36mEngine._sql_offline\u001b[0;34m(self, sql_query, dataframe_type, schema, arrow_flight_config)\u001b[0m\n\u001b[1;32m    186\u001b[0m \u001b[38;5;28;01mif\u001b[39;00m \u001b[38;5;28misinstance\u001b[39m(sql_query, \u001b[38;5;28mdict\u001b[39m) \u001b[38;5;129;01mand\u001b[39;00m \u001b[38;5;124m\"\u001b[39m\u001b[38;5;124mquery_string\u001b[39m\u001b[38;5;124m\"\u001b[39m \u001b[38;5;129;01min\u001b[39;00m sql_query:\n\u001b[1;32m    187\u001b[0m     \u001b[38;5;28;01mfrom\u001b[39;00m \u001b[38;5;21;01mhsfs\u001b[39;00m\u001b[38;5;21;01m.\u001b[39;00m\u001b[38;5;21;01mcore\u001b[39;00m \u001b[38;5;28;01mimport\u001b[39;00m arrow_flight_client\n\u001b[0;32m--> 189\u001b[0m     result_df \u001b[38;5;241m=\u001b[39m \u001b[43mutil\u001b[49m\u001b[38;5;241;43m.\u001b[39;49m\u001b[43mrun_with_loading_animation\u001b[49m\u001b[43m(\u001b[49m\n\u001b[1;32m    190\u001b[0m \u001b[43m        \u001b[49m\u001b[38;5;124;43m\"\u001b[39;49m\u001b[38;5;124;43mReading data from Hopsworks, using Hopsworks Feature Query Service\u001b[39;49m\u001b[38;5;124;43m\"\u001b[39;49m\u001b[43m,\u001b[49m\n\u001b[1;32m    191\u001b[0m \u001b[43m        \u001b[49m\u001b[43marrow_flight_client\u001b[49m\u001b[38;5;241;43m.\u001b[39;49m\u001b[43mget_instance\u001b[49m\u001b[43m(\u001b[49m\u001b[43m)\u001b[49m\u001b[38;5;241;43m.\u001b[39;49m\u001b[43mread_query\u001b[49m\u001b[43m,\u001b[49m\n\u001b[1;32m    192\u001b[0m \u001b[43m        \u001b[49m\u001b[43msql_query\u001b[49m\u001b[43m,\u001b[49m\n\u001b[1;32m    193\u001b[0m \u001b[43m        \u001b[49m\u001b[43marrow_flight_config\u001b[49m\u001b[43m \u001b[49m\u001b[38;5;129;43;01mor\u001b[39;49;00m\u001b[43m \u001b[49m\u001b[43m{\u001b[49m\u001b[43m}\u001b[49m\u001b[43m,\u001b[49m\n\u001b[1;32m    194\u001b[0m \u001b[43m        \u001b[49m\u001b[43mdataframe_type\u001b[49m\u001b[43m,\u001b[49m\n\u001b[1;32m    195\u001b[0m \u001b[43m    \u001b[49m\u001b[43m)\u001b[49m\n\u001b[1;32m    196\u001b[0m \u001b[38;5;28;01melse\u001b[39;00m:\n\u001b[1;32m    197\u001b[0m     \u001b[38;5;28;01mraise\u001b[39;00m \u001b[38;5;167;01mValueError\u001b[39;00m(\n\u001b[1;32m    198\u001b[0m         \u001b[38;5;124m\"\u001b[39m\u001b[38;5;124mReading data with Hive is not supported when using hopsworks client version >= 4.0\u001b[39m\u001b[38;5;124m\"\u001b[39m\n\u001b[1;32m    199\u001b[0m     )\n",
      "File \u001b[0;32m~/poetry_taxi_demand_predictor/.venv/lib/python3.10/site-packages/hopsworks_common/util.py:303\u001b[0m, in \u001b[0;36mrun_with_loading_animation\u001b[0;34m(message, func, *args, **kwargs)\u001b[0m\n\u001b[1;32m    300\u001b[0m end \u001b[38;5;241m=\u001b[39m \u001b[38;5;28;01mNone\u001b[39;00m\n\u001b[1;32m    302\u001b[0m \u001b[38;5;28;01mtry\u001b[39;00m:\n\u001b[0;32m--> 303\u001b[0m     result \u001b[38;5;241m=\u001b[39m \u001b[43mfunc\u001b[49m\u001b[43m(\u001b[49m\u001b[38;5;241;43m*\u001b[39;49m\u001b[43margs\u001b[49m\u001b[43m,\u001b[49m\u001b[43m \u001b[49m\u001b[38;5;241;43m*\u001b[39;49m\u001b[38;5;241;43m*\u001b[39;49m\u001b[43mkwargs\u001b[49m\u001b[43m)\u001b[49m\n\u001b[1;32m    304\u001b[0m     end \u001b[38;5;241m=\u001b[39m time\u001b[38;5;241m.\u001b[39mtime()\n\u001b[1;32m    305\u001b[0m     \u001b[38;5;28;01mreturn\u001b[39;00m result\n",
      "File \u001b[0;32m~/poetry_taxi_demand_predictor/.venv/lib/python3.10/site-packages/hsfs/core/arrow_flight_client.py:382\u001b[0m, in \u001b[0;36mArrowFlightClient._handle_afs_exception.<locals>.decorator.<locals>.afs_error_handler_wrapper\u001b[0;34m(instance, *args, **kw)\u001b[0m\n\u001b[1;32m    380\u001b[0m     \u001b[38;5;28;01mraise\u001b[39;00m FeatureStoreException(\u001b[38;5;28mstr\u001b[39m(e)\u001b[38;5;241m.\u001b[39msplit(\u001b[38;5;124m\"\u001b[39m\u001b[38;5;124mDetails:\u001b[39m\u001b[38;5;124m\"\u001b[39m)[\u001b[38;5;241m0\u001b[39m]) \u001b[38;5;28;01mfrom\u001b[39;00m \u001b[38;5;21;01me\u001b[39;00m\n\u001b[1;32m    381\u001b[0m \u001b[38;5;28;01melse\u001b[39;00m:\n\u001b[0;32m--> 382\u001b[0m     \u001b[38;5;28;01mraise\u001b[39;00m FeatureStoreException(user_message) \u001b[38;5;28;01mfrom\u001b[39;00m \u001b[38;5;21;01me\u001b[39;00m\n",
      "\u001b[0;31mFeatureStoreException\u001b[0m: Could not read data using Hopsworks Feature Query Service."
     ]
    }
   ],
   "source": [
    "\n",
    "\n",
    "# # filter data to the time period we are interested in\n",
    "# pickup_ts_from = int(from_date.timestamp() * 1000)\n",
    "# pickup_ts_to = int(to_date.timestamp() * 1000)\n",
    "\n",
    "# add column with Unix epoch milliseconds\n",
    "pickup_ts_from = from_date.astype(int) // 10**6\n",
    "pickup_ts_to  = to_date.astype(int) // 10**6\n",
    "\n",
    "\n",
    "monitoring_df = monitoring_df[monitoring_df.pickup_ts.between(pickup_ts_from, pickup_ts_to)]\n",
    "\n"
   ]
  },
  {
   "cell_type": "code",
   "execution_count": 5,
   "metadata": {},
   "outputs": [
    {
     "name": "stdout",
     "output_type": "stream",
     "text": [
      "                  pickup_hour  pickup_location_id  predicted_demand  rides  \\\n",
      "0   2024-10-30 23:00:00+00:00                   8              11.0      0   \n",
      "1   2024-10-30 23:00:00+00:00                  67              13.0      0   \n",
      "2   2024-10-30 23:00:00+00:00                 250              11.0      0   \n",
      "3   2024-10-30 23:00:00+00:00                  91              12.0      0   \n",
      "4   2024-10-30 23:00:00+00:00                 265              10.0      0   \n",
      "..                        ...                 ...               ...    ...   \n",
      "250 2024-10-30 23:00:00+00:00                 197              12.0      0   \n",
      "251 2024-10-30 23:00:00+00:00                  42               9.0      1   \n",
      "252 2024-10-30 23:00:00+00:00                  14              12.0      1   \n",
      "253 2024-10-30 23:00:00+00:00                  54              11.0      0   \n",
      "254 2024-10-30 23:00:00+00:00                  28              12.0      0   \n",
      "\n",
      "     prediction_error  \n",
      "0                11.0  \n",
      "1                13.0  \n",
      "2                11.0  \n",
      "3                12.0  \n",
      "4                10.0  \n",
      "..                ...  \n",
      "250              12.0  \n",
      "251               8.0  \n",
      "252              11.0  \n",
      "253              11.0  \n",
      "254              12.0  \n",
      "\n",
      "[255 rows x 5 columns]\n"
     ]
    }
   ],
   "source": [
    "comparison_df = predictions_df.merge(\n",
    "    actuals_df,\n",
    "    on=['pickup_hour', 'pickup_location_id'],\n",
    "    how='left',\n",
    "    suffixes=('_pred', '_actual')\n",
    ")\n",
    "comparison_df\n",
    "\n",
    "# # Add comparison metrics\n",
    "comparison_df['prediction_error'] = comparison_df['predicted_demand'] - comparison_df['rides']\n",
    "\n",
    "# # View aligned predictions and actuals\n",
    "print(comparison_df[['pickup_hour', 'pickup_location_id', 'predicted_demand', 'rides', 'prediction_error']])"
   ]
  },
  {
   "cell_type": "code",
   "execution_count": null,
   "metadata": {},
   "outputs": [],
   "source": []
  }
 ],
 "metadata": {
  "kernelspec": {
   "display_name": ".venv",
   "language": "python",
   "name": "python3"
  },
  "language_info": {
   "codemirror_mode": {
    "name": "ipython",
    "version": 3
   },
   "file_extension": ".py",
   "mimetype": "text/x-python",
   "name": "python",
   "nbconvert_exporter": "python",
   "pygments_lexer": "ipython3",
   "version": "3.10.16"
  }
 },
 "nbformat": 4,
 "nbformat_minor": 2
}
