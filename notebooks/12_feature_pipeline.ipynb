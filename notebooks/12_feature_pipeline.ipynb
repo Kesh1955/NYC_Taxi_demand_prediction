{
 "cells": [
  {
   "cell_type": "code",
   "execution_count": 113,
   "metadata": {},
   "outputs": [],
   "source": [
    "import src.config as config"
   ]
  },
  {
   "cell_type": "markdown",
   "metadata": {},
   "source": [
    "Earliest date: 2022-01-01 00:00:08\n",
    "\n",
    "\n",
    "Latest date: 2023-12-31 23:59:59\n",
    "\n",
    "\n",
    "Number of rows: 77964130"
   ]
  },
  {
   "cell_type": "code",
   "execution_count": 115,
   "metadata": {},
   "outputs": [
    {
     "name": "stdout",
     "output_type": "stream",
     "text": [
      "current_date=datetime.datetime(2025, 1, 28, 0, 9, 54, 849644, tzinfo=datetime.timezone.utc)\n",
      "<class 'datetime.datetime'> : current_date=datetime.datetime(2025, 1, 28, 0, 9, 54, 849644, tzinfo=datetime.timezone.utc)\n"
     ]
    }
   ],
   "source": [
    "from datetime import datetime, timedelta,timezone\n",
    "import pandas as pd\n",
    "\n",
    "# Data in backfill feature store goes from 2022-01-01 00:00:00+00:00 to '2024-11-30 23:00:00+0000', tz='UTC')\n",
    "\n",
    "# current_date = pd.to_datetime('2024-11-30 00:00:00+0000').floor('h')\n",
    "from datetime import datetime, timezone\n",
    "current_date = datetime.now(timezone.utc)\n",
    "\n",
    "#current_date = pd.to_datetime(aware_utcnow()).floor('h')\n",
    "print(f'{current_date=}')\n",
    "print(type(current_date),f': {current_date=}')"
   ]
  },
  {
   "cell_type": "code",
   "execution_count": 117,
   "metadata": {},
   "outputs": [
    {
     "data": {
      "text/plain": [
       "datetime.datetime(2024, 11, 29, 0, 9, 54, 849644, tzinfo=datetime.timezone.utc)"
      ]
     },
     "execution_count": 117,
     "metadata": {},
     "output_type": "execute_result"
    }
   ],
   "source": [
    "# we fetch raw data for the last 28 days, to add redundancy to our data pipeline\n",
    "fetch_data_to = current_date\n",
    "fetch_data_from = current_date - timedelta(days=60)\n",
    "fetch_data_from\n",
    "\n",
    "# data from 2023-11-05 23:00:00 to '2023-12-03 23:00:00' \n",
    "# to fill the 28 days backfill "
   ]
  },
  {
   "cell_type": "code",
   "execution_count": 118,
   "metadata": {},
   "outputs": [],
   "source": [
    "# Problem arising with data dates here "
   ]
  },
  {
   "cell_type": "code",
   "execution_count": 119,
   "metadata": {},
   "outputs": [],
   "source": [
    "from src.data import load_raw_data\n",
    "\n",
    "def fetch_batch_raw_data(from_date: datetime, to_date: datetime) -> pd.DataFrame:\n",
    "    from_date_ = pd.Timestamp(from_date - timedelta(days=7*52)).replace(tzinfo=None)\n",
    "    to_date_ = pd.Timestamp(to_date - timedelta(days=7*52)).replace(tzinfo=None)\n",
    "\n",
    "    print(f'{from_date_=}, {to_date_=}')\n",
    "\n",
    "    # Load data and normalize timezones for pickup_datetime\n",
    "    rides = load_raw_data(year=from_date_.year, months=from_date_.month)\n",
    "    rides['pickup_datetime'] = pd.to_datetime(rides['pickup_datetime'], errors='coerce').dt.tz_localize(None)\n",
    "    rides = rides[rides.pickup_datetime >= from_date_]\n",
    "\n",
    "    rides_2 = load_raw_data(year=to_date_.year, months=to_date_.month)\n",
    "    rides_2['pickup_datetime'] = pd.to_datetime(rides_2['pickup_datetime'], errors='coerce').dt.tz_localize(None)\n",
    "    rides_2 = rides_2[rides_2.pickup_datetime < to_date_]\n",
    "\n",
    "    rides = pd.concat([rides, rides_2])\n",
    "\n",
    "    # Shift the data to pretend this is recent data\n",
    "    rides['pickup_datetime'] += timedelta(days=7*52)\n",
    "\n",
    "    rides.sort_values(by=['pickup_location_id', 'pickup_datetime'], inplace=True)\n",
    "\n",
    "    return rides"
   ]
  },
  {
   "cell_type": "code",
   "execution_count": 120,
   "metadata": {},
   "outputs": [
    {
     "name": "stdout",
     "output_type": "stream",
     "text": [
      "from_date_=Timestamp('2023-12-01 00:09:54.849644'), to_date_=Timestamp('2024-01-30 00:09:54.849644')\n",
      "File 2023-12 was already in local storage\n",
      "File 2024-01 was already in local storage\n"
     ]
    },
    {
     "data": {
      "text/html": [
       "<div>\n",
       "<style scoped>\n",
       "    .dataframe tbody tr th:only-of-type {\n",
       "        vertical-align: middle;\n",
       "    }\n",
       "\n",
       "    .dataframe tbody tr th {\n",
       "        vertical-align: top;\n",
       "    }\n",
       "\n",
       "    .dataframe thead th {\n",
       "        text-align: right;\n",
       "    }\n",
       "</style>\n",
       "<table border=\"1\" class=\"dataframe\">\n",
       "  <thead>\n",
       "    <tr style=\"text-align: right;\">\n",
       "      <th></th>\n",
       "      <th>pickup_datetime</th>\n",
       "      <th>pickup_location_id</th>\n",
       "    </tr>\n",
       "  </thead>\n",
       "  <tbody>\n",
       "    <tr>\n",
       "      <th>7553</th>\n",
       "      <td>2024-11-29 03:21:20</td>\n",
       "      <td>1</td>\n",
       "    </tr>\n",
       "    <tr>\n",
       "      <th>18143</th>\n",
       "      <td>2024-11-29 07:56:50</td>\n",
       "      <td>1</td>\n",
       "    </tr>\n",
       "    <tr>\n",
       "      <th>18672</th>\n",
       "      <td>2024-11-29 09:17:27</td>\n",
       "      <td>1</td>\n",
       "    </tr>\n",
       "    <tr>\n",
       "      <th>30960</th>\n",
       "      <td>2024-11-29 11:55:46</td>\n",
       "      <td>1</td>\n",
       "    </tr>\n",
       "    <tr>\n",
       "      <th>40173</th>\n",
       "      <td>2024-11-29 11:59:57</td>\n",
       "      <td>1</td>\n",
       "    </tr>\n",
       "    <tr>\n",
       "      <th>...</th>\n",
       "      <td>...</td>\n",
       "      <td>...</td>\n",
       "    </tr>\n",
       "    <tr>\n",
       "      <th>2625232</th>\n",
       "      <td>2025-01-27 22:23:10</td>\n",
       "      <td>265</td>\n",
       "    </tr>\n",
       "    <tr>\n",
       "      <th>2625233</th>\n",
       "      <td>2025-01-27 22:23:10</td>\n",
       "      <td>265</td>\n",
       "    </tr>\n",
       "    <tr>\n",
       "      <th>2623446</th>\n",
       "      <td>2025-01-27 22:30:37</td>\n",
       "      <td>265</td>\n",
       "    </tr>\n",
       "    <tr>\n",
       "      <th>2627683</th>\n",
       "      <td>2025-01-27 23:04:45</td>\n",
       "      <td>265</td>\n",
       "    </tr>\n",
       "    <tr>\n",
       "      <th>2629024</th>\n",
       "      <td>2025-01-28 00:05:54</td>\n",
       "      <td>265</td>\n",
       "    </tr>\n",
       "  </tbody>\n",
       "</table>\n",
       "<p>6137114 rows × 2 columns</p>\n",
       "</div>"
      ],
      "text/plain": [
       "            pickup_datetime  pickup_location_id\n",
       "7553    2024-11-29 03:21:20                   1\n",
       "18143   2024-11-29 07:56:50                   1\n",
       "18672   2024-11-29 09:17:27                   1\n",
       "30960   2024-11-29 11:55:46                   1\n",
       "40173   2024-11-29 11:59:57                   1\n",
       "...                     ...                 ...\n",
       "2625232 2025-01-27 22:23:10                 265\n",
       "2625233 2025-01-27 22:23:10                 265\n",
       "2623446 2025-01-27 22:30:37                 265\n",
       "2627683 2025-01-27 23:04:45                 265\n",
       "2629024 2025-01-28 00:05:54                 265\n",
       "\n",
       "[6137114 rows x 2 columns]"
      ]
     },
     "execution_count": 120,
     "metadata": {},
     "output_type": "execute_result"
    }
   ],
   "source": [
    "rides = fetch_batch_raw_data(from_date=fetch_data_from, to_date=fetch_data_to)\n",
    "rides"
   ]
  },
  {
   "cell_type": "code",
   "execution_count": 129,
   "metadata": {},
   "outputs": [
    {
     "name": "stdout",
     "output_type": "stream",
     "text": [
      "2024-11-29 00:09:57\n",
      "2025-01-28 00:09:54\n"
     ]
    }
   ],
   "source": [
    "print(rides['pickup_datetime'].min())\n",
    "print(rides['pickup_datetime'].max())"
   ]
  },
  {
   "cell_type": "code",
   "execution_count": 130,
   "metadata": {},
   "outputs": [
    {
     "name": "stderr",
     "output_type": "stream",
     "text": [
      "100%|██████████| 262/262 [00:00<00:00, 993.72it/s] \n"
     ]
    }
   ],
   "source": [
    "from src.data import transform_raw_data_into_ts_data\n",
    "ts_data = transform_raw_data_into_ts_data(rides)"
   ]
  },
  {
   "cell_type": "code",
   "execution_count": 131,
   "metadata": {},
   "outputs": [
    {
     "name": "stdout",
     "output_type": "stream",
     "text": [
      "2024-11-29 00:00:00\n",
      "2025-01-28 00:00:00\n"
     ]
    }
   ],
   "source": [
    "print(ts_data['pickup_hour'].min())\n",
    "print(ts_data['pickup_hour'].max())"
   ]
  },
  {
   "cell_type": "code",
   "execution_count": 132,
   "metadata": {},
   "outputs": [
    {
     "data": {
      "text/html": [
       "<div>\n",
       "<style scoped>\n",
       "    .dataframe tbody tr th:only-of-type {\n",
       "        vertical-align: middle;\n",
       "    }\n",
       "\n",
       "    .dataframe tbody tr th {\n",
       "        vertical-align: top;\n",
       "    }\n",
       "\n",
       "    .dataframe thead th {\n",
       "        text-align: right;\n",
       "    }\n",
       "</style>\n",
       "<table border=\"1\" class=\"dataframe\">\n",
       "  <thead>\n",
       "    <tr style=\"text-align: right;\">\n",
       "      <th></th>\n",
       "      <th>pickup_hour</th>\n",
       "      <th>rides</th>\n",
       "      <th>pickup_location_id</th>\n",
       "      <th>pickup_ts</th>\n",
       "    </tr>\n",
       "  </thead>\n",
       "  <tbody>\n",
       "    <tr>\n",
       "      <th>0</th>\n",
       "      <td>2024-11-29 00:00:00+00:00</td>\n",
       "      <td>10</td>\n",
       "      <td>4</td>\n",
       "      <td>1732838400000</td>\n",
       "    </tr>\n",
       "    <tr>\n",
       "      <th>1</th>\n",
       "      <td>2024-11-29 01:00:00+00:00</td>\n",
       "      <td>7</td>\n",
       "      <td>4</td>\n",
       "      <td>1732842000000</td>\n",
       "    </tr>\n",
       "    <tr>\n",
       "      <th>2</th>\n",
       "      <td>2024-11-29 02:00:00+00:00</td>\n",
       "      <td>10</td>\n",
       "      <td>4</td>\n",
       "      <td>1732845600000</td>\n",
       "    </tr>\n",
       "    <tr>\n",
       "      <th>3</th>\n",
       "      <td>2024-11-29 03:00:00+00:00</td>\n",
       "      <td>4</td>\n",
       "      <td>4</td>\n",
       "      <td>1732849200000</td>\n",
       "    </tr>\n",
       "    <tr>\n",
       "      <th>4</th>\n",
       "      <td>2024-11-29 04:00:00+00:00</td>\n",
       "      <td>0</td>\n",
       "      <td>4</td>\n",
       "      <td>1732852800000</td>\n",
       "    </tr>\n",
       "    <tr>\n",
       "      <th>...</th>\n",
       "      <td>...</td>\n",
       "      <td>...</td>\n",
       "      <td>...</td>\n",
       "      <td>...</td>\n",
       "    </tr>\n",
       "    <tr>\n",
       "      <th>377537</th>\n",
       "      <td>2025-01-27 20:00:00+00:00</td>\n",
       "      <td>0</td>\n",
       "      <td>199</td>\n",
       "      <td>1738008000000</td>\n",
       "    </tr>\n",
       "    <tr>\n",
       "      <th>377538</th>\n",
       "      <td>2025-01-27 21:00:00+00:00</td>\n",
       "      <td>0</td>\n",
       "      <td>199</td>\n",
       "      <td>1738011600000</td>\n",
       "    </tr>\n",
       "    <tr>\n",
       "      <th>377539</th>\n",
       "      <td>2025-01-27 22:00:00+00:00</td>\n",
       "      <td>0</td>\n",
       "      <td>199</td>\n",
       "      <td>1738015200000</td>\n",
       "    </tr>\n",
       "    <tr>\n",
       "      <th>377540</th>\n",
       "      <td>2025-01-27 23:00:00+00:00</td>\n",
       "      <td>0</td>\n",
       "      <td>199</td>\n",
       "      <td>1738018800000</td>\n",
       "    </tr>\n",
       "    <tr>\n",
       "      <th>377541</th>\n",
       "      <td>2025-01-28 00:00:00+00:00</td>\n",
       "      <td>0</td>\n",
       "      <td>199</td>\n",
       "      <td>1738022400000</td>\n",
       "    </tr>\n",
       "  </tbody>\n",
       "</table>\n",
       "<p>377542 rows × 4 columns</p>\n",
       "</div>"
      ],
      "text/plain": [
       "                     pickup_hour  rides  pickup_location_id      pickup_ts\n",
       "0      2024-11-29 00:00:00+00:00     10                   4  1732838400000\n",
       "1      2024-11-29 01:00:00+00:00      7                   4  1732842000000\n",
       "2      2024-11-29 02:00:00+00:00     10                   4  1732845600000\n",
       "3      2024-11-29 03:00:00+00:00      4                   4  1732849200000\n",
       "4      2024-11-29 04:00:00+00:00      0                   4  1732852800000\n",
       "...                          ...    ...                 ...            ...\n",
       "377537 2025-01-27 20:00:00+00:00      0                 199  1738008000000\n",
       "377538 2025-01-27 21:00:00+00:00      0                 199  1738011600000\n",
       "377539 2025-01-27 22:00:00+00:00      0                 199  1738015200000\n",
       "377540 2025-01-27 23:00:00+00:00      0                 199  1738018800000\n",
       "377541 2025-01-28 00:00:00+00:00      0                 199  1738022400000\n",
       "\n",
       "[377542 rows x 4 columns]"
      ]
     },
     "execution_count": 132,
     "metadata": {},
     "output_type": "execute_result"
    }
   ],
   "source": [
    "# string to datetime\n",
    "ts_data['pickup_hour'] = pd.to_datetime(ts_data['pickup_hour'], utc=True)\n",
    "\n",
    "# add column with Unix epoch milliseconds\n",
    "ts_data['pickup_ts'] = ts_data['pickup_hour'].astype(int) // 10**6\n",
    "\n",
    "ts_data"
   ]
  },
  {
   "cell_type": "code",
   "execution_count": 125,
   "metadata": {},
   "outputs": [
    {
     "name": "stdout",
     "output_type": "stream",
     "text": [
      "2024-11-29 00:00:00\n",
      "2025-01-28 00:00:00\n"
     ]
    }
   ],
   "source": [
    "print(ts_data['pickup_hour'].min())\n",
    "print(ts_data['pickup_hour'].max())"
   ]
  },
  {
   "cell_type": "code",
   "execution_count": 133,
   "metadata": {},
   "outputs": [
    {
     "name": "stdout",
     "output_type": "stream",
     "text": [
      "2025-01-28 00:20:16,376 INFO: Closing external client and cleaning up certificates.\n",
      "Connection closed.\n",
      "2025-01-28 00:20:16,390 INFO: Initializing external client\n",
      "2025-01-28 00:20:16,390 INFO: Base URL: https://c.app.hopsworks.ai:443\n",
      "2025-01-28 00:20:17,406 INFO: Python Engine initialized.\n",
      "\n",
      "Logged in to project, explore it here https://c.app.hopsworks.ai:443/p/1192104\n"
     ]
    }
   ],
   "source": [
    "import hopsworks\n",
    "\n",
    "# connect to the project\n",
    "project = hopsworks.login(\n",
    "    project=config.HOPSWORKS_PROJECT_NAME,\n",
    "    api_key_value=config.HOPSWORKS_API_KEY\n",
    ")\n",
    "\n",
    "# connect to the feature store\n",
    "feature_store = project.get_feature_store()\n",
    "\n",
    "# connect to the feature group\n",
    "feature_group = feature_store.get_or_create_feature_group(\n",
    "    name=config.FEATURE_GROUP_NAME,# \"time_series_hourly_feature_group\"\n",
    "    version=config.FEATURE_GROUP_VERSION,\n",
    "    description=\"Time-series data at hourly frequency\",\n",
    "    primary_key = ['pickup_location_id', 'pickup_ts'],\n",
    "    event_time='pickup_ts',\n",
    ")"
   ]
  },
  {
   "cell_type": "code",
   "execution_count": 134,
   "metadata": {},
   "outputs": [
    {
     "name": "stdout",
     "output_type": "stream",
     "text": [
      "Total rows in ts_data: 377542\n"
     ]
    }
   ],
   "source": [
    "print(f\"Total rows in ts_data: {len(ts_data)}\")"
   ]
  },
  {
   "cell_type": "code",
   "execution_count": 135,
   "metadata": {},
   "outputs": [
    {
     "name": "stderr",
     "output_type": "stream",
     "text": [
      "Uploading Dataframe: 100.00% |██████████| Rows 377542/377542 | Elapsed Time: 01:06 | Remaining Time: 00:00\n"
     ]
    },
    {
     "name": "stdout",
     "output_type": "stream",
     "text": [
      "Launching job: time_series_hourly_feature_group_3_offline_fg_materialization\n",
      "Job started successfully, you can follow the progress at \n",
      "https://c.app.hopsworks.ai:443/p/1192104/jobs/named/time_series_hourly_feature_group_3_offline_fg_materialization/executions\n"
     ]
    },
    {
     "data": {
      "text/plain": [
       "(Job('time_series_hourly_feature_group_3_offline_fg_materialization', 'SPARK'),\n",
       " None)"
      ]
     },
     "execution_count": 135,
     "metadata": {},
     "output_type": "execute_result"
    }
   ],
   "source": [
    "# This is only the last 28 days from the current date set at the top btw,  notebook 11 has taken all of the 2022-2024\n",
    "feature_group.insert(ts_data, write_options={\"wait_for_job\": False})"
   ]
  }
 ],
 "metadata": {
  "kernelspec": {
   "display_name": ".venv",
   "language": "python",
   "name": "python3"
  },
  "language_info": {
   "codemirror_mode": {
    "name": "ipython",
    "version": 3
   },
   "file_extension": ".py",
   "mimetype": "text/x-python",
   "name": "python",
   "nbconvert_exporter": "python",
   "pygments_lexer": "ipython3",
   "version": "3.10.16"
  }
 },
 "nbformat": 4,
 "nbformat_minor": 2
}
