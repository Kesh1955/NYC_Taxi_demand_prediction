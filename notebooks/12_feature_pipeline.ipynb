{
 "cells": [
  {
   "cell_type": "code",
   "execution_count": 1,
   "metadata": {},
   "outputs": [],
   "source": [
    "import src.config as config"
   ]
  },
  {
   "cell_type": "code",
   "execution_count": 2,
   "metadata": {},
   "outputs": [
    {
     "data": {
      "text/plain": [
       "datetime.datetime(2024, 12, 21, 18, 18, 26, 8625, tzinfo=datetime.timezone.utc)"
      ]
     },
     "execution_count": 2,
     "metadata": {},
     "output_type": "execute_result"
    }
   ],
   "source": [
    "from datetime import datetime, timedelta,timezone\n",
    "\n",
    "def aware_utcnow():\n",
    "    return datetime.now(timezone.utc)\n",
    "aware_utcnow()"
   ]
  },
  {
   "cell_type": "code",
   "execution_count": null,
   "metadata": {},
   "outputs": [
    {
     "name": "stdout",
     "output_type": "stream",
     "text": [
      "current_date=Timestamp('2024-10-31 00:00:00')\n",
      "<class 'pandas._libs.tslibs.timestamps.Timestamp'> : current_date=Timestamp('2024-10-31 00:00:00')\n"
     ]
    }
   ],
   "source": [
    "import pandas as pd\n",
    "\n",
    "#current_date = pd.Timestamp('2024-10-31 00:00:00')\n",
    "current_date = pd.to_datetime('2024-10-30 23:00:00')\n",
    "\n",
    "#current_date = pd.to_datetime(aware_utcnow()).floor('h')\n",
    "print(f'{current_date=}')\n",
    "print(type(current_date),f': {current_date=}')"
   ]
  },
  {
   "cell_type": "code",
   "execution_count": 4,
   "metadata": {},
   "outputs": [
    {
     "data": {
      "text/plain": [
       "Timestamp('2024-10-03 00:00:00')"
      ]
     },
     "execution_count": 4,
     "metadata": {},
     "output_type": "execute_result"
    }
   ],
   "source": [
    "# we fetch raw data for the last 28 days, to add redundancy to our data pipeline\n",
    "fetch_data_to = current_date\n",
    "fetch_data_from = current_date - timedelta(days=28)\n",
    "fetch_data_from"
   ]
  },
  {
   "cell_type": "code",
   "execution_count": 5,
   "metadata": {},
   "outputs": [],
   "source": [
    "from src.data import load_raw_data\n",
    "\n",
    "def fetch_batch_raw_data(from_date: datetime, to_date: datetime) -> pd.DataFrame:\n",
    "    from_date_ = pd.Timestamp(from_date - timedelta(days=7*52)).replace(tzinfo=None)\n",
    "    to_date_ = pd.Timestamp(to_date - timedelta(days=7*52)).replace(tzinfo=None)\n",
    "\n",
    "    print(f'{from_date_=}, {to_date_=}')\n",
    "\n",
    "    # Load data and normalize timezones for pickup_datetime\n",
    "    rides = load_raw_data(year=from_date_.year, months=from_date_.month)\n",
    "    rides['pickup_datetime'] = pd.to_datetime(rides['pickup_datetime'], errors='coerce').dt.tz_localize(None)\n",
    "    rides = rides[rides.pickup_datetime >= from_date_]\n",
    "\n",
    "    rides_2 = load_raw_data(year=to_date_.year, months=to_date_.month)\n",
    "    rides_2['pickup_datetime'] = pd.to_datetime(rides_2['pickup_datetime'], errors='coerce').dt.tz_localize(None)\n",
    "    rides_2 = rides_2[rides_2.pickup_datetime < to_date_]\n",
    "\n",
    "    rides = pd.concat([rides, rides_2])\n",
    "\n",
    "    # Shift the data to pretend this is recent data\n",
    "    rides['pickup_datetime'] += timedelta(days=7*52)\n",
    "\n",
    "    rides.sort_values(by=['pickup_location_id', 'pickup_datetime'], inplace=True)\n",
    "\n",
    "    return rides"
   ]
  },
  {
   "cell_type": "code",
   "execution_count": 6,
   "metadata": {},
   "outputs": [
    {
     "name": "stdout",
     "output_type": "stream",
     "text": [
      "from_date_=Timestamp('2023-10-05 00:00:00'), to_date_=Timestamp('2023-11-02 00:00:00')\n",
      "File 2023-10 was already in local storage\n",
      "File 2023-11 was already in local storage\n"
     ]
    }
   ],
   "source": [
    "rides = fetch_batch_raw_data(from_date=fetch_data_from, to_date=fetch_data_to)"
   ]
  },
  {
   "cell_type": "code",
   "execution_count": 7,
   "metadata": {},
   "outputs": [
    {
     "name": "stderr",
     "output_type": "stream",
     "text": [
      "100%|██████████| 255/255 [00:00<00:00, 1470.75it/s]\n"
     ]
    }
   ],
   "source": [
    "from src.data import transform_raw_data_into_ts_data\n",
    "ts_data = transform_raw_data_into_ts_data(rides)"
   ]
  },
  {
   "cell_type": "code",
   "execution_count": 8,
   "metadata": {},
   "outputs": [],
   "source": [
    "# string to datetime\n",
    "ts_data['pickup_hour'] = pd.to_datetime(ts_data['pickup_hour'], utc=True)\n",
    "\n",
    "# add column with Unix epoch milliseconds\n",
    "ts_data['pickup_ts'] = ts_data['pickup_hour'].astype(int) // 10**6"
   ]
  },
  {
   "cell_type": "code",
   "execution_count": 9,
   "metadata": {},
   "outputs": [
    {
     "name": "stdout",
     "output_type": "stream",
     "text": [
      "2024-12-21 18:18:28,703 INFO: Initializing external client\n",
      "2024-12-21 18:18:28,704 INFO: Base URL: https://c.app.hopsworks.ai:443\n",
      "2024-12-21 18:18:30,104 INFO: Python Engine initialized.\n",
      "\n",
      "Logged in to project, explore it here https://c.app.hopsworks.ai:443/p/1192104\n"
     ]
    }
   ],
   "source": [
    "import hopsworks\n",
    "\n",
    "# connect to the project\n",
    "project = hopsworks.login(\n",
    "    project=config.HOPSWORKS_PROJECT_NAME,\n",
    "    api_key_value=config.HOPSWORKS_API_KEY\n",
    ")\n",
    "\n",
    "# connect to the feature store\n",
    "feature_store = project.get_feature_store()\n",
    "\n",
    "# connect to the feature group\n",
    "feature_group = feature_store.get_or_create_feature_group(\n",
    "    name=config.FEATURE_GROUP_NAME,\n",
    "    version=config.FEATURE_GROUP_VERSION,\n",
    "    description=\"Time-series data at hourly frequency\",\n",
    "    primary_key = ['pickup_location_id', 'pickup_ts'],\n",
    "    event_time='pickup_ts',\n",
    ")"
   ]
  },
  {
   "cell_type": "code",
   "execution_count": 10,
   "metadata": {},
   "outputs": [
    {
     "name": "stdout",
     "output_type": "stream",
     "text": [
      "Total rows in ts_data: 171360\n"
     ]
    }
   ],
   "source": [
    "print(f\"Total rows in ts_data: {len(ts_data)}\")"
   ]
  },
  {
   "cell_type": "code",
   "execution_count": 11,
   "metadata": {},
   "outputs": [
    {
     "name": "stdout",
     "output_type": "stream",
     "text": [
      "Feature Group created successfully, explore it at \n",
      "https://c.app.hopsworks.ai:443/p/1192104/fs/1181777/fg/1393062\n"
     ]
    },
    {
     "name": "stderr",
     "output_type": "stream",
     "text": [
      "Uploading Dataframe: 100.00% |██████████| Rows 171360/171360 | Elapsed Time: 00:36 | Remaining Time: 00:00\n"
     ]
    },
    {
     "name": "stdout",
     "output_type": "stream",
     "text": [
      "Launching job: time_series_hourly_feature_group_3_offline_fg_materialization\n",
      "Job started successfully, you can follow the progress at \n",
      "https://c.app.hopsworks.ai:443/p/1192104/jobs/named/time_series_hourly_feature_group_3_offline_fg_materialization/executions\n"
     ]
    },
    {
     "data": {
      "text/plain": [
       "(Job('time_series_hourly_feature_group_3_offline_fg_materialization', 'SPARK'),\n",
       " None)"
      ]
     },
     "execution_count": 11,
     "metadata": {},
     "output_type": "execute_result"
    }
   ],
   "source": [
    "feature_group.insert(ts_data, write_options={\"wait_for_job\": False})"
   ]
  }
 ],
 "metadata": {
  "kernelspec": {
   "display_name": ".venv",
   "language": "python",
   "name": "python3"
  },
  "language_info": {
   "codemirror_mode": {
    "name": "ipython",
    "version": 3
   },
   "file_extension": ".py",
   "mimetype": "text/x-python",
   "name": "python",
   "nbconvert_exporter": "python",
   "pygments_lexer": "ipython3",
   "version": "3.10.16"
  }
 },
 "nbformat": 4,
 "nbformat_minor": 2
}
